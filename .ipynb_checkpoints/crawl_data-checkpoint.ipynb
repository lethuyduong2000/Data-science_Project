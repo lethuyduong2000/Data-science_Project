{
 "cells": [
  {
   "cell_type": "code",
   "execution_count": 2,
   "id": "5436576b",
   "metadata": {},
   "outputs": [],
   "source": [
    "import requests\n",
    "import requests_cache\n",
    "from bs4 import BeautifulSoup\n",
    "import json\n",
    "import time\n",
    "import pandas as pd\n",
    "import datetime as dt\n",
    "import re\n",
    "from selenium import webdriver\n",
    "import urllib.robotparser"
   ]
  },
  {
   "cell_type": "code",
   "execution_count": 39,
   "id": "b6547a88",
   "metadata": {},
   "outputs": [
    {
     "data": {
      "text/plain": [
       "True"
      ]
     },
     "execution_count": 39,
     "metadata": {},
     "output_type": "execute_result"
    }
   ],
   "source": [
    "rp = urllib.robotparser.RobotFileParser()\n",
    "rp.set_url('https://tiki.vn/robots.txt')\n",
    "rp.read()\n",
    "rp.can_fetch('*', 'product_url = \"https://tiki.vn/api/v2/products/{}\"')"
   ]
  },
  {
   "cell_type": "code",
   "execution_count": 3,
   "id": "fc9b37cc",
   "metadata": {},
   "outputs": [],
   "source": [
    "sleep_time = 1"
   ]
  },
  {
   "cell_type": "code",
   "execution_count": 107,
   "id": "2c4d094e",
   "metadata": {},
   "outputs": [],
   "source": [
    "headers = {\"user-agent\": \"Mozilla/5.0 (Macintosh; Intel Mac OS X 11_1_0) AppleWebKit/537.36 (KHTML, like Gecko) Chrome/88.0.4324.96 Safari/537.36\"}"
   ]
  },
  {
   "cell_type": "code",
   "execution_count": 108,
   "id": "d18dac7b",
   "metadata": {},
   "outputs": [
    {
     "name": "stdout",
     "output_type": "stream",
     "text": [
      "Crawl page:  1\n",
      "url: https://tiki.vn/dien-thoai-may-tinh-bang/c1789?src=c.1789.hamburger_menu_fly_out_banner&page=1\n",
      "Crawl page:  2\n",
      "url: https://tiki.vn/dien-thoai-may-tinh-bang/c1789?src=c.1789.hamburger_menu_fly_out_banner&page=2\n",
      "Crawl page:  3\n",
      "url: https://tiki.vn/dien-thoai-may-tinh-bang/c1789?src=c.1789.hamburger_menu_fly_out_banner&page=3\n",
      "Crawl page:  4\n",
      "url: https://tiki.vn/dien-thoai-may-tinh-bang/c1789?src=c.1789.hamburger_menu_fly_out_banner&page=4\n",
      "Crawl page:  5\n",
      "url: https://tiki.vn/dien-thoai-may-tinh-bang/c1789?src=c.1789.hamburger_menu_fly_out_banner&page=5\n",
      "Crawl page:  6\n",
      "url: https://tiki.vn/dien-thoai-may-tinh-bang/c1789?src=c.1789.hamburger_menu_fly_out_banner&page=6\n",
      "Crawl page:  7\n",
      "url: https://tiki.vn/dien-thoai-may-tinh-bang/c1789?src=c.1789.hamburger_menu_fly_out_banner&page=7\n",
      "Crawl page:  8\n",
      "url: https://tiki.vn/dien-thoai-may-tinh-bang/c1789?src=c.1789.hamburger_menu_fly_out_banner&page=8\n",
      "Crawl page:  9\n",
      "url: https://tiki.vn/dien-thoai-may-tinh-bang/c1789?src=c.1789.hamburger_menu_fly_out_banner&page=9\n",
      "Crawl page:  10\n",
      "url: https://tiki.vn/dien-thoai-may-tinh-bang/c1789?src=c.1789.hamburger_menu_fly_out_banner&page=10\n",
      "Crawl page:  11\n",
      "url: https://tiki.vn/dien-thoai-may-tinh-bang/c1789?src=c.1789.hamburger_menu_fly_out_banner&page=11\n",
      "Crawl page:  12\n",
      "url: https://tiki.vn/dien-thoai-may-tinh-bang/c1789?src=c.1789.hamburger_menu_fly_out_banner&page=12\n",
      "Crawl page:  13\n",
      "url: https://tiki.vn/dien-thoai-may-tinh-bang/c1789?src=c.1789.hamburger_menu_fly_out_banner&page=13\n"
     ]
    },
    {
     "ename": "KeyboardInterrupt",
     "evalue": "",
     "output_type": "error",
     "traceback": [
      "\u001b[1;31m---------------------------------------------------------------------------\u001b[0m",
      "\u001b[1;31mKeyboardInterrupt\u001b[0m                         Traceback (most recent call last)",
      "\u001b[1;32m~\\AppData\\Local\\Temp/ipykernel_1900/1388167829.py\u001b[0m in \u001b[0;36m<module>\u001b[1;34m\u001b[0m\n\u001b[0;32m     16\u001b[0m     \u001b[1;32mif\u001b[0m \u001b[1;33m(\u001b[0m\u001b[0mresponse\u001b[0m\u001b[1;33m.\u001b[0m\u001b[0mstatus_code\u001b[0m \u001b[1;33m!=\u001b[0m \u001b[1;36m200\u001b[0m\u001b[1;33m)\u001b[0m\u001b[1;33m:\u001b[0m\u001b[1;33m\u001b[0m\u001b[1;33m\u001b[0m\u001b[0m\n\u001b[0;32m     17\u001b[0m             \u001b[1;32mbreak\u001b[0m\u001b[1;33m\u001b[0m\u001b[1;33m\u001b[0m\u001b[0m\n\u001b[1;32m---> 18\u001b[1;33m     \u001b[0mparser\u001b[0m \u001b[1;33m=\u001b[0m \u001b[0mBeautifulSoup\u001b[0m\u001b[1;33m(\u001b[0m\u001b[0mresponse\u001b[0m\u001b[1;33m.\u001b[0m\u001b[0mtext\u001b[0m\u001b[1;33m,\u001b[0m \u001b[1;34m'html.parser'\u001b[0m\u001b[1;33m)\u001b[0m\u001b[1;33m\u001b[0m\u001b[1;33m\u001b[0m\u001b[0m\n\u001b[0m\u001b[0;32m     19\u001b[0m     \u001b[0mproduct_box\u001b[0m \u001b[1;33m=\u001b[0m \u001b[0mparser\u001b[0m\u001b[1;33m.\u001b[0m\u001b[0mfind_all\u001b[0m\u001b[1;33m(\u001b[0m\u001b[1;34m'a'\u001b[0m\u001b[1;33m,\u001b[0m \u001b[0mclass_\u001b[0m\u001b[1;33m=\u001b[0m\u001b[1;34m\"product-item\"\u001b[0m\u001b[1;33m)\u001b[0m\u001b[1;33m\u001b[0m\u001b[1;33m\u001b[0m\u001b[0m\n\u001b[0;32m     20\u001b[0m     \u001b[1;32mif\u001b[0m \u001b[1;33m(\u001b[0m\u001b[0mlen\u001b[0m\u001b[1;33m(\u001b[0m\u001b[0mproduct_box\u001b[0m\u001b[1;33m)\u001b[0m \u001b[1;33m==\u001b[0m \u001b[1;36m0\u001b[0m\u001b[1;33m)\u001b[0m\u001b[1;33m:\u001b[0m\u001b[1;33m\u001b[0m\u001b[1;33m\u001b[0m\u001b[0m\n",
      "\u001b[1;32m~\\anaconda3\\envs\\min_ds-env\\lib\\site-packages\\bs4\\__init__.py\u001b[0m in \u001b[0;36m__init__\u001b[1;34m(self, markup, features, builder, parse_only, from_encoding, exclude_encodings, element_classes, **kwargs)\u001b[0m\n\u001b[0;32m    346\u001b[0m             \u001b[0mself\u001b[0m\u001b[1;33m.\u001b[0m\u001b[0mreset\u001b[0m\u001b[1;33m(\u001b[0m\u001b[1;33m)\u001b[0m\u001b[1;33m\u001b[0m\u001b[1;33m\u001b[0m\u001b[0m\n\u001b[0;32m    347\u001b[0m             \u001b[1;32mtry\u001b[0m\u001b[1;33m:\u001b[0m\u001b[1;33m\u001b[0m\u001b[1;33m\u001b[0m\u001b[0m\n\u001b[1;32m--> 348\u001b[1;33m                 \u001b[0mself\u001b[0m\u001b[1;33m.\u001b[0m\u001b[0m_feed\u001b[0m\u001b[1;33m(\u001b[0m\u001b[1;33m)\u001b[0m\u001b[1;33m\u001b[0m\u001b[1;33m\u001b[0m\u001b[0m\n\u001b[0m\u001b[0;32m    349\u001b[0m                 \u001b[0msuccess\u001b[0m \u001b[1;33m=\u001b[0m \u001b[1;32mTrue\u001b[0m\u001b[1;33m\u001b[0m\u001b[1;33m\u001b[0m\u001b[0m\n\u001b[0;32m    350\u001b[0m                 \u001b[1;32mbreak\u001b[0m\u001b[1;33m\u001b[0m\u001b[1;33m\u001b[0m\u001b[0m\n",
      "\u001b[1;32m~\\anaconda3\\envs\\min_ds-env\\lib\\site-packages\\bs4\\__init__.py\u001b[0m in \u001b[0;36m_feed\u001b[1;34m(self)\u001b[0m\n\u001b[0;32m    432\u001b[0m         \u001b[0mself\u001b[0m\u001b[1;33m.\u001b[0m\u001b[0mbuilder\u001b[0m\u001b[1;33m.\u001b[0m\u001b[0mreset\u001b[0m\u001b[1;33m(\u001b[0m\u001b[1;33m)\u001b[0m\u001b[1;33m\u001b[0m\u001b[1;33m\u001b[0m\u001b[0m\n\u001b[0;32m    433\u001b[0m \u001b[1;33m\u001b[0m\u001b[0m\n\u001b[1;32m--> 434\u001b[1;33m         \u001b[0mself\u001b[0m\u001b[1;33m.\u001b[0m\u001b[0mbuilder\u001b[0m\u001b[1;33m.\u001b[0m\u001b[0mfeed\u001b[0m\u001b[1;33m(\u001b[0m\u001b[0mself\u001b[0m\u001b[1;33m.\u001b[0m\u001b[0mmarkup\u001b[0m\u001b[1;33m)\u001b[0m\u001b[1;33m\u001b[0m\u001b[1;33m\u001b[0m\u001b[0m\n\u001b[0m\u001b[0;32m    435\u001b[0m         \u001b[1;31m# Close out any unfinished strings and close all the open tags.\u001b[0m\u001b[1;33m\u001b[0m\u001b[1;33m\u001b[0m\u001b[1;33m\u001b[0m\u001b[0m\n\u001b[0;32m    436\u001b[0m         \u001b[0mself\u001b[0m\u001b[1;33m.\u001b[0m\u001b[0mendData\u001b[0m\u001b[1;33m(\u001b[0m\u001b[1;33m)\u001b[0m\u001b[1;33m\u001b[0m\u001b[1;33m\u001b[0m\u001b[0m\n",
      "\u001b[1;32m~\\anaconda3\\envs\\min_ds-env\\lib\\site-packages\\bs4\\builder\\_htmlparser.py\u001b[0m in \u001b[0;36mfeed\u001b[1;34m(self, markup)\u001b[0m\n\u001b[0;32m    375\u001b[0m         \u001b[0mparser\u001b[0m\u001b[1;33m.\u001b[0m\u001b[0msoup\u001b[0m \u001b[1;33m=\u001b[0m \u001b[0mself\u001b[0m\u001b[1;33m.\u001b[0m\u001b[0msoup\u001b[0m\u001b[1;33m\u001b[0m\u001b[1;33m\u001b[0m\u001b[0m\n\u001b[0;32m    376\u001b[0m         \u001b[1;32mtry\u001b[0m\u001b[1;33m:\u001b[0m\u001b[1;33m\u001b[0m\u001b[1;33m\u001b[0m\u001b[0m\n\u001b[1;32m--> 377\u001b[1;33m             \u001b[0mparser\u001b[0m\u001b[1;33m.\u001b[0m\u001b[0mfeed\u001b[0m\u001b[1;33m(\u001b[0m\u001b[0mmarkup\u001b[0m\u001b[1;33m)\u001b[0m\u001b[1;33m\u001b[0m\u001b[1;33m\u001b[0m\u001b[0m\n\u001b[0m\u001b[0;32m    378\u001b[0m             \u001b[0mparser\u001b[0m\u001b[1;33m.\u001b[0m\u001b[0mclose\u001b[0m\u001b[1;33m(\u001b[0m\u001b[1;33m)\u001b[0m\u001b[1;33m\u001b[0m\u001b[1;33m\u001b[0m\u001b[0m\n\u001b[0;32m    379\u001b[0m         \u001b[1;32mexcept\u001b[0m \u001b[0mHTMLParseError\u001b[0m \u001b[1;32mas\u001b[0m \u001b[0me\u001b[0m\u001b[1;33m:\u001b[0m\u001b[1;33m\u001b[0m\u001b[1;33m\u001b[0m\u001b[0m\n",
      "\u001b[1;32m~\\anaconda3\\envs\\min_ds-env\\lib\\html\\parser.py\u001b[0m in \u001b[0;36mfeed\u001b[1;34m(self, data)\u001b[0m\n\u001b[0;32m    109\u001b[0m         \"\"\"\n\u001b[0;32m    110\u001b[0m         \u001b[0mself\u001b[0m\u001b[1;33m.\u001b[0m\u001b[0mrawdata\u001b[0m \u001b[1;33m=\u001b[0m \u001b[0mself\u001b[0m\u001b[1;33m.\u001b[0m\u001b[0mrawdata\u001b[0m \u001b[1;33m+\u001b[0m \u001b[0mdata\u001b[0m\u001b[1;33m\u001b[0m\u001b[1;33m\u001b[0m\u001b[0m\n\u001b[1;32m--> 111\u001b[1;33m         \u001b[0mself\u001b[0m\u001b[1;33m.\u001b[0m\u001b[0mgoahead\u001b[0m\u001b[1;33m(\u001b[0m\u001b[1;36m0\u001b[0m\u001b[1;33m)\u001b[0m\u001b[1;33m\u001b[0m\u001b[1;33m\u001b[0m\u001b[0m\n\u001b[0m\u001b[0;32m    112\u001b[0m \u001b[1;33m\u001b[0m\u001b[0m\n\u001b[0;32m    113\u001b[0m     \u001b[1;32mdef\u001b[0m \u001b[0mclose\u001b[0m\u001b[1;33m(\u001b[0m\u001b[0mself\u001b[0m\u001b[1;33m)\u001b[0m\u001b[1;33m:\u001b[0m\u001b[1;33m\u001b[0m\u001b[1;33m\u001b[0m\u001b[0m\n",
      "\u001b[1;32m~\\anaconda3\\envs\\min_ds-env\\lib\\html\\parser.py\u001b[0m in \u001b[0;36mgoahead\u001b[1;34m(self, end)\u001b[0m\n\u001b[0;32m    169\u001b[0m             \u001b[1;32mif\u001b[0m \u001b[0mstartswith\u001b[0m\u001b[1;33m(\u001b[0m\u001b[1;34m'<'\u001b[0m\u001b[1;33m,\u001b[0m \u001b[0mi\u001b[0m\u001b[1;33m)\u001b[0m\u001b[1;33m:\u001b[0m\u001b[1;33m\u001b[0m\u001b[1;33m\u001b[0m\u001b[0m\n\u001b[0;32m    170\u001b[0m                 \u001b[1;32mif\u001b[0m \u001b[0mstarttagopen\u001b[0m\u001b[1;33m.\u001b[0m\u001b[0mmatch\u001b[0m\u001b[1;33m(\u001b[0m\u001b[0mrawdata\u001b[0m\u001b[1;33m,\u001b[0m \u001b[0mi\u001b[0m\u001b[1;33m)\u001b[0m\u001b[1;33m:\u001b[0m \u001b[1;31m# < + letter\u001b[0m\u001b[1;33m\u001b[0m\u001b[1;33m\u001b[0m\u001b[0m\n\u001b[1;32m--> 171\u001b[1;33m                     \u001b[0mk\u001b[0m \u001b[1;33m=\u001b[0m \u001b[0mself\u001b[0m\u001b[1;33m.\u001b[0m\u001b[0mparse_starttag\u001b[0m\u001b[1;33m(\u001b[0m\u001b[0mi\u001b[0m\u001b[1;33m)\u001b[0m\u001b[1;33m\u001b[0m\u001b[1;33m\u001b[0m\u001b[0m\n\u001b[0m\u001b[0;32m    172\u001b[0m                 \u001b[1;32melif\u001b[0m \u001b[0mstartswith\u001b[0m\u001b[1;33m(\u001b[0m\u001b[1;34m\"</\"\u001b[0m\u001b[1;33m,\u001b[0m \u001b[0mi\u001b[0m\u001b[1;33m)\u001b[0m\u001b[1;33m:\u001b[0m\u001b[1;33m\u001b[0m\u001b[1;33m\u001b[0m\u001b[0m\n\u001b[0;32m    173\u001b[0m                     \u001b[0mk\u001b[0m \u001b[1;33m=\u001b[0m \u001b[0mself\u001b[0m\u001b[1;33m.\u001b[0m\u001b[0mparse_endtag\u001b[0m\u001b[1;33m(\u001b[0m\u001b[0mi\u001b[0m\u001b[1;33m)\u001b[0m\u001b[1;33m\u001b[0m\u001b[1;33m\u001b[0m\u001b[0m\n",
      "\u001b[1;32m~\\anaconda3\\envs\\min_ds-env\\lib\\html\\parser.py\u001b[0m in \u001b[0;36mparse_starttag\u001b[1;34m(self, i)\u001b[0m\n\u001b[0;32m    343\u001b[0m             \u001b[0mself\u001b[0m\u001b[1;33m.\u001b[0m\u001b[0mhandle_startendtag\u001b[0m\u001b[1;33m(\u001b[0m\u001b[0mtag\u001b[0m\u001b[1;33m,\u001b[0m \u001b[0mattrs\u001b[0m\u001b[1;33m)\u001b[0m\u001b[1;33m\u001b[0m\u001b[1;33m\u001b[0m\u001b[0m\n\u001b[0;32m    344\u001b[0m         \u001b[1;32melse\u001b[0m\u001b[1;33m:\u001b[0m\u001b[1;33m\u001b[0m\u001b[1;33m\u001b[0m\u001b[0m\n\u001b[1;32m--> 345\u001b[1;33m             \u001b[0mself\u001b[0m\u001b[1;33m.\u001b[0m\u001b[0mhandle_starttag\u001b[0m\u001b[1;33m(\u001b[0m\u001b[0mtag\u001b[0m\u001b[1;33m,\u001b[0m \u001b[0mattrs\u001b[0m\u001b[1;33m)\u001b[0m\u001b[1;33m\u001b[0m\u001b[1;33m\u001b[0m\u001b[0m\n\u001b[0m\u001b[0;32m    346\u001b[0m             \u001b[1;32mif\u001b[0m \u001b[0mtag\u001b[0m \u001b[1;32min\u001b[0m \u001b[0mself\u001b[0m\u001b[1;33m.\u001b[0m\u001b[0mCDATA_CONTENT_ELEMENTS\u001b[0m\u001b[1;33m:\u001b[0m\u001b[1;33m\u001b[0m\u001b[1;33m\u001b[0m\u001b[0m\n\u001b[0;32m    347\u001b[0m                 \u001b[0mself\u001b[0m\u001b[1;33m.\u001b[0m\u001b[0mset_cdata_mode\u001b[0m\u001b[1;33m(\u001b[0m\u001b[0mtag\u001b[0m\u001b[1;33m)\u001b[0m\u001b[1;33m\u001b[0m\u001b[1;33m\u001b[0m\u001b[0m\n",
      "\u001b[1;32m~\\anaconda3\\envs\\min_ds-env\\lib\\site-packages\\bs4\\builder\\_htmlparser.py\u001b[0m in \u001b[0;36mhandle_starttag\u001b[1;34m(self, name, attrs, handle_empty_element)\u001b[0m\n\u001b[0;32m    153\u001b[0m             \u001b[0msourcepos\u001b[0m\u001b[1;33m=\u001b[0m\u001b[0msourcepos\u001b[0m\u001b[1;33m\u001b[0m\u001b[1;33m\u001b[0m\u001b[0m\n\u001b[0;32m    154\u001b[0m         )\n\u001b[1;32m--> 155\u001b[1;33m         \u001b[1;32mif\u001b[0m \u001b[0mtag\u001b[0m \u001b[1;32mand\u001b[0m \u001b[0mtag\u001b[0m\u001b[1;33m.\u001b[0m\u001b[0mis_empty_element\u001b[0m \u001b[1;32mand\u001b[0m \u001b[0mhandle_empty_element\u001b[0m\u001b[1;33m:\u001b[0m\u001b[1;33m\u001b[0m\u001b[1;33m\u001b[0m\u001b[0m\n\u001b[0m\u001b[0;32m    156\u001b[0m             \u001b[1;31m# Unlike other parsers, html.parser doesn't send separate end tag\u001b[0m\u001b[1;33m\u001b[0m\u001b[1;33m\u001b[0m\u001b[1;33m\u001b[0m\u001b[0m\n\u001b[0;32m    157\u001b[0m             \u001b[1;31m# events for empty-element tags. (It's handled in\u001b[0m\u001b[1;33m\u001b[0m\u001b[1;33m\u001b[0m\u001b[1;33m\u001b[0m\u001b[0m\n",
      "\u001b[1;32m~\\anaconda3\\envs\\min_ds-env\\lib\\site-packages\\bs4\\element.py\u001b[0m in \u001b[0;36mis_empty_element\u001b[1;34m(self)\u001b[0m\n\u001b[0;32m   1182\u001b[0m         \u001b[1;32mreturn\u001b[0m \u001b[0mclone\u001b[0m\u001b[1;33m\u001b[0m\u001b[1;33m\u001b[0m\u001b[0m\n\u001b[0;32m   1183\u001b[0m \u001b[1;33m\u001b[0m\u001b[0m\n\u001b[1;32m-> 1184\u001b[1;33m     \u001b[1;33m@\u001b[0m\u001b[0mproperty\u001b[0m\u001b[1;33m\u001b[0m\u001b[1;33m\u001b[0m\u001b[0m\n\u001b[0m\u001b[0;32m   1185\u001b[0m     \u001b[1;32mdef\u001b[0m \u001b[0mis_empty_element\u001b[0m\u001b[1;33m(\u001b[0m\u001b[0mself\u001b[0m\u001b[1;33m)\u001b[0m\u001b[1;33m:\u001b[0m\u001b[1;33m\u001b[0m\u001b[1;33m\u001b[0m\u001b[0m\n\u001b[0;32m   1186\u001b[0m         \"\"\"Is this tag an empty-element tag? (aka a self-closing tag)\n",
      "\u001b[1;31mKeyboardInterrupt\u001b[0m: "
     ]
    }
   ],
   "source": [
    "url = \"https://tiki.vn/dien-thoai-may-tinh-bang/c1789?src=c.1789.hamburger_menu_fly_out_banner&page={}\"\n",
    "product_url = \"https://tiki.vn/api/v2/products/{}\"\n",
    "product_list = []\n",
    "product_detail_list = []\n",
    "name_list = []\n",
    "quantity_sold_list = []\n",
    "i = 1\n",
    "while (True):\n",
    "    print(\"Crawl page: \", i)\n",
    "    requests_cache.install_cache()\n",
    "    print('url:', url.format(i))\n",
    "    response = requests.get(url.format(i), headers=headers)\n",
    "    if not response.from_cache: \n",
    "        time.sleep(sleep_time)\n",
    "        response = requests.get(url.format(i), headers=headers)\n",
    "    if (response.status_code != 200):\n",
    "            break\n",
    "    parser = BeautifulSoup(response.text, 'html.parser')  \n",
    "    product_box = parser.find_all('a', class_=\"product-item\")\n",
    "    if (len(product_box) == 0):\n",
    "        break\n",
    "    \n",
    "    for product in product_box:\n",
    "        # name of product\n",
    "        name_tags = product.find(class_ = 'name')\n",
    "        name_list.append(name_tags.string)        \n",
    "        # number of products sold\n",
    "        quantity_sold = product.find('div', class_ = 'styles__StyledQtySold-sc-732h27-2')\n",
    "        if quantity_sold == None:\n",
    "            quantity_sold_list.append('0')\n",
    "        else: quantity_sold_list.append(quantity_sold.string)\n",
    "    i += 1"
   ]
  },
  {
   "cell_type": "code",
   "execution_count": 109,
   "id": "92f6e081",
   "metadata": {},
   "outputs": [
    {
     "data": {
      "text/plain": [
       "576"
      ]
     },
     "execution_count": 109,
     "metadata": {},
     "output_type": "execute_result"
    }
   ],
   "source": [
    "len(name_list)"
   ]
  },
  {
   "cell_type": "code",
   "execution_count": 110,
   "id": "cf5cf4d2",
   "metadata": {},
   "outputs": [
    {
     "data": {
      "text/plain": [
       "576"
      ]
     },
     "execution_count": 110,
     "metadata": {},
     "output_type": "execute_result"
    }
   ],
   "source": [
    "len(quantity_sold_list)"
   ]
  },
  {
   "cell_type": "code",
   "execution_count": 112,
   "id": "6764bd59",
   "metadata": {},
   "outputs": [
    {
     "data": {
      "text/plain": [
       "'Điện Thoại Samsung Galaxy M31 (6GB/128GB) - Hàng Chính Hãng'"
      ]
     },
     "execution_count": 112,
     "metadata": {},
     "output_type": "execute_result"
    }
   ],
   "source": [
    "name_list[48]"
   ]
  },
  {
   "cell_type": "code",
   "execution_count": 90,
   "id": "b69e5655",
   "metadata": {},
   "outputs": [
    {
     "data": {
      "text/plain": [
       "['Đã bán 1000+',\n",
       " 'Đã bán 1000+',\n",
       " 'Đã bán 1000+',\n",
       " 'Đã bán 6',\n",
       " 'Đã bán 1000+',\n",
       " 'Đã bán 1000+',\n",
       " 'Đã bán 1000+',\n",
       " 'Đã bán 245',\n",
       " 'Đã bán 479',\n",
       " '0',\n",
       " 'Đã bán 667',\n",
       " 'Đã bán 482',\n",
       " '0',\n",
       " 'Đã bán 5',\n",
       " 'Đã bán 12',\n",
       " 'Đã bán 1000+',\n",
       " 'Đã bán 283',\n",
       " 'Đã bán 1000+',\n",
       " 'Đã bán 1000+',\n",
       " 'Đã bán 1000+',\n",
       " '0',\n",
       " 'Đã bán 50',\n",
       " 'Đã bán 120',\n",
       " 'Đã bán 5',\n",
       " 'Đã bán 367',\n",
       " 'Đã bán 225',\n",
       " 'Đã bán 400',\n",
       " 'Đã bán 1000+',\n",
       " 'Đã bán 1000+',\n",
       " '0',\n",
       " 'Đã bán 248',\n",
       " 'Đã bán 1000+',\n",
       " 'Đã bán 13',\n",
       " 'Đã bán 424',\n",
       " 'Đã bán 128',\n",
       " 'Đã bán 1000+',\n",
       " 'Đã bán 698',\n",
       " 'Đã bán 92',\n",
       " 'Đã bán 1000+',\n",
       " 'Đã bán 481',\n",
       " 'Đã bán 888',\n",
       " 'Đã bán 377',\n",
       " 'Đã bán 885',\n",
       " 'Đã bán 835',\n",
       " 'Đã bán 18',\n",
       " 'Đã bán 124',\n",
       " 'Đã bán 289',\n",
       " 'Đã bán 447']"
      ]
     },
     "execution_count": 90,
     "metadata": {},
     "output_type": "execute_result"
    }
   ],
   "source": [
    "quantity_sold_list"
   ]
  },
  {
   "cell_type": "code",
   "execution_count": 29,
   "id": "57d26c89",
   "metadata": {},
   "outputs": [
    {
     "data": {
      "text/plain": [
       "58259141"
      ]
     },
     "execution_count": 29,
     "metadata": {},
     "output_type": "execute_result"
    }
   ],
   "source": [
    "item_data = product_box[0].get(\"data-view-content\")\n",
    "item_data_dict = json.loads(item_data)\n",
    "item_data_dict['click_data']['id']"
   ]
  },
  {
   "cell_type": "code",
   "execution_count": 31,
   "id": "5ab3c87c",
   "metadata": {},
   "outputs": [],
   "source": [
    "response = requests.get(product_url.format('70766415'), headers=headers)\n",
    "if (response.status_code == 200):\n",
    "    product_detail_list.append(response.text)\n",
    "#     print(\"Crawl product: \", product_id, \": \", response.status_code)"
   ]
  },
  {
   "cell_type": "code",
   "execution_count": 37,
   "id": "f25551ee",
   "metadata": {},
   "outputs": [
    {
     "data": {
      "text/plain": [
       "'Điện Thoại iPhone 12 64GB - Hàng  Chính Hãng'"
      ]
     },
     "execution_count": 37,
     "metadata": {},
     "output_type": "execute_result"
    }
   ],
   "source": [
    "item = product_detail_list[0]\n",
    "to_json = json.loads(item)\n",
    "to_json['name']"
   ]
  },
  {
   "cell_type": "code",
   "execution_count": 38,
   "id": "3632eed8",
   "metadata": {},
   "outputs": [
    {
     "data": {
      "text/plain": [
       "'{\"id\":70766415,\"master_id\":70766415,\"sku\":\"7476447002793\",\"name\":\"Điện Thoại iPhone 12 64GB - Hàng  Chính Hãng\",\"url_key\":\"dien-thoai-iphone-12-64gb-hang-chinh-hang-p70766415\",\"url_path\":\"dien-thoai-iphone-12-64gb-hang-chinh-hang-p70766415.html?spid=70766425\",\"type\":\"configurable\",\"book_cover\":null,\"short_description\":\"Màn hình Super Retina OLED rộng 6.1 inch, thân máy nguyên khối cứng cáp \\\\u0026 bền bỉApple đã quyết định giữ nguyên thiết kế notch \\\\\"tai thỏ\\\\\" quen thuộc cho màn hình iPhone 12, nhưn...\",\"price\":18950000,\"list_price\":24990000,\"badges\":[{\"code\":\"new_pdp\",\"text\":\"v1\"}],\"badges_new\":[{\"placement\":\"pre_bottom\",\"code\":\"tikiCard\",\"type\":\"minor_badge\",\"icon\":\"https://salt.tikicdn.com/ts/upload/7b/17/f7/4860983e93ea3c264ae0d932c58ec4f7.png\",\"icon_width\":48,\"icon_height\":24,\"text_color\":null,\"background_color\":null,\"href\":\"https://tiki.vn/khuyen-mai/mo-the-tikicard?src=pdp_badge\",\"text\":\"Hoàn tiền 15% tối đa 600k/tháng\"},{\"placement\":\"bottom\",\"code\":\"freeship_tikifast\",\"type\":\"icon_badge\",\"icon\":\"https://salt.tikicdn.com/ts/upload/dc/0d/49/ef9dc5d8164bd62b011e54276502b342.png\",\"icon_width\":182,\"icon_height\":32,\"text_color\":null,\"background_color\":null,\"href\":null,\"text\":null},{\"placement\":\"pre_bottom\",\"code\":\"freeship_tikifast\",\"type\":\"minor_badge\",\"icon\":\"https://salt.tikicdn.com/ts/upload/21/b3/00/bab4964906fcb6c56d57d9d69a6b2995.png\",\"icon_width\":76,\"icon_height\":11,\"text_color\":null,\"background_color\":null,\"href\":\"https://tiki.vn/khuyen-mai/mien-phi-van-chuyen?src=pdp_badge\",\"text\":\"Miễn phí vận chuyển\"}],\"discount\":6040000,\"discount_rate\":25,\"rating_average\":4.8,\"review_count\":283,\"review_text\":\"(283)\",\"favourite_count\":0,\"thumbnail_url\":\"https://salt.tikicdn.com/cache/280x280/ts/product/f8/72/39/6a8b87506acc84044ff40da00f1b9ec7.jpg\",\"has_ebook\":false,\"inventory_status\":\"available\",\"inventory_type\":\"instock\",\"productset_group_name\":\"Điện Thoại - Máy Tính Bảng/Điện thoại Smartphone\",\"is_fresh\":false,\"seller\":null,\"is_flower\":false,\"is_gift_card\":false,\"salable_type\":null,\"data_version\":1,\"day_ago_created\":308,\"all_time_quantity_sold\":651,\"meta_title\":\"\",\"meta_description\":\"\",\"meta_keywords\":\"\",\"is_baby_milk\":false,\"is_acoholic_drink\":false,\"description\":\"\\\\u003cspan class=\\'description-separate\\'\\\\u003e\\\\u003c/span\\\\u003eHàng chính hãng mã VN/A, Mới 100%, Nguyên Seal\\\\nBộ nhớ trong: 64 GB\\\\nLoại SIM: Dual SIM (nano‑SIM and eSIM)\\\\nLoại màn hình: Super Retina XDR OLED, HDR10, Dolby Vision, Wide color gamut, True-tone\\\\nKích thước màn hình: 6.1 inches\\\\nĐộ phân giải màn hình: 1170 x 2532 pixels\\\\nHệ điều hành: iOS14\\\\u003ch5\\\\u003e\\\\u003ciframe src=\\\\\"//www.youtube.com/embed/65JrtwtTOdc?list=RDCMUCE_M8A5yxnLfW0KghEeajjw\\\\u0026amp;index=3\\\\\" width=\\\\\"750\\\\\" height=\\\\\"421\\\\\" allowfullscreen=\\\\\"allowfullscreen\\\\\"\\\\u003e\\\\u003c/iframe\\\\u003e\\\\u003c/h5\\\\u003e\\\\n\\\\u003ch5\\\\u003eMàn hình Super Retina OLED rộng 6.1 inch, thân máy nguyên khối cứng cáp \\\\u0026amp; bền bỉ\\\\u003c/h5\\\\u003e\\\\n\\\\u003cp\\\\u003eApple đã quyết định giữ nguyên thiết kế notch \\\\\"tai thỏ\\\\\" quen thuộc cho màn hình iPhone 12, nhưng phần notch đã được tinh giản nhỏ gọn lại nhằm tạo thêm tỷ lệ hiển thị hình ảnh trên màn hình. Về kích thước, màn hình\\xa0của máy rộng 6.1 inch, độ phân giải\\xa02532x\\xa01170pixels.\\\\u003c/p\\\\u003e\\\\n\\\\u003cp\\\\u003e\\\\u003cimg src=\\\\\"https://salt.tikicdn.com/ts/tmp/51/01/b0/efb7fbdc5a0278b7ceac6d1450b1196e.jpg\\\\\" alt=\\\\\"Điện Thoại iPhone 12 Mini 256GB - Hàng  Chính Hãng\\\\\" width=\\\\\"750px\\\\\" height=\\\\\"500px\\\\\" /\\\\u003e\\\\u003c/p\\\\u003e\\\\n\\\\u003cp\\\\u003e\\\\u003cimg src=\\\\\"https://salt.tikicdn.com/ts/tmp/68/f5/d1/a04aee9df064ae142987a4e51c60407e.jpg\\\\\" alt=\\\\\"Điện Thoại iPhone 12 Mini 256GB - Hàng  Chính Hãng\\\\\" width=\\\\\"750px\\\\\" height=\\\\\"500px\\\\\" /\\\\u003e\\\\u003c/p\\\\u003e\\\\n\\\\u003cp\\\\u003eĐặc biệt, Apple đã thay thế công nghệ LCD bằng công nghệ Super Retina OLED. Cùng với tính năng Dolby Vision và True-tone, iPhone 12 sẽ hiển thị hình ảnh sắc nét, mượt mà \\\\u0026amp; có màu rực rỡ hơn các đời iPhone trước.\\\\u003c/p\\\\u003e\\\\n\\\\u003cp\\\\u003e\\\\u003cimg src=\\\\\"https://salt.tikicdn.com/ts/tmp/15/bc/c5/20be7b2fcaa95476d47c97c2e70200b8.jpg\\\\\" alt=\\\\\"Điện Thoại iPhone 12 Mini 256GB - Hàng  Chính Hãng\\\\\" width=\\\\\"750\\\\\" height=\\\\\"1536\\\\\" /\\\\u003e\\\\u003c/p\\\\u003e\\\\n\\\\u003cp\\\\u003eToàn thân\\xa0máy được chế tác từ chất liệu nguyên khối cứng cáp, với khung máy làm từ thép không gỉ và hai mặt trước \\\\u0026amp; sau được phủ kính cường lực Gorilla Glass. iPhone 12 cũng có khả năng chống nước và chống bụi theo tiêu chuẩn IP68 và hỗ trợ cả Apple Pay, đáp ứng nhu cầu sử dụng cần thiết của người dùng.\\\\u003c/p\\\\u003e\\\\n\\\\u003cp\\\\u003e\\\\u003cimg src=\\\\\"https://salt.tikicdn.com/ts/tmp/f0/cb/8f/8691fe002354529185aa82943f02783d.jpg\\\\\" alt=\\\\\"Điện Thoại iPhone 12 Mini 256GB - Hàng  Chính Hãng\\\\\" width=\\\\\"750\\\\\" height=\\\\\"499\\\\\" /\\\\u003e\\\\u003c/p\\\\u003e\\\\n\\\\u003cp\\\\u003e\\\\u003cimg src=\\\\\"https://salt.tikicdn.com/ts/tmp/8c/e8/c4/efe1cad02d1b63b9e330ac06237ed022.jpg\\\\\" alt=\\\\\"Điện Thoại iPhone 12 Mini 256GB - Hàng  Chính Hãng\\\\\" width=\\\\\"750px\\\\\" height=\\\\\"500px\\\\\" /\\\\u003e\\\\u003c/p\\\\u003e\\\\n\\\\u003cp\\\\u003eVới kích thước mỏng gọn \\\\u0026amp; chất liệu cứng cáp của thân máy, iPhone 12 sẽ vô cùng thích hợp với người dùng mong muốn sự giản đơn nhưng không kém phần sang trọng từ một chiếc iPhone.\\\\u003c/p\\\\u003e\\\\n\\\\u003cp\\\\u003e\\\\u003cimg src=\\\\\"https://salt.tikicdn.com/ts/tmp/d1/18/2f/e08834cca867eaaf2606b45714d2e4d5.jpg\\\\\" alt=\\\\\"Điện Thoại iPhone 12 Mini 256GB - Hàng  Chính Hãng\\\\\" width=\\\\\"750px\\\\\" height=\\\\\"500px\\\\\" /\\\\u003e\\\\u003c/p\\\\u003e\\\\n\\\\u003cp\\\\u003e\\\\u003cimg src=\\\\\"https://salt.tikicdn.com/ts/tmp/e5/31/9b/fc45395d6da5ef4269a2943e8853ae3d.jpg\\\\\" alt=\\\\\"Điện Thoại iPhone 12 Mini 256GB - Hàng  Chính Hãng\\\\\" width=\\\\\"750px\\\\\" height=\\\\\"500px\\\\\" /\\\\u003e\\\\u003c/p\\\\u003e\\\\n\\\\u003ch5\\\\u003eCamera kép 12MP + 12MP ở mặt sau, camera selfie 12MP ở mặt trước\\\\u003c/h5\\\\u003e\\\\n\\\\u003cp\\\\u003eiPhone 12 được trang bị cụm camera hai ống kính ở mặt sau, với hai ống kính có cùng độ phân giải 12MP. Cụm camera sau không chỉ có tính năng chống rung OIS, chụp góc siêu rộng và panorama, mà còn hỗ trợ quay video với định dạng lên đến 4K 60fps hoặc 1080p 240fps cùng âm thanh stereo sống động.\\\\u003c/p\\\\u003e\\\\n\\\\u003cp\\\\u003e\\\\u003cimg src=\\\\\"https://salt.tikicdn.com/ts/tmp/99/b6/c9/d15709a39aa6ee27bac66622b8a77880.jpg\\\\\" alt=\\\\\"Điện Thoại iPhone 12 Mini 256GB - Hàng  Chính Hãng\\\\\" width=\\\\\"750px\\\\\" height=\\\\\"500px\\\\\" /\\\\u003e\\\\u003c/p\\\\u003e\\\\n\\\\u003cp\\\\u003eỞ phần notch mặt trước của\\xa0điện thoại\\xa0iPhone 12 còn có camera selfie độ phân giải 12MP. Tương tự như iPhone 11, camera selfie của iPhone có thêm tính năng gyro-EIS và cảm biến đo chiều sâu sinh trắc học SL 3D hiện đại, mang đến chất lượng hình ảnh rõ nét \\\\u0026amp; hoàn mỹ.\\\\u003c/p\\\\u003e\\\\n\\\\u003cp\\\\u003e\\\\u003cimg src=\\\\\"https://salt.tikicdn.com/ts/tmp/5a/3c/25/46e42e1b423d74d4947dfaec22d55128.jpg\\\\\" alt=\\\\\"Điện Thoại iPhone 12 Mini 256GB - Hàng  Chính Hãng\\\\\" width=\\\\\"750px\\\\\" height=\\\\\"859px\\\\\" /\\\\u003e\\\\u003c/p\\\\u003e\\\\n\\\\u003cp\\\\u003e\\\\u003cimg src=\\\\\"https://salt.tikicdn.com/ts/tmp/b4/2c/22/f8f1bad501be2730bda2d0cbd58793ac.jpg\\\\\" alt=\\\\\"Điện Thoại iPhone 12 Mini 256GB - Hàng  Chính Hãng\\\\\" width=\\\\\"750px\\\\\" height=\\\\\"1037px\\\\\" /\\\\u003e\\\\u003c/p\\\\u003e\\\\n\\\\u003cp\\\\u003e\\\\u003cimg src=\\\\\"https://salt.tikicdn.com/ts/tmp/77/2c/74/2877df65b9aca02b1c13f82063d6c871.jpg\\\\\" alt=\\\\\"Điện Thoại iPhone 12 Mini 256GB - Hàng  Chính Hãng\\\\\" width=\\\\\"750px\\\\\" height=\\\\\"922px\\\\\" /\\\\u003e\\\\u003c/p\\\\u003e\\\\n\\\\u003cp\\\\u003e\\\\u003cimg src=\\\\\"https://salt.tikicdn.com/ts/tmp/39/d3/4f/4d9e22898ac262d40fbb317eebd95997.jpg\\\\\" alt=\\\\\"Điện Thoại iPhone 12 Mini 256GB - Hàng  Chính Hãng\\\\\" width=\\\\\"750px\\\\\" height=\\\\\"500px\\\\\" /\\\\u003e\\\\u003c/p\\\\u003e\\\\n\\\\u003cp\\\\u003e\\\\u003cimg src=\\\\\"https://salt.tikicdn.com/ts/tmp/ba/f0/54/d6f6cc1db7f510ef87e86fce54cb8312.jpg\\\\\" alt=\\\\\"Điện Thoại iPhone 12 Mini 256GB - Hàng  Chính Hãng\\\\\" width=\\\\\"750px\\\\\" height=\\\\\"500px\\\\\" /\\\\u003e\\\\u003c/p\\\\u003e\\\\n\\\\u003ch5\\\\u003eVi xử lý Apple A14 5nm với RAM 4GB và dung lượng lên đến 256GB\\\\u003c/h5\\\\u003e\\\\n\\\\u003cp\\\\u003eMỗi thế hệ iPhone mới đều tương ứng với dòng CPU mới hơn nhằm mang lại hiệu năng mạnh mẽ nhất. Và\\xa0iPhone 12\\xa0năm nay được trang bị bộ vi xử lý Apple A14 Bionic 5nm kèm chip cấu hình GPU do Apple sản xuất.\\\\u003c/p\\\\u003e\\\\n\\\\u003cp\\\\u003eBởi vì chip Apple A13 Bionic trước đó được đánh giá là mạnh nhất trong các thế hệ chip Apple, ta có thể mong chờ hiệu năng vượt trội đến từ Apple A14 Bionic trên iPhone. Đặc biệt, chip Apple A14 còn hỗ trợ cả mạng 5G trên điện thoại iPhone, giúp người dùng kết nối internet với tốc độ cao nhất.\\\\u003c/p\\\\u003e\\\\n\\\\u003cp\\\\u003e\\\\u003cimg src=\\\\\"https://salt.tikicdn.com/ts/tmp/18/f9/36/ec6f05b3bb66bcf43f06d9c1e48960de.jpg\\\\\" alt=\\\\\"Điện Thoại iPhone 12 Mini 256GB - Hàng  Chính Hãng\\\\\" width=\\\\\"750px\\\\\" height=\\\\\"500px\\\\\" /\\\\u003e\\\\u003c/p\\\\u003e\\\\n\\\\u003cp\\\\u003e\\\\u003cimg src=\\\\\"https://salt.tikicdn.com/ts/tmp/47/42/9f/92faaf644dbcdeeef32f7cbcf57dcc60.jpg\\\\\" alt=\\\\\"Điện Thoại iPhone 12 Mini 256GB - Hàng  Chính Hãng\\\\\" width=\\\\\"750px\\\\\" height=\\\\\"500px\\\\\" /\\\\u003e\\\\u003c/p\\\\u003e\\\\n\\\\u003cp\\\\u003eNgoài ra, iPhone 12 còn có mức RAM 4GB và dung lượng lưu trữ lên đến 256GB. Hệ điều hành chính của máy sẽ là iOS 14 cùng với một số tính năng đặc biệt như chế độ hiển thị màn hình, ứng dụng thể dục, quét mã QR và những nâng cấp phần mềm đáng kể giúp tăng trải nghiệm sử dụng.\\\\u003c/p\\\\u003e\\\\n\\\\u003ch5\\\\u003eSử dụng cả ngày, hỗ trợ sạc nhanh 20W\\\\u003c/h5\\\\u003e\\\\n\\\\u003cp\\\\u003eĐiện thoại iPhone 12 cũng được nâng cấp về dung lượng pin so với người tiền nhiệm iPhone 11. Cụ thể, máy sẽ mang đến cho người dùng hơn 17 giờ xem video, hơn và lên đến 65 giờ nghe nhạc liên tục.\\\\u003c/p\\\\u003e\\\\n\\\\u003cp\\\\u003eMột chiếc iPhone cao cấp phục vụ mọi công việc sẽ không thể thiếu tính năng sạc nhanh. \\\\\"Siêu phẩm\\\\\"\\xa0điện thoại\\xa0iPhone cũng được trang bị tính năng sạc nhanh Power Delivery 2.0 sẽ đảm bảo thiết bị có ngay 50% thời lượng pin chỉ trong 30 phút. iPhone 12 cũng có thêm tính năng sạc không dây Qi, cho phép chiếc máy tiếp nạp năng lượng trên đế sạc không dây hữu ích \\\\u0026amp; tiện lợi.\\\\u003c/p\\\\u003e\\\\n\\\\u003cp\\\\u003e\\\\u003cimg src=\\\\\"https://salt.tikicdn.com/ts/tmp/05/cd/b5/e34f35ec32a7b52056787fed9dd7327e.jpg\\\\\" alt=\\\\\"Điện Thoại iPhone 12 Mini 256GB - Hàng  Chính Hãng\\\\\" width=\\\\\"750px\\\\\" height=\\\\\"500px\\\\\" /\\\\u003e\\\\u003c/p\\\\u003e\\\\n\\\\u003cp\\\\u003e\\\\u003cimg src=\\\\\"https://salt.tikicdn.com/ts/tmp/c9/98/37/f133fb40dea4bd55ac773fe3cf13442b.jpg\\\\\" alt=\\\\\"Điện Thoại iPhone 12 Mini 256GB - Hàng  Chính Hãng\\\\\" width=\\\\\"750px\\\\\" height=\\\\\"500px\\\\\" /\\\\u003e\\\\u003c/p\\\\u003e\\\\n\\\\u003cp\\\\u003e\\\\u003cimg src=\\\\\"https://salt.tikicdn.com/ts/tmp/48/54/29/5d9500dbeb9ca98c4a7bb75008b3b84f.jpg\\\\\" alt=\\\\\"Điện Thoại iPhone 12 Mini 256GB - Hàng  Chính Hãng\\\\\" width=\\\\\"750px\\\\\" height=\\\\\"500px\\\\\" /\\\\u003e\\\\u003c/p\\\\u003e\\\\u003cp\\\\u003eGiá sản phẩm trên Tiki đã bao gồm thuế theo luật hiện hành. Tuy nhiên tuỳ vào từng loại sản phẩm hoặc phương thức, địa chỉ giao hàng mà có thể phát sinh thêm chi phí khác như phí vận chuyển, phụ phí hàng cồng kềnh, .....\\\\u003c/p\\\\u003e\",\"images\":[{\"base_url\":\"https://salt.tikicdn.com/ts/product/f8/72/39/6a8b87506acc84044ff40da00f1b9ec7.jpg\",\"is_gallery\":true,\"label\":null,\"large_url\":\"https://salt.tikicdn.com/cache/w1200/ts/product/f8/72/39/6a8b87506acc84044ff40da00f1b9ec7.jpg\",\"medium_url\":\"https://salt.tikicdn.com/cache/w300/ts/product/f8/72/39/6a8b87506acc84044ff40da00f1b9ec7.jpg\",\"position\":null,\"small_url\":\"https://salt.tikicdn.com/cache/200x280/ts/product/f8/72/39/6a8b87506acc84044ff40da00f1b9ec7.jpg\",\"thumbnail_url\":\"https://salt.tikicdn.com/cache/200x280/ts/product/f8/72/39/6a8b87506acc84044ff40da00f1b9ec7.jpg\"},{\"base_url\":\"https://salt.tikicdn.com/ts/product/3f/b8/79/46dc1abcae091545a35e9262d6076420.jpg\",\"is_gallery\":true,\"label\":null,\"large_url\":\"https://salt.tikicdn.com/cache/w1200/ts/product/3f/b8/79/46dc1abcae091545a35e9262d6076420.jpg\",\"medium_url\":\"https://salt.tikicdn.com/cache/w300/ts/product/3f/b8/79/46dc1abcae091545a35e9262d6076420.jpg\",\"position\":null,\"small_url\":\"https://salt.tikicdn.com/cache/200x280/ts/product/3f/b8/79/46dc1abcae091545a35e9262d6076420.jpg\",\"thumbnail_url\":\"https://salt.tikicdn.com/cache/200x280/ts/product/3f/b8/79/46dc1abcae091545a35e9262d6076420.jpg\"},{\"base_url\":\"https://salt.tikicdn.com/ts/product/4e/73/55/774bd3366dc51df4acdc7776d52a3b7e.jpg\",\"is_gallery\":true,\"label\":null,\"large_url\":\"https://salt.tikicdn.com/cache/w1200/ts/product/4e/73/55/774bd3366dc51df4acdc7776d52a3b7e.jpg\",\"medium_url\":\"https://salt.tikicdn.com/cache/w300/ts/product/4e/73/55/774bd3366dc51df4acdc7776d52a3b7e.jpg\",\"position\":null,\"small_url\":\"https://salt.tikicdn.com/cache/200x280/ts/product/4e/73/55/774bd3366dc51df4acdc7776d52a3b7e.jpg\",\"thumbnail_url\":\"https://salt.tikicdn.com/cache/200x280/ts/product/4e/73/55/774bd3366dc51df4acdc7776d52a3b7e.jpg\"},{\"base_url\":\"https://salt.tikicdn.com/ts/product/90/8c/52/180be0e8d38c76f7c51ba83b8b616f37.jpg\",\"is_gallery\":true,\"label\":null,\"large_url\":\"https://salt.tikicdn.com/cache/w1200/ts/product/90/8c/52/180be0e8d38c76f7c51ba83b8b616f37.jpg\",\"medium_url\":\"https://salt.tikicdn.com/cache/w300/ts/product/90/8c/52/180be0e8d38c76f7c51ba83b8b616f37.jpg\",\"position\":null,\"small_url\":\"https://salt.tikicdn.com/cache/200x280/ts/product/90/8c/52/180be0e8d38c76f7c51ba83b8b616f37.jpg\",\"thumbnail_url\":\"https://salt.tikicdn.com/cache/200x280/ts/product/90/8c/52/180be0e8d38c76f7c51ba83b8b616f37.jpg\"}],\"warranty_policy\":null,\"brand\":{\"id\":17827,\"name\":\"Apple\",\"slug\":\"apple\"},\"current_seller\":{\"id\":1,\"is_best_store\":false,\"is_offline_installment_supported\":null,\"link\":\"https://tiki.vn/cua-hang/tiki-trading\",\"logo\":\"https://vcdn.tikicdn.com/ts/seller/ee/fa/a0/98f3f134f85cff2c6972c31777629aa0.png\",\"name\":\"Tiki Trading\",\"price\":18950000,\"product_id\":\"70766425\",\"sku\":\"1671992616266\",\"store_id\":40395},\"other_sellers\":[{\"id\":154029,\"name\":\"Thế Giới Táo Khuyết\",\"link\":\"https://tiki.vn/cua-hang/the-gioi-tao-khuyet\",\"logo\":\"https://vcdn.tikicdn.com/ts/seller/b0/a0/0c/7e7d9d89670c2395e84a89fc8d86dcee.jpg\",\"price\":20190000,\"product_id\":\"77877127\",\"store_id\":142016},{\"id\":185050,\"name\":\"Dstore Official\",\"link\":\"https://tiki.vn/cua-hang/dstore-official\",\"logo\":\"https://vcdn.tikicdn.com/ts/seller/4b/54/1a/f385a79a716cb3505f152e7af8c769aa.png\",\"price\":18750000,\"product_id\":\"101796736\",\"store_id\":172085},{\"id\":140134,\"name\":\"Synnex FPT\",\"link\":\"https://tiki.vn/cua-hang/soi-store-vn\",\"logo\":\"https://vcdn.tikicdn.com/ts/seller/6b/9a/07/24a79a47a1477f728e80596dc5d73af1.jpg\",\"price\":24990000,\"product_id\":\"110653524\",\"store_id\":129388},{\"id\":86805,\"name\":\"Phương Tùng\",\"link\":\"https://tiki.vn/cua-hang/phuong-tung\",\"logo\":\"https://vcdn.tikicdn.com/ts/seller/d7/f3/c0/b433ee2d3d498f3b5b2c9e57ceefec8b.jpg\",\"price\":19490000,\"product_id\":\"113078705\",\"store_id\":80704}],\"seller_specifications\":[{\"name\":\"Tiki hoàn tiền 111% nếu phát hiện hàng giả\",\"url\":null,\"value\":null},{\"name\":\"Cam kết hàng chính hiệu\",\"url\":null,\"value\":null}],\"specifications\":[{\"name\":\"Content\",\"attributes\":[{\"code\":\"bluetooth\",\"name\":\"Bluetooth\",\"value\":\"Có\"},{\"code\":\"brand\",\"name\":\"Thương hiệu\",\"value\":\"Apple\"},{\"code\":\"brand_country\",\"name\":\"Xuất xứ thương hiệu\",\"value\":\"Mỹ\"},{\"code\":\"camera_sau\",\"name\":\"Camera sau\",\"value\":\"12 MP + 12 MP\"},{\"code\":\"camera_truoc\",\"name\":\"Camera trước\",\"value\":\"12 MP\"},{\"code\":\"chip_do_hoa\",\"name\":\"Chip đồ họa (GPU)\",\"value\":\"Apple GPU (4-core graphics)\"},{\"code\":\"chip_set\",\"name\":\"Chip set\",\"value\":\"Apple A14 Bionic (5 nm)\"},{\"code\":\"chuc_nang_khac\",\"name\":\"Chức năng khác\",\"value\":\"Face ID\"},{\"code\":\"den_flash\",\"name\":\"Đèn Flash\",\"value\":\"Có\"},{\"code\":\"dimensions\",\"name\":\"Kích thước\",\"value\":\"146.7 x 71.5 x 7.4 mm\"},{\"code\":\"display_type\",\"name\":\"Loại/ Công nghệ màn hình\",\"value\":\"Super Retina XDR OLED, HDR10, Dolby Vision, Wide color gamut, True-tone\"},{\"code\":\"fm_radio\",\"name\":\"FM radio\",\"value\":\"Không\"},{\"code\":\"ghi_am\",\"name\":\"Ghi âm\",\"value\":\"Có\"},{\"code\":\"included_accessories\",\"name\":\"Phụ kiện đi kèm\",\"value\":\"Sách hướng dẫn\"},{\"code\":\"item_model_number\",\"name\":\"Model\",\"value\":\"iPhone 12\"},{\"code\":\"jack_headphone\",\"name\":\"Jack tai nghe\",\"value\":\"Lightning\"},{\"code\":\"khe_sim\",\"name\":\"Số sim\",\"value\":\"2 (nano‑SIM + eSIM)\"},{\"code\":\"loai_sim\",\"name\":\"Loại Sim\",\"value\":\"Nano Sim\"},{\"code\":\"nghe_nhac\",\"name\":\"Nghe nhạc\",\"value\":\"Có\"},{\"code\":\"origin\",\"name\":\"Xuất xứ\",\"value\":\"Trung Quốc\"},{\"code\":\"part_number\",\"name\":\"Mã part\",\"value\":\"VN/A\"},{\"code\":\"port_sac\",\"name\":\"Cổng sạc\",\"value\":\"Lightning\"},{\"code\":\"product_weight\",\"name\":\"Trọng lượng\",\"value\":\"164g\"},{\"code\":\"ram\",\"name\":\"RAM\",\"value\":\"4GB\"},{\"code\":\"rom\",\"name\":\"ROM\",\"value\":\"64GB\"},{\"code\":\"screen_size\",\"name\":\"Kích thước màn hình\",\"value\":\"6.1 inch\"},{\"code\":\"tinh_nang_camera\",\"name\":\"Tính năng camera\",\"value\":\" 4K@24/30/60fps, 1080p@30/60/120/240fps, HDR, Dolby Vision HDR (up to 30fps), stereo sound rec.\"},{\"code\":\"video_call\",\"name\":\"Video call\",\"value\":\"Hỗ trợ VideoCall thông qua ứng dụng\"},{\"code\":\"wifi\",\"name\":\"Wifi\",\"value\":\"Có\"},{\"code\":\"xem_phim\",\"name\":\"Xem phim\",\"value\":\"Có\"}]}],\"price_comparison\":{\"sub_title\":\"Giá từ 18.750.000 ₫\",\"title\":\"4 nhà bán khác\"},\"product_links\":[],\"configurable_options\":[{\"code\":\"option1\",\"name\":\"Màu\",\"position\":0,\"show_preview_image\":true,\"values\":[{\"label\":\"Trắng\"},{\"label\":\"Tím\"},{\"label\":\"Xanh Dương\"},{\"label\":\"Xanh Lá\"},{\"label\":\"Đen\"},{\"label\":\"Đỏ\"}]},{\"code\":\"option2\",\"name\":\"Dung lượng\",\"position\":0,\"show_preview_image\":false,\"values\":[{\"label\":\"64GB\"}]}],\"configurable_products\":[{\"child_id\":70766418,\"id\":77952966,\"images\":[{\"large_url\":\"https://salt.tikicdn.com/cache/w1200/ts/product/02/d1/b6/9314b2449713badbf4725d72dd4caba6.jpg\",\"medium_url\":\"https://salt.tikicdn.com/cache/550x550/ts/product/02/d1/b6/9314b2449713badbf4725d72dd4caba6.jpg\",\"small_url\":\"https://salt.tikicdn.com/cache/200x280/ts/product/02/d1/b6/9314b2449713badbf4725d72dd4caba6.jpg\"},{\"large_url\":\"https://salt.tikicdn.com/cache/w1200/ts/product/26/a8/98/9458e73f2a8bac8d1cb09501da0b362e.jpg\",\"medium_url\":\"https://salt.tikicdn.com/cache/550x550/ts/product/26/a8/98/9458e73f2a8bac8d1cb09501da0b362e.jpg\",\"small_url\":\"https://salt.tikicdn.com/cache/200x280/ts/product/26/a8/98/9458e73f2a8bac8d1cb09501da0b362e.jpg\"},{\"large_url\":\"https://salt.tikicdn.com/cache/w1200/ts/product/9f/a8/9f/e745d0b336482d89e6e2ba99b1fb6f74.jpg\",\"medium_url\":\"https://salt.tikicdn.com/cache/550x550/ts/product/9f/a8/9f/e745d0b336482d89e6e2ba99b1fb6f74.jpg\",\"small_url\":\"https://salt.tikicdn.com/cache/200x280/ts/product/9f/a8/9f/e745d0b336482d89e6e2ba99b1fb6f74.jpg\"},{\"large_url\":\"https://salt.tikicdn.com/cache/w1200/ts/product/ea/2b/1a/213365920de2a1867909f9810d8465b0.jpg\",\"medium_url\":\"https://salt.tikicdn.com/cache/550x550/ts/product/ea/2b/1a/213365920de2a1867909f9810d8465b0.jpg\",\"small_url\":\"https://salt.tikicdn.com/cache/200x280/ts/product/ea/2b/1a/213365920de2a1867909f9810d8465b0.jpg\"}],\"inventory_status\":\"available\",\"name\":\"Điện Thoại iPhone 12 64GB - Hàng  Chính Hãng - Trắng\",\"option1\":\"Trắng\",\"option2\":\"64GB\",\"price\":19490000,\"selected\":false,\"seller\":{\"id\":154029,\"name\":\"Thế Giới Táo Khuyết\"},\"sku\":\"1335298902590\",\"thumbnail_url\":\"https://salt.tikicdn.com/cache/280x280/ts/product/ea/2b/1a/213365920de2a1867909f9810d8465b0.jpg\"},{\"child_id\":70766422,\"id\":70766423,\"images\":[{\"large_url\":\"https://salt.tikicdn.com/cache/w1200/ts/product/0f/4a/19/e2c1e692c76e5aeb99baa2dcef13cdcb.jpg\",\"medium_url\":\"https://salt.tikicdn.com/cache/550x550/ts/product/0f/4a/19/e2c1e692c76e5aeb99baa2dcef13cdcb.jpg\",\"small_url\":\"https://salt.tikicdn.com/cache/200x280/ts/product/0f/4a/19/e2c1e692c76e5aeb99baa2dcef13cdcb.jpg\"},{\"large_url\":\"https://salt.tikicdn.com/cache/w1200/ts/product/43/3c/b1/be5bb51dd83101e64f83733776db8121.jpg\",\"medium_url\":\"https://salt.tikicdn.com/cache/550x550/ts/product/43/3c/b1/be5bb51dd83101e64f83733776db8121.jpg\",\"small_url\":\"https://salt.tikicdn.com/cache/200x280/ts/product/43/3c/b1/be5bb51dd83101e64f83733776db8121.jpg\"},{\"large_url\":\"https://salt.tikicdn.com/cache/w1200/ts/product/52/db/18/3d8d143f114248dcaf64d87955f9024e.jpg\",\"medium_url\":\"https://salt.tikicdn.com/cache/550x550/ts/product/52/db/18/3d8d143f114248dcaf64d87955f9024e.jpg\",\"small_url\":\"https://salt.tikicdn.com/cache/200x280/ts/product/52/db/18/3d8d143f114248dcaf64d87955f9024e.jpg\"},{\"large_url\":\"https://salt.tikicdn.com/cache/w1200/ts/product/b8/b6/44/aa33982500674021387df5baf780455c.jpg\",\"medium_url\":\"https://salt.tikicdn.com/cache/550x550/ts/product/b8/b6/44/aa33982500674021387df5baf780455c.jpg\",\"small_url\":\"https://salt.tikicdn.com/cache/200x280/ts/product/b8/b6/44/aa33982500674021387df5baf780455c.jpg\"},{\"large_url\":\"https://salt.tikicdn.com/cache/w1200/ts/product/da/df/e3/60f3c88022f131a07197a9f2bc42aff1.jpg\",\"medium_url\":\"https://salt.tikicdn.com/cache/550x550/ts/product/da/df/e3/60f3c88022f131a07197a9f2bc42aff1.jpg\",\"small_url\":\"https://salt.tikicdn.com/cache/200x280/ts/product/da/df/e3/60f3c88022f131a07197a9f2bc42aff1.jpg\"}],\"inventory_status\":\"available\",\"name\":\"Điện Thoại iPhone 12 64GB - Hàng  Chính Hãng - Xanh Dương\",\"option1\":\"Xanh Dương\",\"option2\":\"64GB\",\"price\":18950000,\"selected\":false,\"seller\":{\"id\":1,\"name\":\"Tiki Trading\"},\"sku\":\"1584438881848\",\"thumbnail_url\":\"https://salt.tikicdn.com/cache/280x280/ts/product/0f/4a/19/e2c1e692c76e5aeb99baa2dcef13cdcb.jpg\"},{\"child_id\":70766416,\"id\":70766417,\"images\":[{\"large_url\":\"https://salt.tikicdn.com/cache/w1200/ts/product/5e/91/88/521384e39edc588f1b2f4377837f17a5.jpg\",\"medium_url\":\"https://salt.tikicdn.com/cache/550x550/ts/product/5e/91/88/521384e39edc588f1b2f4377837f17a5.jpg\",\"small_url\":\"https://salt.tikicdn.com/cache/200x280/ts/product/5e/91/88/521384e39edc588f1b2f4377837f17a5.jpg\"},{\"large_url\":\"https://salt.tikicdn.com/cache/w1200/ts/product/a7/7c/ba/bc61df5a56210a0f96b51d278d7cf7be.jpg\",\"medium_url\":\"https://salt.tikicdn.com/cache/550x550/ts/product/a7/7c/ba/bc61df5a56210a0f96b51d278d7cf7be.jpg\",\"small_url\":\"https://salt.tikicdn.com/cache/200x280/ts/product/a7/7c/ba/bc61df5a56210a0f96b51d278d7cf7be.jpg\"},{\"large_url\":\"https://salt.tikicdn.com/cache/w1200/ts/product/ae/ff/cd/bc167b31efa198487334059e1623e3f6.jpg\",\"medium_url\":\"https://salt.tikicdn.com/cache/550x550/ts/product/ae/ff/cd/bc167b31efa198487334059e1623e3f6.jpg\",\"small_url\":\"https://salt.tikicdn.com/cache/200x280/ts/product/ae/ff/cd/bc167b31efa198487334059e1623e3f6.jpg\"},{\"large_url\":\"https://salt.tikicdn.com/cache/w1200/ts/product/e1/66/c2/47859ea06eb4b00ad41bbe81636e4373.jpg\",\"medium_url\":\"https://salt.tikicdn.com/cache/550x550/ts/product/e1/66/c2/47859ea06eb4b00ad41bbe81636e4373.jpg\",\"small_url\":\"https://salt.tikicdn.com/cache/200x280/ts/product/e1/66/c2/47859ea06eb4b00ad41bbe81636e4373.jpg\"}],\"inventory_status\":\"available\",\"name\":\"Điện Thoại iPhone 12 64GB - Hàng  Chính Hãng - Đen\",\"option1\":\"Đen\",\"option2\":\"64GB\",\"price\":18950000,\"selected\":false,\"seller\":{\"id\":1,\"name\":\"Tiki Trading\"},\"sku\":\"7260504811226\",\"thumbnail_url\":\"https://salt.tikicdn.com/cache/280x280/ts/product/e1/66/c2/47859ea06eb4b00ad41bbe81636e4373.jpg\"},{\"child_id\":70766420,\"id\":70766421,\"images\":[{\"large_url\":\"https://salt.tikicdn.com/cache/w1200/ts/product/1b/2d/af/103dd784d9734ff1946578e91dfc9466.jpg\",\"medium_url\":\"https://salt.tikicdn.com/cache/550x550/ts/product/1b/2d/af/103dd784d9734ff1946578e91dfc9466.jpg\",\"small_url\":\"https://salt.tikicdn.com/cache/200x280/ts/product/1b/2d/af/103dd784d9734ff1946578e91dfc9466.jpg\"},{\"large_url\":\"https://salt.tikicdn.com/cache/w1200/ts/product/31/8d/24/5eb40d1e466c6e9ce52a76afb5729775.jpg\",\"medium_url\":\"https://salt.tikicdn.com/cache/550x550/ts/product/31/8d/24/5eb40d1e466c6e9ce52a76afb5729775.jpg\",\"small_url\":\"https://salt.tikicdn.com/cache/200x280/ts/product/31/8d/24/5eb40d1e466c6e9ce52a76afb5729775.jpg\"},{\"large_url\":\"https://salt.tikicdn.com/cache/w1200/ts/product/81/73/6c/e3220a1f860b8611cfc0e7f78d515fbf.jpg\",\"medium_url\":\"https://salt.tikicdn.com/cache/550x550/ts/product/81/73/6c/e3220a1f860b8611cfc0e7f78d515fbf.jpg\",\"small_url\":\"https://salt.tikicdn.com/cache/200x280/ts/product/81/73/6c/e3220a1f860b8611cfc0e7f78d515fbf.jpg\"},{\"large_url\":\"https://salt.tikicdn.com/cache/w1200/ts/product/e0/68/7f/d9f4d52b4cc3abb6e0ba13d2a471746f.jpg\",\"medium_url\":\"https://salt.tikicdn.com/cache/550x550/ts/product/e0/68/7f/d9f4d52b4cc3abb6e0ba13d2a471746f.jpg\",\"small_url\":\"https://salt.tikicdn.com/cache/200x280/ts/product/e0/68/7f/d9f4d52b4cc3abb6e0ba13d2a471746f.jpg\"}],\"inventory_status\":\"available\",\"name\":\"Điện Thoại iPhone 12 64GB - Hàng  Chính Hãng - Đỏ\",\"option1\":\"Đỏ\",\"option2\":\"64GB\",\"price\":18950000,\"selected\":false,\"seller\":{\"id\":1,\"name\":\"Tiki Trading\"},\"sku\":\"2633158914936\",\"thumbnail_url\":\"https://salt.tikicdn.com/cache/280x280/ts/product/81/73/6c/e3220a1f860b8611cfc0e7f78d515fbf.jpg\"},{\"child_id\":70766424,\"id\":70766425,\"images\":[{\"large_url\":\"https://salt.tikicdn.com/cache/w1200/ts/product/f8/72/39/6a8b87506acc84044ff40da00f1b9ec7.jpg\",\"medium_url\":\"https://salt.tikicdn.com/cache/550x550/ts/product/f8/72/39/6a8b87506acc84044ff40da00f1b9ec7.jpg\",\"small_url\":\"https://salt.tikicdn.com/cache/200x280/ts/product/f8/72/39/6a8b87506acc84044ff40da00f1b9ec7.jpg\"},{\"large_url\":\"https://salt.tikicdn.com/cache/w1200/ts/product/3f/b8/79/46dc1abcae091545a35e9262d6076420.jpg\",\"medium_url\":\"https://salt.tikicdn.com/cache/550x550/ts/product/3f/b8/79/46dc1abcae091545a35e9262d6076420.jpg\",\"small_url\":\"https://salt.tikicdn.com/cache/200x280/ts/product/3f/b8/79/46dc1abcae091545a35e9262d6076420.jpg\"},{\"large_url\":\"https://salt.tikicdn.com/cache/w1200/ts/product/4e/73/55/774bd3366dc51df4acdc7776d52a3b7e.jpg\",\"medium_url\":\"https://salt.tikicdn.com/cache/550x550/ts/product/4e/73/55/774bd3366dc51df4acdc7776d52a3b7e.jpg\",\"small_url\":\"https://salt.tikicdn.com/cache/200x280/ts/product/4e/73/55/774bd3366dc51df4acdc7776d52a3b7e.jpg\"},{\"large_url\":\"https://salt.tikicdn.com/cache/w1200/ts/product/90/8c/52/180be0e8d38c76f7c51ba83b8b616f37.jpg\",\"medium_url\":\"https://salt.tikicdn.com/cache/550x550/ts/product/90/8c/52/180be0e8d38c76f7c51ba83b8b616f37.jpg\",\"small_url\":\"https://salt.tikicdn.com/cache/200x280/ts/product/90/8c/52/180be0e8d38c76f7c51ba83b8b616f37.jpg\"}],\"inventory_status\":\"available\",\"name\":\"Điện Thoại iPhone 12 64GB - Hàng  Chính Hãng - Xanh Lá\",\"option1\":\"Xanh Lá\",\"option2\":\"64GB\",\"price\":18950000,\"selected\":true,\"seller\":{\"id\":1,\"name\":\"Tiki Trading\"},\"sku\":\"2401090948018\",\"thumbnail_url\":\"https://salt.tikicdn.com/cache/280x280/ts/product/f8/72/39/6a8b87506acc84044ff40da00f1b9ec7.jpg\"},{\"child_id\":97736365,\"id\":97736366,\"images\":[{\"large_url\":\"https://salt.tikicdn.com/cache/w1200/ts/product/52/c1/94/179d4d2b018bb308b9b7c831664aea82.jpg\",\"medium_url\":\"https://salt.tikicdn.com/cache/550x550/ts/product/52/c1/94/179d4d2b018bb308b9b7c831664aea82.jpg\",\"small_url\":\"https://salt.tikicdn.com/cache/200x280/ts/product/52/c1/94/179d4d2b018bb308b9b7c831664aea82.jpg\"},{\"large_url\":\"https://salt.tikicdn.com/cache/w1200/ts/product/57/9d/06/39a9809bcf64903f2db2d482ecff4ae9.jpg\",\"medium_url\":\"https://salt.tikicdn.com/cache/550x550/ts/product/57/9d/06/39a9809bcf64903f2db2d482ecff4ae9.jpg\",\"small_url\":\"https://salt.tikicdn.com/cache/200x280/ts/product/57/9d/06/39a9809bcf64903f2db2d482ecff4ae9.jpg\"},{\"large_url\":\"https://salt.tikicdn.com/cache/w1200/ts/product/79/d8/5c/5eae9e43e50c88af8b0b61aaeea146fa.jpg\",\"medium_url\":\"https://salt.tikicdn.com/cache/550x550/ts/product/79/d8/5c/5eae9e43e50c88af8b0b61aaeea146fa.jpg\",\"small_url\":\"https://salt.tikicdn.com/cache/200x280/ts/product/79/d8/5c/5eae9e43e50c88af8b0b61aaeea146fa.jpg\"},{\"large_url\":\"https://salt.tikicdn.com/cache/w1200/ts/product/b8/00/35/a58f75a096203303362fac663a17df27.jpg\",\"medium_url\":\"https://salt.tikicdn.com/cache/550x550/ts/product/b8/00/35/a58f75a096203303362fac663a17df27.jpg\",\"small_url\":\"https://salt.tikicdn.com/cache/200x280/ts/product/b8/00/35/a58f75a096203303362fac663a17df27.jpg\"},{\"large_url\":\"https://salt.tikicdn.com/cache/w1200/ts/product/d3/fe/9b/485da722b9a0caef5497192459353851.jpg\",\"medium_url\":\"https://salt.tikicdn.com/cache/550x550/ts/product/d3/fe/9b/485da722b9a0caef5497192459353851.jpg\",\"small_url\":\"https://salt.tikicdn.com/cache/200x280/ts/product/d3/fe/9b/485da722b9a0caef5497192459353851.jpg\"}],\"inventory_status\":\"available\",\"name\":\"Điện Thoại iPhone 12 64GB - Hàng  Chính Hãng - Tím\",\"option1\":\"Tím\",\"option2\":\"64GB\",\"price\":18950000,\"selected\":false,\"seller\":{\"id\":1,\"name\":\"Tiki Trading\"},\"sku\":\"5414274572656\",\"thumbnail_url\":\"https://salt.tikicdn.com/cache/280x280/ts/product/79/d8/5c/5eae9e43e50c88af8b0b61aaeea146fa.jpg\"}],\"services_and_promotions\":[],\"promitions\":[],\"stock_item\":{\"max_sale_qty\":1000,\"min_sale_qty\":1,\"preorder_date\":null,\"qty\":1000},\"add_on_title\":\"Dịch Vụ Mua Kèm\",\"add_on\":[{\"id\":76179908,\"name\":\"Dịch vụ bảo vệ điện thoại, máy tính bảng - rơi, vỡ, vào nước - 12 tháng\",\"thumbnail_url\":\"https://salt.tikicdn.com/cache/280x280/ts/product/af/ff/43/7186184ff3e311b562de02ea7fef3e1e.jpg\",\"price\":1499000,\"add_on_description\":\"SẢN PHẨM HIỆN ĐANG KHÔNG HỖ TRỢ THANH TOÁN TRẢ GÓP\\\\nBẰNG VIỆC NHẤN CHỌN MUA, QUÝ KHÁCH ĐÃ ĐỌC VÀ ĐỒNG Ý VỚI ĐIỀU KHOẢN VÀ ĐIỀU KIỆN CỦA SẢN PHẨM NÀY\\\\nSửa chữa và giao trả nhanh nhất trong ngày hôm sau\\\\nMỚI: Hoàn phí sản phẩm nếu thời gian sửa chữa lâu hơn cam kết\\\\nBảo vệ thiết bị do hư hỏng do rơi vỡ và thiệt hại chất lỏng\\\\nLinh kiện thay thế chính hãng và bảo hành sau sửa chữa lên đến 90 ngày\\\\nThay thế điện thoại tương đương nếu không sửa được\\\\nMiễn phí vận chuyển nhận \\\\u0026 giao máy tại nhà (hoặc địa chỉ được yêu cầu)\",\"add_on_description_list\":[\"SẢN PHẨM HIỆN ĐANG KHÔNG HỖ TRỢ THANH TOÁN TRẢ GÓP\",\"BẰNG VIỆC NHẤN CHỌN MUA, QUÝ KHÁCH ĐÃ ĐỌC VÀ ĐỒNG Ý VỚI ĐIỀU KHOẢN VÀ ĐIỀU KIỆN CỦA SẢN PHẨM NÀY\",\"Sửa chữa và giao trả nhanh nhất trong ngày hôm sau\",\"MỚI: Hoàn phí sản phẩm nếu thời gian sửa chữa lâu hơn cam kết\",\"Bảo vệ thiết bị do hư hỏng do rơi vỡ và thiệt hại chất lỏng\",\"Linh kiện thay thế chính hãng và bảo hành sau sửa chữa lên đến 90 ngày\",\"Thay thế điện thoại tương đương nếu không sửa được\",\"Miễn phí vận chuyển nhận \\\\u0026 giao máy tại nhà (hoặc địa chỉ được yêu cầu)\"],\"list_price\":1499000,\"is_visible\":false,\"url\":\"https://tiki.vn/dich-vu-bao-ve-roi-vo-vao-nuoc-cho-dien-thoai-may-tinh-bang-tu-18-25-tr-p76179908.html\",\"add_on_information_title\":\"Thông tin chi tiết\",\"add_on_information_url\":\"https://tiki.vn/khuyen-mai/dich-vu-bao-ve-dien-thoai\"}],\"quantity_sold\":{\"text\":\"Đã bán 651\",\"value\":651},\"categories\":{\"id\":1789,\"name\":\"Điện Thoại - Máy Tính Bảng\",\"is_leaf\":false},\"breadcrumbs\":[{\"url\":\"/dien-thoai-may-tinh-bang/c1789\",\"name\":\"Điện Thoại - Máy Tính Bảng\",\"category_id\":1789},{\"url\":\"/dien-thoai-smartphone/c1795\",\"name\":\"Điện thoại Smartphone\",\"category_id\":1795},{\"url\":\"https://tiki.vn/dien-thoai-iphone-12-64gb-hang-chinh-hang-p70766415.html\",\"name\":\"Điện Thoại iPhone 12 64GB - Hàng  Chính Hãng\",\"category_id\":0}],\"installment_info\":{\"month\":12,\"price\":1579166,\"redirect_url\":\"https://tiki.vn/installment?masterId=70766415\\\\u0026\\\\u0026spid=70766425\"},\"is_seller_in_chat_whitelist\":false,\"inventory\":{\"product_virtual_type\":null,\"fulfillment_type\":\"tiki_delivery\"},\"warranty_info\":[{\"name\":\"Thời gian bảo hành\",\"value\":\"12 Tháng\",\"url\":null},{\"name\":\"Hình thức bảo hành\",\"value\":\"Điện tử\",\"url\":null},{\"name\":\"Nơi bảo hành\",\"value\":\"Bảo hành chính hãng\",\"url\":null},{\"name\":\"Hướng dẫn bảo hành\",\"value\":\"Xem chi tiết\",\"url\":\"https://hotro.tiki.vn/hc/vi/articles/201803444\"}],\"return_and_exchange_policy\":\"Đổi trả trong\\\\u003cbr\\\\u003e\\\\u003cb\\\\u003e7 ngày\\\\u003c/b\\\\u003e\\\\u003cbr\\\\u003enếu sp lỗi\"}'"
      ]
     },
     "execution_count": 38,
     "metadata": {},
     "output_type": "execute_result"
    }
   ],
   "source": [
    "item #lấy id, name, price, list_price, productset_group_name, all_time_quantity_sold"
   ]
  },
  {
   "cell_type": "code",
   "execution_count": 16,
   "id": "d6373fd7",
   "metadata": {},
   "outputs": [
    {
     "data": {
      "text/plain": [
       "list"
      ]
     },
     "execution_count": 16,
     "metadata": {},
     "output_type": "execute_result"
    }
   ],
   "source": [
    "type(product_detail_list)"
   ]
  },
  {
   "cell_type": "code",
   "execution_count": 13,
   "id": "b28e374e",
   "metadata": {},
   "outputs": [
    {
     "ename": "KeyboardInterrupt",
     "evalue": "",
     "output_type": "error",
     "traceback": [
      "\u001b[1;31m---------------------------------------------------------------------------\u001b[0m",
      "\u001b[1;31mKeyboardInterrupt\u001b[0m                         Traceback (most recent call last)",
      "\u001b[1;32m~\\AppData\\Local\\Temp/ipykernel_2872/981951169.py\u001b[0m in \u001b[0;36m<module>\u001b[1;34m\u001b[0m\n\u001b[0;32m      2\u001b[0m \u001b[0mproduct_url\u001b[0m \u001b[1;33m=\u001b[0m \u001b[1;34m\"https://tiki.vn/api/v2/products/{}\"\u001b[0m\u001b[1;33m\u001b[0m\u001b[1;33m\u001b[0m\u001b[0m\n\u001b[0;32m      3\u001b[0m \u001b[1;32mfor\u001b[0m \u001b[0mproduct_id\u001b[0m \u001b[1;32min\u001b[0m \u001b[0mproduct_list\u001b[0m\u001b[1;33m:\u001b[0m\u001b[1;33m\u001b[0m\u001b[1;33m\u001b[0m\u001b[0m\n\u001b[1;32m----> 4\u001b[1;33m     \u001b[0mresponse\u001b[0m \u001b[1;33m=\u001b[0m \u001b[0mrequests\u001b[0m\u001b[1;33m.\u001b[0m\u001b[0mget\u001b[0m\u001b[1;33m(\u001b[0m\u001b[0mproduct_url\u001b[0m\u001b[1;33m.\u001b[0m\u001b[0mformat\u001b[0m\u001b[1;33m(\u001b[0m\u001b[0mproduct_id\u001b[0m\u001b[1;33m)\u001b[0m\u001b[1;33m,\u001b[0m \u001b[0mheaders\u001b[0m\u001b[1;33m=\u001b[0m\u001b[0mheaders\u001b[0m\u001b[1;33m)\u001b[0m\u001b[1;33m\u001b[0m\u001b[1;33m\u001b[0m\u001b[0m\n\u001b[0m\u001b[0;32m      5\u001b[0m     \u001b[1;32mif\u001b[0m \u001b[1;33m(\u001b[0m\u001b[0mresponse\u001b[0m\u001b[1;33m.\u001b[0m\u001b[0mstatus_code\u001b[0m \u001b[1;33m==\u001b[0m \u001b[1;36m200\u001b[0m\u001b[1;33m)\u001b[0m\u001b[1;33m:\u001b[0m\u001b[1;33m\u001b[0m\u001b[1;33m\u001b[0m\u001b[0m\n\u001b[0;32m      6\u001b[0m         \u001b[0mproduct_detail_list\u001b[0m\u001b[1;33m.\u001b[0m\u001b[0mappend\u001b[0m\u001b[1;33m(\u001b[0m\u001b[0mresponse\u001b[0m\u001b[1;33m.\u001b[0m\u001b[0mtext\u001b[0m\u001b[1;33m)\u001b[0m\u001b[1;33m\u001b[0m\u001b[1;33m\u001b[0m\u001b[0m\n",
      "\u001b[1;32m~\\anaconda3\\envs\\min_ds-env\\lib\\site-packages\\requests\\api.py\u001b[0m in \u001b[0;36mget\u001b[1;34m(url, params, **kwargs)\u001b[0m\n\u001b[0;32m     74\u001b[0m \u001b[1;33m\u001b[0m\u001b[0m\n\u001b[0;32m     75\u001b[0m     \u001b[0mkwargs\u001b[0m\u001b[1;33m.\u001b[0m\u001b[0msetdefault\u001b[0m\u001b[1;33m(\u001b[0m\u001b[1;34m'allow_redirects'\u001b[0m\u001b[1;33m,\u001b[0m \u001b[1;32mTrue\u001b[0m\u001b[1;33m)\u001b[0m\u001b[1;33m\u001b[0m\u001b[1;33m\u001b[0m\u001b[0m\n\u001b[1;32m---> 76\u001b[1;33m     \u001b[1;32mreturn\u001b[0m \u001b[0mrequest\u001b[0m\u001b[1;33m(\u001b[0m\u001b[1;34m'get'\u001b[0m\u001b[1;33m,\u001b[0m \u001b[0murl\u001b[0m\u001b[1;33m,\u001b[0m \u001b[0mparams\u001b[0m\u001b[1;33m=\u001b[0m\u001b[0mparams\u001b[0m\u001b[1;33m,\u001b[0m \u001b[1;33m**\u001b[0m\u001b[0mkwargs\u001b[0m\u001b[1;33m)\u001b[0m\u001b[1;33m\u001b[0m\u001b[1;33m\u001b[0m\u001b[0m\n\u001b[0m\u001b[0;32m     77\u001b[0m \u001b[1;33m\u001b[0m\u001b[0m\n\u001b[0;32m     78\u001b[0m \u001b[1;33m\u001b[0m\u001b[0m\n",
      "\u001b[1;32m~\\anaconda3\\envs\\min_ds-env\\lib\\site-packages\\requests\\api.py\u001b[0m in \u001b[0;36mrequest\u001b[1;34m(method, url, **kwargs)\u001b[0m\n\u001b[0;32m     59\u001b[0m     \u001b[1;31m# cases, and look like a memory leak in others.\u001b[0m\u001b[1;33m\u001b[0m\u001b[1;33m\u001b[0m\u001b[1;33m\u001b[0m\u001b[0m\n\u001b[0;32m     60\u001b[0m     \u001b[1;32mwith\u001b[0m \u001b[0msessions\u001b[0m\u001b[1;33m.\u001b[0m\u001b[0mSession\u001b[0m\u001b[1;33m(\u001b[0m\u001b[1;33m)\u001b[0m \u001b[1;32mas\u001b[0m \u001b[0msession\u001b[0m\u001b[1;33m:\u001b[0m\u001b[1;33m\u001b[0m\u001b[1;33m\u001b[0m\u001b[0m\n\u001b[1;32m---> 61\u001b[1;33m         \u001b[1;32mreturn\u001b[0m \u001b[0msession\u001b[0m\u001b[1;33m.\u001b[0m\u001b[0mrequest\u001b[0m\u001b[1;33m(\u001b[0m\u001b[0mmethod\u001b[0m\u001b[1;33m=\u001b[0m\u001b[0mmethod\u001b[0m\u001b[1;33m,\u001b[0m \u001b[0murl\u001b[0m\u001b[1;33m=\u001b[0m\u001b[0murl\u001b[0m\u001b[1;33m,\u001b[0m \u001b[1;33m**\u001b[0m\u001b[0mkwargs\u001b[0m\u001b[1;33m)\u001b[0m\u001b[1;33m\u001b[0m\u001b[1;33m\u001b[0m\u001b[0m\n\u001b[0m\u001b[0;32m     62\u001b[0m \u001b[1;33m\u001b[0m\u001b[0m\n\u001b[0;32m     63\u001b[0m \u001b[1;33m\u001b[0m\u001b[0m\n",
      "\u001b[1;32m~\\anaconda3\\envs\\min_ds-env\\lib\\site-packages\\requests_cache\\session.py\u001b[0m in \u001b[0;36mrequest\u001b[1;34m(self, method, url, params, data, json, expire_after, **kwargs)\u001b[0m\n\u001b[0;32m     88\u001b[0m         \"\"\"\n\u001b[0;32m     89\u001b[0m         \u001b[1;32mwith\u001b[0m \u001b[0mself\u001b[0m\u001b[1;33m.\u001b[0m\u001b[0mrequest_expire_after\u001b[0m\u001b[1;33m(\u001b[0m\u001b[0mexpire_after\u001b[0m\u001b[1;33m)\u001b[0m\u001b[1;33m:\u001b[0m\u001b[1;33m\u001b[0m\u001b[1;33m\u001b[0m\u001b[0m\n\u001b[1;32m---> 90\u001b[1;33m             response = super().request(\n\u001b[0m\u001b[0;32m     91\u001b[0m                 \u001b[0mmethod\u001b[0m\u001b[1;33m,\u001b[0m\u001b[1;33m\u001b[0m\u001b[1;33m\u001b[0m\u001b[0m\n\u001b[0;32m     92\u001b[0m                 \u001b[0murl\u001b[0m\u001b[1;33m,\u001b[0m\u001b[1;33m\u001b[0m\u001b[1;33m\u001b[0m\u001b[0m\n",
      "\u001b[1;32m~\\anaconda3\\envs\\min_ds-env\\lib\\site-packages\\requests\\sessions.py\u001b[0m in \u001b[0;36mrequest\u001b[1;34m(self, method, url, params, data, headers, cookies, files, auth, timeout, allow_redirects, proxies, hooks, stream, verify, cert, json)\u001b[0m\n\u001b[0;32m    540\u001b[0m         }\n\u001b[0;32m    541\u001b[0m         \u001b[0msend_kwargs\u001b[0m\u001b[1;33m.\u001b[0m\u001b[0mupdate\u001b[0m\u001b[1;33m(\u001b[0m\u001b[0msettings\u001b[0m\u001b[1;33m)\u001b[0m\u001b[1;33m\u001b[0m\u001b[1;33m\u001b[0m\u001b[0m\n\u001b[1;32m--> 542\u001b[1;33m         \u001b[0mresp\u001b[0m \u001b[1;33m=\u001b[0m \u001b[0mself\u001b[0m\u001b[1;33m.\u001b[0m\u001b[0msend\u001b[0m\u001b[1;33m(\u001b[0m\u001b[0mprep\u001b[0m\u001b[1;33m,\u001b[0m \u001b[1;33m**\u001b[0m\u001b[0msend_kwargs\u001b[0m\u001b[1;33m)\u001b[0m\u001b[1;33m\u001b[0m\u001b[1;33m\u001b[0m\u001b[0m\n\u001b[0m\u001b[0;32m    543\u001b[0m \u001b[1;33m\u001b[0m\u001b[0m\n\u001b[0;32m    544\u001b[0m         \u001b[1;32mreturn\u001b[0m \u001b[0mresp\u001b[0m\u001b[1;33m\u001b[0m\u001b[1;33m\u001b[0m\u001b[0m\n",
      "\u001b[1;32m~\\anaconda3\\envs\\min_ds-env\\lib\\site-packages\\requests_cache\\session.py\u001b[0m in \u001b[0;36msend\u001b[1;34m(self, request, **kwargs)\u001b[0m\n\u001b[0;32m    125\u001b[0m         \u001b[1;31m# Attempt to fetch and cache a new response, if needed\u001b[0m\u001b[1;33m\u001b[0m\u001b[1;33m\u001b[0m\u001b[1;33m\u001b[0m\u001b[0m\n\u001b[0;32m    126\u001b[0m         \u001b[1;32mif\u001b[0m \u001b[0mresponse\u001b[0m \u001b[1;32mis\u001b[0m \u001b[1;32mNone\u001b[0m\u001b[1;33m:\u001b[0m\u001b[1;33m\u001b[0m\u001b[1;33m\u001b[0m\u001b[0m\n\u001b[1;32m--> 127\u001b[1;33m             \u001b[1;32mreturn\u001b[0m \u001b[0mself\u001b[0m\u001b[1;33m.\u001b[0m\u001b[0m_send_and_cache\u001b[0m\u001b[1;33m(\u001b[0m\u001b[0mrequest\u001b[0m\u001b[1;33m,\u001b[0m \u001b[0mcache_key\u001b[0m\u001b[1;33m,\u001b[0m \u001b[1;33m**\u001b[0m\u001b[0mkwargs\u001b[0m\u001b[1;33m)\u001b[0m\u001b[1;33m\u001b[0m\u001b[1;33m\u001b[0m\u001b[0m\n\u001b[0m\u001b[0;32m    128\u001b[0m         \u001b[1;32mif\u001b[0m \u001b[0mresponse\u001b[0m\u001b[1;33m.\u001b[0m\u001b[0mis_expired\u001b[0m\u001b[1;33m:\u001b[0m\u001b[1;33m\u001b[0m\u001b[1;33m\u001b[0m\u001b[0m\n\u001b[0;32m    129\u001b[0m             \u001b[1;32mreturn\u001b[0m \u001b[0mself\u001b[0m\u001b[1;33m.\u001b[0m\u001b[0m_handle_expired_response\u001b[0m\u001b[1;33m(\u001b[0m\u001b[0mrequest\u001b[0m\u001b[1;33m,\u001b[0m \u001b[0mresponse\u001b[0m\u001b[1;33m,\u001b[0m \u001b[0mcache_key\u001b[0m\u001b[1;33m,\u001b[0m \u001b[1;33m**\u001b[0m\u001b[0mkwargs\u001b[0m\u001b[1;33m)\u001b[0m\u001b[1;33m\u001b[0m\u001b[1;33m\u001b[0m\u001b[0m\n",
      "\u001b[1;32m~\\anaconda3\\envs\\min_ds-env\\lib\\site-packages\\requests_cache\\session.py\u001b[0m in \u001b[0;36m_send_and_cache\u001b[1;34m(self, request, cache_key, **kwargs)\u001b[0m\n\u001b[0;32m    155\u001b[0m     \u001b[1;32mdef\u001b[0m \u001b[0m_send_and_cache\u001b[0m\u001b[1;33m(\u001b[0m\u001b[0mself\u001b[0m\u001b[1;33m,\u001b[0m \u001b[0mrequest\u001b[0m\u001b[1;33m,\u001b[0m \u001b[0mcache_key\u001b[0m\u001b[1;33m,\u001b[0m \u001b[1;33m**\u001b[0m\u001b[0mkwargs\u001b[0m\u001b[1;33m)\u001b[0m\u001b[1;33m:\u001b[0m\u001b[1;33m\u001b[0m\u001b[1;33m\u001b[0m\u001b[0m\n\u001b[0;32m    156\u001b[0m         \u001b[0mlogger\u001b[0m\u001b[1;33m.\u001b[0m\u001b[0mdebug\u001b[0m\u001b[1;33m(\u001b[0m\u001b[1;34mf'Sending request and caching response for URL: {request.url}'\u001b[0m\u001b[1;33m)\u001b[0m\u001b[1;33m\u001b[0m\u001b[1;33m\u001b[0m\u001b[0m\n\u001b[1;32m--> 157\u001b[1;33m         \u001b[0mresponse\u001b[0m \u001b[1;33m=\u001b[0m \u001b[0msuper\u001b[0m\u001b[1;33m(\u001b[0m\u001b[1;33m)\u001b[0m\u001b[1;33m.\u001b[0m\u001b[0msend\u001b[0m\u001b[1;33m(\u001b[0m\u001b[0mrequest\u001b[0m\u001b[1;33m,\u001b[0m \u001b[1;33m**\u001b[0m\u001b[0mkwargs\u001b[0m\u001b[1;33m)\u001b[0m\u001b[1;33m\u001b[0m\u001b[1;33m\u001b[0m\u001b[0m\n\u001b[0m\u001b[0;32m    158\u001b[0m         \u001b[1;32mif\u001b[0m \u001b[0mself\u001b[0m\u001b[1;33m.\u001b[0m\u001b[0m_is_write_enabled\u001b[0m\u001b[1;33m(\u001b[0m\u001b[0mresponse\u001b[0m\u001b[1;33m)\u001b[0m\u001b[1;33m:\u001b[0m\u001b[1;33m\u001b[0m\u001b[1;33m\u001b[0m\u001b[0m\n\u001b[0;32m    159\u001b[0m             \u001b[0mself\u001b[0m\u001b[1;33m.\u001b[0m\u001b[0mcache\u001b[0m\u001b[1;33m.\u001b[0m\u001b[0msave_response\u001b[0m\u001b[1;33m(\u001b[0m\u001b[0mcache_key\u001b[0m\u001b[1;33m,\u001b[0m \u001b[0mresponse\u001b[0m\u001b[1;33m,\u001b[0m \u001b[0mself\u001b[0m\u001b[1;33m.\u001b[0m\u001b[0m_get_expiration\u001b[0m\u001b[1;33m(\u001b[0m\u001b[0mrequest\u001b[0m\u001b[1;33m.\u001b[0m\u001b[0murl\u001b[0m\u001b[1;33m)\u001b[0m\u001b[1;33m)\u001b[0m\u001b[1;33m\u001b[0m\u001b[1;33m\u001b[0m\u001b[0m\n",
      "\u001b[1;32m~\\anaconda3\\envs\\min_ds-env\\lib\\site-packages\\requests\\sessions.py\u001b[0m in \u001b[0;36msend\u001b[1;34m(self, request, **kwargs)\u001b[0m\n\u001b[0;32m    653\u001b[0m \u001b[1;33m\u001b[0m\u001b[0m\n\u001b[0;32m    654\u001b[0m         \u001b[1;31m# Send the request\u001b[0m\u001b[1;33m\u001b[0m\u001b[1;33m\u001b[0m\u001b[1;33m\u001b[0m\u001b[0m\n\u001b[1;32m--> 655\u001b[1;33m         \u001b[0mr\u001b[0m \u001b[1;33m=\u001b[0m \u001b[0madapter\u001b[0m\u001b[1;33m.\u001b[0m\u001b[0msend\u001b[0m\u001b[1;33m(\u001b[0m\u001b[0mrequest\u001b[0m\u001b[1;33m,\u001b[0m \u001b[1;33m**\u001b[0m\u001b[0mkwargs\u001b[0m\u001b[1;33m)\u001b[0m\u001b[1;33m\u001b[0m\u001b[1;33m\u001b[0m\u001b[0m\n\u001b[0m\u001b[0;32m    656\u001b[0m \u001b[1;33m\u001b[0m\u001b[0m\n\u001b[0;32m    657\u001b[0m         \u001b[1;31m# Total elapsed time of the request (approximately)\u001b[0m\u001b[1;33m\u001b[0m\u001b[1;33m\u001b[0m\u001b[1;33m\u001b[0m\u001b[0m\n",
      "\u001b[1;32m~\\anaconda3\\envs\\min_ds-env\\lib\\site-packages\\requests\\adapters.py\u001b[0m in \u001b[0;36msend\u001b[1;34m(self, request, stream, timeout, verify, cert, proxies)\u001b[0m\n\u001b[0;32m    437\u001b[0m         \u001b[1;32mtry\u001b[0m\u001b[1;33m:\u001b[0m\u001b[1;33m\u001b[0m\u001b[1;33m\u001b[0m\u001b[0m\n\u001b[0;32m    438\u001b[0m             \u001b[1;32mif\u001b[0m \u001b[1;32mnot\u001b[0m \u001b[0mchunked\u001b[0m\u001b[1;33m:\u001b[0m\u001b[1;33m\u001b[0m\u001b[1;33m\u001b[0m\u001b[0m\n\u001b[1;32m--> 439\u001b[1;33m                 resp = conn.urlopen(\n\u001b[0m\u001b[0;32m    440\u001b[0m                     \u001b[0mmethod\u001b[0m\u001b[1;33m=\u001b[0m\u001b[0mrequest\u001b[0m\u001b[1;33m.\u001b[0m\u001b[0mmethod\u001b[0m\u001b[1;33m,\u001b[0m\u001b[1;33m\u001b[0m\u001b[1;33m\u001b[0m\u001b[0m\n\u001b[0;32m    441\u001b[0m                     \u001b[0murl\u001b[0m\u001b[1;33m=\u001b[0m\u001b[0murl\u001b[0m\u001b[1;33m,\u001b[0m\u001b[1;33m\u001b[0m\u001b[1;33m\u001b[0m\u001b[0m\n",
      "\u001b[1;32m~\\anaconda3\\envs\\min_ds-env\\lib\\site-packages\\urllib3\\connectionpool.py\u001b[0m in \u001b[0;36murlopen\u001b[1;34m(self, method, url, body, headers, retries, redirect, assert_same_host, timeout, pool_timeout, release_conn, chunked, body_pos, **response_kw)\u001b[0m\n\u001b[0;32m    697\u001b[0m \u001b[1;33m\u001b[0m\u001b[0m\n\u001b[0;32m    698\u001b[0m             \u001b[1;31m# Make the request on the httplib connection object.\u001b[0m\u001b[1;33m\u001b[0m\u001b[1;33m\u001b[0m\u001b[1;33m\u001b[0m\u001b[0m\n\u001b[1;32m--> 699\u001b[1;33m             httplib_response = self._make_request(\n\u001b[0m\u001b[0;32m    700\u001b[0m                 \u001b[0mconn\u001b[0m\u001b[1;33m,\u001b[0m\u001b[1;33m\u001b[0m\u001b[1;33m\u001b[0m\u001b[0m\n\u001b[0;32m    701\u001b[0m                 \u001b[0mmethod\u001b[0m\u001b[1;33m,\u001b[0m\u001b[1;33m\u001b[0m\u001b[1;33m\u001b[0m\u001b[0m\n",
      "\u001b[1;32m~\\anaconda3\\envs\\min_ds-env\\lib\\site-packages\\urllib3\\connectionpool.py\u001b[0m in \u001b[0;36m_make_request\u001b[1;34m(self, conn, method, url, timeout, chunked, **httplib_request_kw)\u001b[0m\n\u001b[0;32m    443\u001b[0m                     \u001b[1;31m# Python 3 (including for exceptions like SystemExit).\u001b[0m\u001b[1;33m\u001b[0m\u001b[1;33m\u001b[0m\u001b[1;33m\u001b[0m\u001b[0m\n\u001b[0;32m    444\u001b[0m                     \u001b[1;31m# Otherwise it looks like a bug in the code.\u001b[0m\u001b[1;33m\u001b[0m\u001b[1;33m\u001b[0m\u001b[1;33m\u001b[0m\u001b[0m\n\u001b[1;32m--> 445\u001b[1;33m                     \u001b[0msix\u001b[0m\u001b[1;33m.\u001b[0m\u001b[0mraise_from\u001b[0m\u001b[1;33m(\u001b[0m\u001b[0me\u001b[0m\u001b[1;33m,\u001b[0m \u001b[1;32mNone\u001b[0m\u001b[1;33m)\u001b[0m\u001b[1;33m\u001b[0m\u001b[1;33m\u001b[0m\u001b[0m\n\u001b[0m\u001b[0;32m    446\u001b[0m         \u001b[1;32mexcept\u001b[0m \u001b[1;33m(\u001b[0m\u001b[0mSocketTimeout\u001b[0m\u001b[1;33m,\u001b[0m \u001b[0mBaseSSLError\u001b[0m\u001b[1;33m,\u001b[0m \u001b[0mSocketError\u001b[0m\u001b[1;33m)\u001b[0m \u001b[1;32mas\u001b[0m \u001b[0me\u001b[0m\u001b[1;33m:\u001b[0m\u001b[1;33m\u001b[0m\u001b[1;33m\u001b[0m\u001b[0m\n\u001b[0;32m    447\u001b[0m             \u001b[0mself\u001b[0m\u001b[1;33m.\u001b[0m\u001b[0m_raise_timeout\u001b[0m\u001b[1;33m(\u001b[0m\u001b[0merr\u001b[0m\u001b[1;33m=\u001b[0m\u001b[0me\u001b[0m\u001b[1;33m,\u001b[0m \u001b[0murl\u001b[0m\u001b[1;33m=\u001b[0m\u001b[0murl\u001b[0m\u001b[1;33m,\u001b[0m \u001b[0mtimeout_value\u001b[0m\u001b[1;33m=\u001b[0m\u001b[0mread_timeout\u001b[0m\u001b[1;33m)\u001b[0m\u001b[1;33m\u001b[0m\u001b[1;33m\u001b[0m\u001b[0m\n",
      "\u001b[1;32m~\\anaconda3\\envs\\min_ds-env\\lib\\site-packages\\urllib3\\packages\\six.py\u001b[0m in \u001b[0;36mraise_from\u001b[1;34m(value, from_value)\u001b[0m\n",
      "\u001b[1;32m~\\anaconda3\\envs\\min_ds-env\\lib\\site-packages\\urllib3\\connectionpool.py\u001b[0m in \u001b[0;36m_make_request\u001b[1;34m(self, conn, method, url, timeout, chunked, **httplib_request_kw)\u001b[0m\n\u001b[0;32m    438\u001b[0m                 \u001b[1;31m# Python 3\u001b[0m\u001b[1;33m\u001b[0m\u001b[1;33m\u001b[0m\u001b[1;33m\u001b[0m\u001b[0m\n\u001b[0;32m    439\u001b[0m                 \u001b[1;32mtry\u001b[0m\u001b[1;33m:\u001b[0m\u001b[1;33m\u001b[0m\u001b[1;33m\u001b[0m\u001b[0m\n\u001b[1;32m--> 440\u001b[1;33m                     \u001b[0mhttplib_response\u001b[0m \u001b[1;33m=\u001b[0m \u001b[0mconn\u001b[0m\u001b[1;33m.\u001b[0m\u001b[0mgetresponse\u001b[0m\u001b[1;33m(\u001b[0m\u001b[1;33m)\u001b[0m\u001b[1;33m\u001b[0m\u001b[1;33m\u001b[0m\u001b[0m\n\u001b[0m\u001b[0;32m    441\u001b[0m                 \u001b[1;32mexcept\u001b[0m \u001b[0mBaseException\u001b[0m \u001b[1;32mas\u001b[0m \u001b[0me\u001b[0m\u001b[1;33m:\u001b[0m\u001b[1;33m\u001b[0m\u001b[1;33m\u001b[0m\u001b[0m\n\u001b[0;32m    442\u001b[0m                     \u001b[1;31m# Remove the TypeError from the exception chain in\u001b[0m\u001b[1;33m\u001b[0m\u001b[1;33m\u001b[0m\u001b[1;33m\u001b[0m\u001b[0m\n",
      "\u001b[1;32m~\\anaconda3\\envs\\min_ds-env\\lib\\http\\client.py\u001b[0m in \u001b[0;36mgetresponse\u001b[1;34m(self)\u001b[0m\n\u001b[0;32m   1345\u001b[0m         \u001b[1;32mtry\u001b[0m\u001b[1;33m:\u001b[0m\u001b[1;33m\u001b[0m\u001b[1;33m\u001b[0m\u001b[0m\n\u001b[0;32m   1346\u001b[0m             \u001b[1;32mtry\u001b[0m\u001b[1;33m:\u001b[0m\u001b[1;33m\u001b[0m\u001b[1;33m\u001b[0m\u001b[0m\n\u001b[1;32m-> 1347\u001b[1;33m                 \u001b[0mresponse\u001b[0m\u001b[1;33m.\u001b[0m\u001b[0mbegin\u001b[0m\u001b[1;33m(\u001b[0m\u001b[1;33m)\u001b[0m\u001b[1;33m\u001b[0m\u001b[1;33m\u001b[0m\u001b[0m\n\u001b[0m\u001b[0;32m   1348\u001b[0m             \u001b[1;32mexcept\u001b[0m \u001b[0mConnectionError\u001b[0m\u001b[1;33m:\u001b[0m\u001b[1;33m\u001b[0m\u001b[1;33m\u001b[0m\u001b[0m\n\u001b[0;32m   1349\u001b[0m                 \u001b[0mself\u001b[0m\u001b[1;33m.\u001b[0m\u001b[0mclose\u001b[0m\u001b[1;33m(\u001b[0m\u001b[1;33m)\u001b[0m\u001b[1;33m\u001b[0m\u001b[1;33m\u001b[0m\u001b[0m\n",
      "\u001b[1;32m~\\anaconda3\\envs\\min_ds-env\\lib\\http\\client.py\u001b[0m in \u001b[0;36mbegin\u001b[1;34m(self)\u001b[0m\n\u001b[0;32m    305\u001b[0m         \u001b[1;31m# read until we get a non-100 response\u001b[0m\u001b[1;33m\u001b[0m\u001b[1;33m\u001b[0m\u001b[1;33m\u001b[0m\u001b[0m\n\u001b[0;32m    306\u001b[0m         \u001b[1;32mwhile\u001b[0m \u001b[1;32mTrue\u001b[0m\u001b[1;33m:\u001b[0m\u001b[1;33m\u001b[0m\u001b[1;33m\u001b[0m\u001b[0m\n\u001b[1;32m--> 307\u001b[1;33m             \u001b[0mversion\u001b[0m\u001b[1;33m,\u001b[0m \u001b[0mstatus\u001b[0m\u001b[1;33m,\u001b[0m \u001b[0mreason\u001b[0m \u001b[1;33m=\u001b[0m \u001b[0mself\u001b[0m\u001b[1;33m.\u001b[0m\u001b[0m_read_status\u001b[0m\u001b[1;33m(\u001b[0m\u001b[1;33m)\u001b[0m\u001b[1;33m\u001b[0m\u001b[1;33m\u001b[0m\u001b[0m\n\u001b[0m\u001b[0;32m    308\u001b[0m             \u001b[1;32mif\u001b[0m \u001b[0mstatus\u001b[0m \u001b[1;33m!=\u001b[0m \u001b[0mCONTINUE\u001b[0m\u001b[1;33m:\u001b[0m\u001b[1;33m\u001b[0m\u001b[1;33m\u001b[0m\u001b[0m\n\u001b[0;32m    309\u001b[0m                 \u001b[1;32mbreak\u001b[0m\u001b[1;33m\u001b[0m\u001b[1;33m\u001b[0m\u001b[0m\n",
      "\u001b[1;32m~\\anaconda3\\envs\\min_ds-env\\lib\\http\\client.py\u001b[0m in \u001b[0;36m_read_status\u001b[1;34m(self)\u001b[0m\n\u001b[0;32m    266\u001b[0m \u001b[1;33m\u001b[0m\u001b[0m\n\u001b[0;32m    267\u001b[0m     \u001b[1;32mdef\u001b[0m \u001b[0m_read_status\u001b[0m\u001b[1;33m(\u001b[0m\u001b[0mself\u001b[0m\u001b[1;33m)\u001b[0m\u001b[1;33m:\u001b[0m\u001b[1;33m\u001b[0m\u001b[1;33m\u001b[0m\u001b[0m\n\u001b[1;32m--> 268\u001b[1;33m         \u001b[0mline\u001b[0m \u001b[1;33m=\u001b[0m \u001b[0mstr\u001b[0m\u001b[1;33m(\u001b[0m\u001b[0mself\u001b[0m\u001b[1;33m.\u001b[0m\u001b[0mfp\u001b[0m\u001b[1;33m.\u001b[0m\u001b[0mreadline\u001b[0m\u001b[1;33m(\u001b[0m\u001b[0m_MAXLINE\u001b[0m \u001b[1;33m+\u001b[0m \u001b[1;36m1\u001b[0m\u001b[1;33m)\u001b[0m\u001b[1;33m,\u001b[0m \u001b[1;34m\"iso-8859-1\"\u001b[0m\u001b[1;33m)\u001b[0m\u001b[1;33m\u001b[0m\u001b[1;33m\u001b[0m\u001b[0m\n\u001b[0m\u001b[0;32m    269\u001b[0m         \u001b[1;32mif\u001b[0m \u001b[0mlen\u001b[0m\u001b[1;33m(\u001b[0m\u001b[0mline\u001b[0m\u001b[1;33m)\u001b[0m \u001b[1;33m>\u001b[0m \u001b[0m_MAXLINE\u001b[0m\u001b[1;33m:\u001b[0m\u001b[1;33m\u001b[0m\u001b[1;33m\u001b[0m\u001b[0m\n\u001b[0;32m    270\u001b[0m             \u001b[1;32mraise\u001b[0m \u001b[0mLineTooLong\u001b[0m\u001b[1;33m(\u001b[0m\u001b[1;34m\"status line\"\u001b[0m\u001b[1;33m)\u001b[0m\u001b[1;33m\u001b[0m\u001b[1;33m\u001b[0m\u001b[0m\n",
      "\u001b[1;32m~\\anaconda3\\envs\\min_ds-env\\lib\\socket.py\u001b[0m in \u001b[0;36mreadinto\u001b[1;34m(self, b)\u001b[0m\n\u001b[0;32m    667\u001b[0m         \u001b[1;32mwhile\u001b[0m \u001b[1;32mTrue\u001b[0m\u001b[1;33m:\u001b[0m\u001b[1;33m\u001b[0m\u001b[1;33m\u001b[0m\u001b[0m\n\u001b[0;32m    668\u001b[0m             \u001b[1;32mtry\u001b[0m\u001b[1;33m:\u001b[0m\u001b[1;33m\u001b[0m\u001b[1;33m\u001b[0m\u001b[0m\n\u001b[1;32m--> 669\u001b[1;33m                 \u001b[1;32mreturn\u001b[0m \u001b[0mself\u001b[0m\u001b[1;33m.\u001b[0m\u001b[0m_sock\u001b[0m\u001b[1;33m.\u001b[0m\u001b[0mrecv_into\u001b[0m\u001b[1;33m(\u001b[0m\u001b[0mb\u001b[0m\u001b[1;33m)\u001b[0m\u001b[1;33m\u001b[0m\u001b[1;33m\u001b[0m\u001b[0m\n\u001b[0m\u001b[0;32m    670\u001b[0m             \u001b[1;32mexcept\u001b[0m \u001b[0mtimeout\u001b[0m\u001b[1;33m:\u001b[0m\u001b[1;33m\u001b[0m\u001b[1;33m\u001b[0m\u001b[0m\n\u001b[0;32m    671\u001b[0m                 \u001b[0mself\u001b[0m\u001b[1;33m.\u001b[0m\u001b[0m_timeout_occurred\u001b[0m \u001b[1;33m=\u001b[0m \u001b[1;32mTrue\u001b[0m\u001b[1;33m\u001b[0m\u001b[1;33m\u001b[0m\u001b[0m\n",
      "\u001b[1;32m~\\anaconda3\\envs\\min_ds-env\\lib\\ssl.py\u001b[0m in \u001b[0;36mrecv_into\u001b[1;34m(self, buffer, nbytes, flags)\u001b[0m\n\u001b[0;32m   1239\u001b[0m                   \u001b[1;34m\"non-zero flags not allowed in calls to recv_into() on %s\"\u001b[0m \u001b[1;33m%\u001b[0m\u001b[1;33m\u001b[0m\u001b[1;33m\u001b[0m\u001b[0m\n\u001b[0;32m   1240\u001b[0m                   self.__class__)\n\u001b[1;32m-> 1241\u001b[1;33m             \u001b[1;32mreturn\u001b[0m \u001b[0mself\u001b[0m\u001b[1;33m.\u001b[0m\u001b[0mread\u001b[0m\u001b[1;33m(\u001b[0m\u001b[0mnbytes\u001b[0m\u001b[1;33m,\u001b[0m \u001b[0mbuffer\u001b[0m\u001b[1;33m)\u001b[0m\u001b[1;33m\u001b[0m\u001b[1;33m\u001b[0m\u001b[0m\n\u001b[0m\u001b[0;32m   1242\u001b[0m         \u001b[1;32melse\u001b[0m\u001b[1;33m:\u001b[0m\u001b[1;33m\u001b[0m\u001b[1;33m\u001b[0m\u001b[0m\n\u001b[0;32m   1243\u001b[0m             \u001b[1;32mreturn\u001b[0m \u001b[0msuper\u001b[0m\u001b[1;33m(\u001b[0m\u001b[1;33m)\u001b[0m\u001b[1;33m.\u001b[0m\u001b[0mrecv_into\u001b[0m\u001b[1;33m(\u001b[0m\u001b[0mbuffer\u001b[0m\u001b[1;33m,\u001b[0m \u001b[0mnbytes\u001b[0m\u001b[1;33m,\u001b[0m \u001b[0mflags\u001b[0m\u001b[1;33m)\u001b[0m\u001b[1;33m\u001b[0m\u001b[1;33m\u001b[0m\u001b[0m\n",
      "\u001b[1;32m~\\anaconda3\\envs\\min_ds-env\\lib\\ssl.py\u001b[0m in \u001b[0;36mread\u001b[1;34m(self, len, buffer)\u001b[0m\n\u001b[0;32m   1097\u001b[0m         \u001b[1;32mtry\u001b[0m\u001b[1;33m:\u001b[0m\u001b[1;33m\u001b[0m\u001b[1;33m\u001b[0m\u001b[0m\n\u001b[0;32m   1098\u001b[0m             \u001b[1;32mif\u001b[0m \u001b[0mbuffer\u001b[0m \u001b[1;32mis\u001b[0m \u001b[1;32mnot\u001b[0m \u001b[1;32mNone\u001b[0m\u001b[1;33m:\u001b[0m\u001b[1;33m\u001b[0m\u001b[1;33m\u001b[0m\u001b[0m\n\u001b[1;32m-> 1099\u001b[1;33m                 \u001b[1;32mreturn\u001b[0m \u001b[0mself\u001b[0m\u001b[1;33m.\u001b[0m\u001b[0m_sslobj\u001b[0m\u001b[1;33m.\u001b[0m\u001b[0mread\u001b[0m\u001b[1;33m(\u001b[0m\u001b[0mlen\u001b[0m\u001b[1;33m,\u001b[0m \u001b[0mbuffer\u001b[0m\u001b[1;33m)\u001b[0m\u001b[1;33m\u001b[0m\u001b[1;33m\u001b[0m\u001b[0m\n\u001b[0m\u001b[0;32m   1100\u001b[0m             \u001b[1;32melse\u001b[0m\u001b[1;33m:\u001b[0m\u001b[1;33m\u001b[0m\u001b[1;33m\u001b[0m\u001b[0m\n\u001b[0;32m   1101\u001b[0m                 \u001b[1;32mreturn\u001b[0m \u001b[0mself\u001b[0m\u001b[1;33m.\u001b[0m\u001b[0m_sslobj\u001b[0m\u001b[1;33m.\u001b[0m\u001b[0mread\u001b[0m\u001b[1;33m(\u001b[0m\u001b[0mlen\u001b[0m\u001b[1;33m)\u001b[0m\u001b[1;33m\u001b[0m\u001b[1;33m\u001b[0m\u001b[0m\n",
      "\u001b[1;31mKeyboardInterrupt\u001b[0m: "
     ]
    }
   ],
   "source": [
    "\n",
    "for product_id in product_list:\n",
    "    response = requests.get(product_url.format(product_id), headers=headers)\n",
    "    if (response.status_code == 200):\n",
    "        product_detail_list.append(response.text)\n",
    "        print(\"Crawl product: \", product_id, \": \", response.status_code)\n"
   ]
  },
  {
   "cell_type": "code",
   "execution_count": 13,
   "id": "ccc0f285",
   "metadata": {},
   "outputs": [
    {
     "name": "stdout",
     "output_type": "stream",
     "text": [
      "[]\n"
     ]
    }
   ],
   "source": [
    "print(product_detail_list)"
   ]
  },
  {
   "cell_type": "code",
   "execution_count": 8,
   "id": "21a6c894",
   "metadata": {},
   "outputs": [
    {
     "data": {
      "text/plain": [
       "54"
      ]
     },
     "execution_count": 8,
     "metadata": {},
     "output_type": "execute_result"
    }
   ],
   "source": [
    "13*4+2"
   ]
  },
  {
   "cell_type": "code",
   "execution_count": null,
   "id": "3a4e23c0",
   "metadata": {},
   "outputs": [],
   "source": []
  }
 ],
 "metadata": {
  "kernelspec": {
   "display_name": "Python 3 (ipykernel)",
   "language": "python",
   "name": "python3"
  },
  "language_info": {
   "codemirror_mode": {
    "name": "ipython",
    "version": 3
   },
   "file_extension": ".py",
   "mimetype": "text/x-python",
   "name": "python",
   "nbconvert_exporter": "python",
   "pygments_lexer": "ipython3",
   "version": "3.8.8"
  }
 },
 "nbformat": 4,
 "nbformat_minor": 5
}
