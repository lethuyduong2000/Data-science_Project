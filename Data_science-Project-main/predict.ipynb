{
 "cells": [
  {
   "cell_type": "code",
   "execution_count": 3,
   "id": "b7018c06",
   "metadata": {},
   "outputs": [],
   "source": [
    "import pandas as pd\n",
    "import numpy as np\n",
    "from sklearn.model_selection import train_test_split\n",
    "from sklearn.preprocessing import OneHotEncoder, LabelEncoder, StandardScaler\n",
    "from sklearn.impute import SimpleImputer\n",
    "from sklearn.base import BaseEstimator, TransformerMixin\n",
    "from sklearn.pipeline import Pipeline, make_pipeline\n",
    "from sklearn.compose import ColumnTransformer, make_column_transformer\n",
    "from sklearn.neural_network import MLPClassifier, MLPRegressor\n",
    "from sklearn import set_config\n",
    "set_config(display='diagram')"
   ]
  },
  {
   "cell_type": "code",
   "execution_count": 34,
   "id": "d83788b0",
   "metadata": {},
   "outputs": [
    {
     "data": {
      "text/html": [
       "<div>\n",
       "<style scoped>\n",
       "    .dataframe tbody tr th:only-of-type {\n",
       "        vertical-align: middle;\n",
       "    }\n",
       "\n",
       "    .dataframe tbody tr th {\n",
       "        vertical-align: top;\n",
       "    }\n",
       "\n",
       "    .dataframe thead th {\n",
       "        text-align: right;\n",
       "    }\n",
       "</style>\n",
       "<table border=\"1\" class=\"dataframe\">\n",
       "  <thead>\n",
       "    <tr style=\"text-align: right;\">\n",
       "      <th></th>\n",
       "      <th>name</th>\n",
       "      <th>brand</th>\n",
       "      <th>discount_price</th>\n",
       "      <th>price</th>\n",
       "      <th>rating</th>\n",
       "      <th>num_reviews</th>\n",
       "      <th>quantity_sold</th>\n",
       "    </tr>\n",
       "    <tr>\n",
       "      <th>id</th>\n",
       "      <th></th>\n",
       "      <th></th>\n",
       "      <th></th>\n",
       "      <th></th>\n",
       "      <th></th>\n",
       "      <th></th>\n",
       "      <th></th>\n",
       "    </tr>\n",
       "  </thead>\n",
       "  <tbody>\n",
       "    <tr>\n",
       "      <th>76181490.0</th>\n",
       "      <td>Phần Mềm Diệt Virus BKAV Profressional 12 Thán...</td>\n",
       "      <td>Bkav</td>\n",
       "      <td>195000.0</td>\n",
       "      <td>299000.0</td>\n",
       "      <td>4.8</td>\n",
       "      <td>927.0</td>\n",
       "      <td>23907.0</td>\n",
       "    </tr>\n",
       "    <tr>\n",
       "      <th>416978.0</th>\n",
       "      <td>Bộ Chuyển Đổi USB Wifi Nano TP-Link TL-WN725N ...</td>\n",
       "      <td>TP-Link</td>\n",
       "      <td>117300.0</td>\n",
       "      <td>239000.0</td>\n",
       "      <td>4.5</td>\n",
       "      <td>611.0</td>\n",
       "      <td>6677.0</td>\n",
       "    </tr>\n",
       "    <tr>\n",
       "      <th>53056161.0</th>\n",
       "      <td>Phần mềm Microsoft 365 Family English APAC EM ...</td>\n",
       "      <td>Microsoft</td>\n",
       "      <td>1190000.0</td>\n",
       "      <td>1690000.0</td>\n",
       "      <td>5.0</td>\n",
       "      <td>720.0</td>\n",
       "      <td>3132.0</td>\n",
       "    </tr>\n",
       "    <tr>\n",
       "      <th>73795655.0</th>\n",
       "      <td>Apple Macbook Pro 2020 M1 - 13 Inchs (Apple M1...</td>\n",
       "      <td>Apple</td>\n",
       "      <td>30990000.0</td>\n",
       "      <td>34990000.0</td>\n",
       "      <td>5.0</td>\n",
       "      <td>209.0</td>\n",
       "      <td>460.0</td>\n",
       "    </tr>\n",
       "    <tr>\n",
       "      <th>23393172.0</th>\n",
       "      <td>Máy in HP Neverstop Laser 1000w  (In/Wifi/Trắn...</td>\n",
       "      <td>HP</td>\n",
       "      <td>3100000.0</td>\n",
       "      <td>4290000.0</td>\n",
       "      <td>0.0</td>\n",
       "      <td>0.0</td>\n",
       "      <td>0.0</td>\n",
       "    </tr>\n",
       "    <tr>\n",
       "      <th>...</th>\n",
       "      <td>...</td>\n",
       "      <td>...</td>\n",
       "      <td>...</td>\n",
       "      <td>...</td>\n",
       "      <td>...</td>\n",
       "      <td>...</td>\n",
       "      <td>...</td>\n",
       "    </tr>\n",
       "    <tr>\n",
       "      <th>97251112.0</th>\n",
       "      <td>Bột Cà Chua Trivie</td>\n",
       "      <td>Trivie</td>\n",
       "      <td>84000.0</td>\n",
       "      <td>84000.0</td>\n",
       "      <td>0.0</td>\n",
       "      <td>0.0</td>\n",
       "      <td>1.0</td>\n",
       "    </tr>\n",
       "    <tr>\n",
       "      <th>85095152.0</th>\n",
       "      <td>LỌC THÁC VIPSUN 303H - LỌC THÁC MINI CHO HỒ CÁ...</td>\n",
       "      <td>OEM</td>\n",
       "      <td>100000.0</td>\n",
       "      <td>104000.0</td>\n",
       "      <td>0.0</td>\n",
       "      <td>0.0</td>\n",
       "      <td>1.0</td>\n",
       "    </tr>\n",
       "    <tr>\n",
       "      <th>791327.0</th>\n",
       "      <td>Hỗn Hợp Ngũ Cốc Roasted Muesli Brookfarm (350g)</td>\n",
       "      <td>BROOKFARM</td>\n",
       "      <td>236000.0</td>\n",
       "      <td>236000.0</td>\n",
       "      <td>3.5</td>\n",
       "      <td>6.0</td>\n",
       "      <td>244.0</td>\n",
       "    </tr>\n",
       "    <tr>\n",
       "      <th>112086010.0</th>\n",
       "      <td>Cháo Ăn Liền Cao Cấp Khánh Hòa Nutrition</td>\n",
       "      <td>Khánh Hòa Nutrition</td>\n",
       "      <td>220000.0</td>\n",
       "      <td>220000.0</td>\n",
       "      <td>0.0</td>\n",
       "      <td>0.0</td>\n",
       "      <td>2.0</td>\n",
       "    </tr>\n",
       "    <tr>\n",
       "      <th>8258702.0</th>\n",
       "      <td>Máy sủi siêu êm 4 vòi ACO-9610</td>\n",
       "      <td>OEM</td>\n",
       "      <td>350000.0</td>\n",
       "      <td>400000.0</td>\n",
       "      <td>5.0</td>\n",
       "      <td>1.0</td>\n",
       "      <td>3.0</td>\n",
       "    </tr>\n",
       "  </tbody>\n",
       "</table>\n",
       "<p>20021 rows × 7 columns</p>\n",
       "</div>"
      ],
      "text/plain": [
       "                                                          name  \\\n",
       "id                                                               \n",
       "76181490.0   Phần Mềm Diệt Virus BKAV Profressional 12 Thán...   \n",
       "416978.0     Bộ Chuyển Đổi USB Wifi Nano TP-Link TL-WN725N ...   \n",
       "53056161.0   Phần mềm Microsoft 365 Family English APAC EM ...   \n",
       "73795655.0   Apple Macbook Pro 2020 M1 - 13 Inchs (Apple M1...   \n",
       "23393172.0   Máy in HP Neverstop Laser 1000w  (In/Wifi/Trắn...   \n",
       "...                                                        ...   \n",
       "97251112.0                                  Bột Cà Chua Trivie   \n",
       "85095152.0   LỌC THÁC VIPSUN 303H - LỌC THÁC MINI CHO HỒ CÁ...   \n",
       "791327.0       Hỗn Hợp Ngũ Cốc Roasted Muesli Brookfarm (350g)   \n",
       "112086010.0          Cháo Ăn Liền Cao Cấp Khánh Hòa Nutrition    \n",
       "8258702.0                       Máy sủi siêu êm 4 vòi ACO-9610   \n",
       "\n",
       "                           brand  discount_price       price  rating  \\\n",
       "id                                                                     \n",
       "76181490.0                  Bkav        195000.0    299000.0     4.8   \n",
       "416978.0                 TP-Link        117300.0    239000.0     4.5   \n",
       "53056161.0             Microsoft       1190000.0   1690000.0     5.0   \n",
       "73795655.0                 Apple      30990000.0  34990000.0     5.0   \n",
       "23393172.0                    HP       3100000.0   4290000.0     0.0   \n",
       "...                          ...             ...         ...     ...   \n",
       "97251112.0                Trivie         84000.0     84000.0     0.0   \n",
       "85095152.0                   OEM        100000.0    104000.0     0.0   \n",
       "791327.0               BROOKFARM        236000.0    236000.0     3.5   \n",
       "112086010.0  Khánh Hòa Nutrition        220000.0    220000.0     0.0   \n",
       "8258702.0                    OEM        350000.0    400000.0     5.0   \n",
       "\n",
       "             num_reviews  quantity_sold  \n",
       "id                                       \n",
       "76181490.0         927.0        23907.0  \n",
       "416978.0           611.0         6677.0  \n",
       "53056161.0         720.0         3132.0  \n",
       "73795655.0         209.0          460.0  \n",
       "23393172.0           0.0            0.0  \n",
       "...                  ...            ...  \n",
       "97251112.0           0.0            1.0  \n",
       "85095152.0           0.0            1.0  \n",
       "791327.0             6.0          244.0  \n",
       "112086010.0          0.0            2.0  \n",
       "8258702.0            1.0            3.0  \n",
       "\n",
       "[20021 rows x 7 columns]"
      ]
     },
     "execution_count": 34,
     "metadata": {},
     "output_type": "execute_result"
    }
   ],
   "source": [
    "df = pd.read_csv('products.tsv', sep='\\t', index_col='id')\n",
    "df"
   ]
  },
  {
   "cell_type": "markdown",
   "id": "43cc7574",
   "metadata": {},
   "source": [
    "## Khám phá dữ liệu"
   ]
  },
  {
   "cell_type": "code",
   "execution_count": 35,
   "id": "5490d3e4",
   "metadata": {},
   "outputs": [
    {
     "data": {
      "text/plain": [
       "(20021, 7)"
      ]
     },
     "execution_count": 35,
     "metadata": {},
     "output_type": "execute_result"
    }
   ],
   "source": [
    "df.shape"
   ]
  },
  {
   "cell_type": "code",
   "execution_count": 36,
   "id": "1b01c5b4",
   "metadata": {},
   "outputs": [
    {
     "data": {
      "text/plain": [
       "name              0\n",
       "brand             1\n",
       "discount_price    1\n",
       "price             1\n",
       "rating            1\n",
       "num_reviews       1\n",
       "quantity_sold     2\n",
       "dtype: int64"
      ]
     },
     "execution_count": 36,
     "metadata": {},
     "output_type": "execute_result"
    }
   ],
   "source": [
    "df.isna().sum()"
   ]
  },
  {
   "cell_type": "markdown",
   "id": "cfec70ae",
   "metadata": {},
   "source": [
    "Vì chỉ có 2 dòng có giá trị thiếu nên sẽ xoá luôn 2 dòng này "
   ]
  },
  {
   "cell_type": "code",
   "execution_count": 37,
   "id": "e3e0bd21",
   "metadata": {},
   "outputs": [
    {
     "data": {
      "text/plain": [
       "14"
      ]
     },
     "execution_count": 37,
     "metadata": {},
     "output_type": "execute_result"
    }
   ],
   "source": [
    "df.duplicated().sum()"
   ]
  },
  {
   "cell_type": "markdown",
   "id": "4314bd91",
   "metadata": {},
   "source": [
    "Có 14 dòng bị lặp"
   ]
  },
  {
   "cell_type": "code",
   "execution_count": 38,
   "id": "a5fdaa50",
   "metadata": {},
   "outputs": [
    {
     "data": {
      "text/html": [
       "<div>\n",
       "<style scoped>\n",
       "    .dataframe tbody tr th:only-of-type {\n",
       "        vertical-align: middle;\n",
       "    }\n",
       "\n",
       "    .dataframe tbody tr th {\n",
       "        vertical-align: top;\n",
       "    }\n",
       "\n",
       "    .dataframe thead th {\n",
       "        text-align: right;\n",
       "    }\n",
       "</style>\n",
       "<table border=\"1\" class=\"dataframe\">\n",
       "  <thead>\n",
       "    <tr style=\"text-align: right;\">\n",
       "      <th></th>\n",
       "      <th>name</th>\n",
       "      <th>brand</th>\n",
       "      <th>discount_price</th>\n",
       "      <th>price</th>\n",
       "      <th>rating</th>\n",
       "      <th>num_reviews</th>\n",
       "      <th>quantity_sold</th>\n",
       "    </tr>\n",
       "    <tr>\n",
       "      <th>id</th>\n",
       "      <th></th>\n",
       "      <th></th>\n",
       "      <th></th>\n",
       "      <th></th>\n",
       "      <th></th>\n",
       "      <th></th>\n",
       "      <th></th>\n",
       "    </tr>\n",
       "  </thead>\n",
       "  <tbody>\n",
       "    <tr>\n",
       "      <th>109581548.0</th>\n",
       "      <td>Bộ Phát Wifi Mesh TP-Link Deco X60 AX3000 MU-M...</td>\n",
       "      <td>TP-Link</td>\n",
       "      <td>8390000.0</td>\n",
       "      <td>9999000.0</td>\n",
       "      <td>0.0</td>\n",
       "      <td>0.0</td>\n",
       "      <td>1.0</td>\n",
       "    </tr>\n",
       "    <tr>\n",
       "      <th>55963318.0</th>\n",
       "      <td>Sạc cho laptop Dell Latitude 3540, 3480, Vostr...</td>\n",
       "      <td>OEM</td>\n",
       "      <td>255000.0</td>\n",
       "      <td>450000.0</td>\n",
       "      <td>0.0</td>\n",
       "      <td>0.0</td>\n",
       "      <td>0.0</td>\n",
       "    </tr>\n",
       "    <tr>\n",
       "      <th>73599551.0</th>\n",
       "      <td>Pin dành cho Laptop DELL Inspiron 14-7460. 7460</td>\n",
       "      <td>OEM</td>\n",
       "      <td>760000.0</td>\n",
       "      <td>1200000.0</td>\n",
       "      <td>0.0</td>\n",
       "      <td>0.0</td>\n",
       "      <td>0.0</td>\n",
       "    </tr>\n",
       "    <tr>\n",
       "      <th>15295300.0</th>\n",
       "      <td>[ Set 10 thẻ] Thẻ từ máy chấm công tần số 125K...</td>\n",
       "      <td>OEM</td>\n",
       "      <td>58000.0</td>\n",
       "      <td>200000.0</td>\n",
       "      <td>5.0</td>\n",
       "      <td>2.0</td>\n",
       "      <td>26.0</td>\n",
       "    </tr>\n",
       "    <tr>\n",
       "      <th>98388758.0</th>\n",
       "      <td>Combo mic thu âm Livestream H9 và Mic Bm 900 ...</td>\n",
       "      <td>OEM</td>\n",
       "      <td>736000.0</td>\n",
       "      <td>936000.0</td>\n",
       "      <td>0.0</td>\n",
       "      <td>0.0</td>\n",
       "      <td>0.0</td>\n",
       "    </tr>\n",
       "    <tr>\n",
       "      <th>100186669.0</th>\n",
       "      <td>Giá đỡ làm mát máy tính sách tay, dụng cụ hỗ t...</td>\n",
       "      <td>OEM</td>\n",
       "      <td>15000.0</td>\n",
       "      <td>18000.0</td>\n",
       "      <td>0.0</td>\n",
       "      <td>0.0</td>\n",
       "      <td>0.0</td>\n",
       "    </tr>\n",
       "    <tr>\n",
       "      <th>47511272.0</th>\n",
       "      <td>Case máy tính NZXT H510 Elite (White) - Hàng c...</td>\n",
       "      <td>NZXT</td>\n",
       "      <td>4090000.0</td>\n",
       "      <td>4196000.0</td>\n",
       "      <td>0.0</td>\n",
       "      <td>0.0</td>\n",
       "      <td>2.0</td>\n",
       "    </tr>\n",
       "    <tr>\n",
       "      <th>52250532.0</th>\n",
       "      <td>2 XẤP THẺ GIẤY CHẤM CÔNG- BÌA CỨNG- HÀNG NHẬP ...</td>\n",
       "      <td>RONALD JACK</td>\n",
       "      <td>160000.0</td>\n",
       "      <td>240000.0</td>\n",
       "      <td>0.0</td>\n",
       "      <td>0.0</td>\n",
       "      <td>2.0</td>\n",
       "    </tr>\n",
       "    <tr>\n",
       "      <th>109686786.0</th>\n",
       "      <td>Ổ cứng Toshiba/S300/Surveillance dung lượng ch...</td>\n",
       "      <td>Toshiba</td>\n",
       "      <td>883000.0</td>\n",
       "      <td>1330000.0</td>\n",
       "      <td>4.0</td>\n",
       "      <td>1.0</td>\n",
       "      <td>1.0</td>\n",
       "    </tr>\n",
       "    <tr>\n",
       "      <th>50392293.0</th>\n",
       "      <td>MÁY KIỂM SOÁT TUẦN TRA BẢO VỆ GS6000B - HÀNG N...</td>\n",
       "      <td>GS</td>\n",
       "      <td>3100000.0</td>\n",
       "      <td>4000000.0</td>\n",
       "      <td>0.0</td>\n",
       "      <td>0.0</td>\n",
       "      <td>1.0</td>\n",
       "    </tr>\n",
       "    <tr>\n",
       "      <th>103113512.0</th>\n",
       "      <td>Ổ Cứng SSD 128GB Dahua DSS - Hàng Chính Hãng</td>\n",
       "      <td>Dahua</td>\n",
       "      <td>750000.0</td>\n",
       "      <td>750000.0</td>\n",
       "      <td>0.0</td>\n",
       "      <td>0.0</td>\n",
       "      <td>0.0</td>\n",
       "    </tr>\n",
       "    <tr>\n",
       "      <th>113490702.0</th>\n",
       "      <td>Sạc cho Laptop ASUS TUF Gaming A15 TUF506 TUF5...</td>\n",
       "      <td>OEM</td>\n",
       "      <td>850000.0</td>\n",
       "      <td>1250000.0</td>\n",
       "      <td>0.0</td>\n",
       "      <td>0.0</td>\n",
       "      <td>0.0</td>\n",
       "    </tr>\n",
       "    <tr>\n",
       "      <th>116583246.0</th>\n",
       "      <td>Bộ Combo Sản Phẩm Máy Hát Loa Kèn + Điện Thoại...</td>\n",
       "      <td>OEM</td>\n",
       "      <td>6800000.0</td>\n",
       "      <td>9800000.0</td>\n",
       "      <td>0.0</td>\n",
       "      <td>0.0</td>\n",
       "      <td>0.0</td>\n",
       "    </tr>\n",
       "    <tr>\n",
       "      <th>114815897.0</th>\n",
       "      <td>Tổ Yến Sào Tinh Chế (8g/Hộp) (Tổ Yến làm sạch/...</td>\n",
       "      <td>YẾN SÀO TRUNG NAM</td>\n",
       "      <td>395000.0</td>\n",
       "      <td>450000.0</td>\n",
       "      <td>5.0</td>\n",
       "      <td>9.0</td>\n",
       "      <td>188.0</td>\n",
       "    </tr>\n",
       "  </tbody>\n",
       "</table>\n",
       "</div>"
      ],
      "text/plain": [
       "                                                          name  \\\n",
       "id                                                               \n",
       "109581548.0  Bộ Phát Wifi Mesh TP-Link Deco X60 AX3000 MU-M...   \n",
       "55963318.0   Sạc cho laptop Dell Latitude 3540, 3480, Vostr...   \n",
       "73599551.0     Pin dành cho Laptop DELL Inspiron 14-7460. 7460   \n",
       "15295300.0   [ Set 10 thẻ] Thẻ từ máy chấm công tần số 125K...   \n",
       "98388758.0    Combo mic thu âm Livestream H9 và Mic Bm 900 ...   \n",
       "100186669.0  Giá đỡ làm mát máy tính sách tay, dụng cụ hỗ t...   \n",
       "47511272.0   Case máy tính NZXT H510 Elite (White) - Hàng c...   \n",
       "52250532.0   2 XẤP THẺ GIẤY CHẤM CÔNG- BÌA CỨNG- HÀNG NHẬP ...   \n",
       "109686786.0  Ổ cứng Toshiba/S300/Surveillance dung lượng ch...   \n",
       "50392293.0   MÁY KIỂM SOÁT TUẦN TRA BẢO VỆ GS6000B - HÀNG N...   \n",
       "103113512.0       Ổ Cứng SSD 128GB Dahua DSS - Hàng Chính Hãng   \n",
       "113490702.0  Sạc cho Laptop ASUS TUF Gaming A15 TUF506 TUF5...   \n",
       "116583246.0  Bộ Combo Sản Phẩm Máy Hát Loa Kèn + Điện Thoại...   \n",
       "114815897.0  Tổ Yến Sào Tinh Chế (8g/Hộp) (Tổ Yến làm sạch/...   \n",
       "\n",
       "                         brand  discount_price      price  rating  \\\n",
       "id                                                                  \n",
       "109581548.0            TP-Link       8390000.0  9999000.0     0.0   \n",
       "55963318.0                 OEM        255000.0   450000.0     0.0   \n",
       "73599551.0                 OEM        760000.0  1200000.0     0.0   \n",
       "15295300.0                 OEM         58000.0   200000.0     5.0   \n",
       "98388758.0                 OEM        736000.0   936000.0     0.0   \n",
       "100186669.0                OEM         15000.0    18000.0     0.0   \n",
       "47511272.0                NZXT       4090000.0  4196000.0     0.0   \n",
       "52250532.0         RONALD JACK        160000.0   240000.0     0.0   \n",
       "109686786.0            Toshiba        883000.0  1330000.0     4.0   \n",
       "50392293.0                  GS       3100000.0  4000000.0     0.0   \n",
       "103113512.0              Dahua        750000.0   750000.0     0.0   \n",
       "113490702.0                OEM        850000.0  1250000.0     0.0   \n",
       "116583246.0                OEM       6800000.0  9800000.0     0.0   \n",
       "114815897.0  YẾN SÀO TRUNG NAM        395000.0   450000.0     5.0   \n",
       "\n",
       "             num_reviews  quantity_sold  \n",
       "id                                       \n",
       "109581548.0          0.0            1.0  \n",
       "55963318.0           0.0            0.0  \n",
       "73599551.0           0.0            0.0  \n",
       "15295300.0           2.0           26.0  \n",
       "98388758.0           0.0            0.0  \n",
       "100186669.0          0.0            0.0  \n",
       "47511272.0           0.0            2.0  \n",
       "52250532.0           0.0            2.0  \n",
       "109686786.0          1.0            1.0  \n",
       "50392293.0           0.0            1.0  \n",
       "103113512.0          0.0            0.0  \n",
       "113490702.0          0.0            0.0  \n",
       "116583246.0          0.0            0.0  \n",
       "114815897.0          9.0          188.0  "
      ]
     },
     "execution_count": 38,
     "metadata": {},
     "output_type": "execute_result"
    }
   ],
   "source": [
    "df[df.duplicated()]"
   ]
  },
  {
   "cell_type": "code",
   "execution_count": 12,
   "id": "f8ba890d",
   "metadata": {},
   "outputs": [
    {
     "data": {
      "text/plain": [
       "23"
      ]
     },
     "execution_count": 12,
     "metadata": {},
     "output_type": "execute_result"
    }
   ],
   "source": [
    "df.index.duplicated().sum()"
   ]
  },
  {
   "cell_type": "markdown",
   "id": "18d8547f",
   "metadata": {},
   "source": [
    "Có 23 ID bị lặp"
   ]
  },
  {
   "cell_type": "code",
   "execution_count": 13,
   "id": "63d08770",
   "metadata": {},
   "outputs": [
    {
     "data": {
      "text/html": [
       "<div>\n",
       "<style scoped>\n",
       "    .dataframe tbody tr th:only-of-type {\n",
       "        vertical-align: middle;\n",
       "    }\n",
       "\n",
       "    .dataframe tbody tr th {\n",
       "        vertical-align: top;\n",
       "    }\n",
       "\n",
       "    .dataframe thead th {\n",
       "        text-align: right;\n",
       "    }\n",
       "</style>\n",
       "<table border=\"1\" class=\"dataframe\">\n",
       "  <thead>\n",
       "    <tr style=\"text-align: right;\">\n",
       "      <th></th>\n",
       "      <th>name</th>\n",
       "      <th>brand</th>\n",
       "      <th>discount_price</th>\n",
       "      <th>price</th>\n",
       "      <th>rating</th>\n",
       "      <th>num_reviews</th>\n",
       "      <th>quantity_sold</th>\n",
       "    </tr>\n",
       "    <tr>\n",
       "      <th>id</th>\n",
       "      <th></th>\n",
       "      <th></th>\n",
       "      <th></th>\n",
       "      <th></th>\n",
       "      <th></th>\n",
       "      <th></th>\n",
       "      <th></th>\n",
       "    </tr>\n",
       "  </thead>\n",
       "  <tbody>\n",
       "    <tr>\n",
       "      <th>109581548.0</th>\n",
       "      <td>Bộ Phát Wifi Mesh TP-Link Deco X60 AX3000 MU-M...</td>\n",
       "      <td>TP-Link</td>\n",
       "      <td>8390000.0</td>\n",
       "      <td>9999000.0</td>\n",
       "      <td>0.0</td>\n",
       "      <td>0.0</td>\n",
       "      <td>1.0</td>\n",
       "    </tr>\n",
       "    <tr>\n",
       "      <th>55963318.0</th>\n",
       "      <td>Sạc cho laptop Dell Latitude 3540, 3480, Vostr...</td>\n",
       "      <td>OEM</td>\n",
       "      <td>255000.0</td>\n",
       "      <td>450000.0</td>\n",
       "      <td>0.0</td>\n",
       "      <td>0.0</td>\n",
       "      <td>0.0</td>\n",
       "    </tr>\n",
       "    <tr>\n",
       "      <th>38384495.0</th>\n",
       "      <td>Nguồn 5V 2A Adapter Máy Chấm Công - Hàng Nhập ...</td>\n",
       "      <td>OEM</td>\n",
       "      <td>299000.0</td>\n",
       "      <td>680000.0</td>\n",
       "      <td>0.0</td>\n",
       "      <td>0.0</td>\n",
       "      <td>0.0</td>\n",
       "    </tr>\n",
       "    <tr>\n",
       "      <th>73599551.0</th>\n",
       "      <td>Pin dành cho Laptop DELL Inspiron 14-7460. 7460</td>\n",
       "      <td>OEM</td>\n",
       "      <td>760000.0</td>\n",
       "      <td>1200000.0</td>\n",
       "      <td>0.0</td>\n",
       "      <td>0.0</td>\n",
       "      <td>0.0</td>\n",
       "    </tr>\n",
       "    <tr>\n",
       "      <th>107058325.0</th>\n",
       "      <td>Máy chấm công quét vân tay Deli – màu đen - E3960</td>\n",
       "      <td>Deli</td>\n",
       "      <td>915000.0</td>\n",
       "      <td>1078000.0</td>\n",
       "      <td>0.0</td>\n",
       "      <td>0.0</td>\n",
       "      <td>4.0</td>\n",
       "    </tr>\n",
       "    <tr>\n",
       "      <th>15295300.0</th>\n",
       "      <td>[ Set 10 thẻ] Thẻ từ máy chấm công tần số 125K...</td>\n",
       "      <td>OEM</td>\n",
       "      <td>58000.0</td>\n",
       "      <td>200000.0</td>\n",
       "      <td>5.0</td>\n",
       "      <td>2.0</td>\n",
       "      <td>26.0</td>\n",
       "    </tr>\n",
       "    <tr>\n",
       "      <th>31547491.0</th>\n",
       "      <td>Khay Chuyển Ổ Cứng 2.5 Inch Sang 3.5 Inch Dùng...</td>\n",
       "      <td>OEM</td>\n",
       "      <td>25000.0</td>\n",
       "      <td>40000.0</td>\n",
       "      <td>4.0</td>\n",
       "      <td>1.0</td>\n",
       "      <td>7.0</td>\n",
       "    </tr>\n",
       "    <tr>\n",
       "      <th>98388758.0</th>\n",
       "      <td>Combo mic thu âm Livestream H9 và Mic Bm 900 ...</td>\n",
       "      <td>OEM</td>\n",
       "      <td>736000.0</td>\n",
       "      <td>936000.0</td>\n",
       "      <td>0.0</td>\n",
       "      <td>0.0</td>\n",
       "      <td>0.0</td>\n",
       "    </tr>\n",
       "    <tr>\n",
       "      <th>59237304.0</th>\n",
       "      <td>Bàn phím dành cho Laptop Toshiba Satellite C64...</td>\n",
       "      <td>OEM</td>\n",
       "      <td>265000.0</td>\n",
       "      <td>320000.0</td>\n",
       "      <td>4.5</td>\n",
       "      <td>2.0</td>\n",
       "      <td>2.0</td>\n",
       "    </tr>\n",
       "    <tr>\n",
       "      <th>14991077.0</th>\n",
       "      <td>Máy chấm công Ronald Jack RJ500 - Hàng chính hãng</td>\n",
       "      <td>RONALD JACK</td>\n",
       "      <td>2689000.0</td>\n",
       "      <td>3000000.0</td>\n",
       "      <td>5.0</td>\n",
       "      <td>8.0</td>\n",
       "      <td>17.0</td>\n",
       "    </tr>\n",
       "    <tr>\n",
       "      <th>47511272.0</th>\n",
       "      <td>Case máy tính NZXT H510 Elite (White) - Hàng c...</td>\n",
       "      <td>NZXT</td>\n",
       "      <td>4090000.0</td>\n",
       "      <td>4196000.0</td>\n",
       "      <td>0.0</td>\n",
       "      <td>0.0</td>\n",
       "      <td>2.0</td>\n",
       "    </tr>\n",
       "    <tr>\n",
       "      <th>52250532.0</th>\n",
       "      <td>2 XẤP THẺ GIẤY CHẤM CÔNG- BÌA CỨNG- HÀNG NHẬP ...</td>\n",
       "      <td>RONALD JACK</td>\n",
       "      <td>160000.0</td>\n",
       "      <td>240000.0</td>\n",
       "      <td>0.0</td>\n",
       "      <td>0.0</td>\n",
       "      <td>2.0</td>\n",
       "    </tr>\n",
       "    <tr>\n",
       "      <th>109686786.0</th>\n",
       "      <td>Ổ cứng Toshiba/S300/Surveillance dung lượng ch...</td>\n",
       "      <td>Toshiba</td>\n",
       "      <td>883000.0</td>\n",
       "      <td>1330000.0</td>\n",
       "      <td>4.0</td>\n",
       "      <td>1.0</td>\n",
       "      <td>1.0</td>\n",
       "    </tr>\n",
       "    <tr>\n",
       "      <th>50392293.0</th>\n",
       "      <td>MÁY KIỂM SOÁT TUẦN TRA BẢO VỆ GS6000B - HÀNG N...</td>\n",
       "      <td>GS</td>\n",
       "      <td>3100000.0</td>\n",
       "      <td>4000000.0</td>\n",
       "      <td>0.0</td>\n",
       "      <td>0.0</td>\n",
       "      <td>1.0</td>\n",
       "    </tr>\n",
       "    <tr>\n",
       "      <th>32924655.0</th>\n",
       "      <td>Set 5 cuộn decal in tem nhãn, mã vạch 50x30mm,...</td>\n",
       "      <td>OEM</td>\n",
       "      <td>240000.0</td>\n",
       "      <td>730000.0</td>\n",
       "      <td>5.0</td>\n",
       "      <td>2.0</td>\n",
       "      <td>11.0</td>\n",
       "    </tr>\n",
       "    <tr>\n",
       "      <th>13779083.0</th>\n",
       "      <td>Nhãn in TZ2-231 tiêu chuẩn - Chữ đen trên nền ...</td>\n",
       "      <td>LAMINATED</td>\n",
       "      <td>220000.0</td>\n",
       "      <td>290000.0</td>\n",
       "      <td>0.0</td>\n",
       "      <td>0.0</td>\n",
       "      <td>4.0</td>\n",
       "    </tr>\n",
       "    <tr>\n",
       "      <th>114243430.0</th>\n",
       "      <td>Thiết Bị Lưu Trữ Qnap TS-h973AX-Hàng chính hãn...</td>\n",
       "      <td>QNAP</td>\n",
       "      <td>33908000.0</td>\n",
       "      <td>33908000.0</td>\n",
       "      <td>0.0</td>\n",
       "      <td>0.0</td>\n",
       "      <td>0.0</td>\n",
       "    </tr>\n",
       "    <tr>\n",
       "      <th>114243259.0</th>\n",
       "      <td>Thiết Bị Lưu Trữ Qnap TVS-673e-Hàng chính hãng...</td>\n",
       "      <td>QNAP</td>\n",
       "      <td>37590000.0</td>\n",
       "      <td>37590000.0</td>\n",
       "      <td>0.0</td>\n",
       "      <td>0.0</td>\n",
       "      <td>0.0</td>\n",
       "    </tr>\n",
       "    <tr>\n",
       "      <th>103168071.0</th>\n",
       "      <td>Máy tính bảng Samsung Galaxy Tab A7 Lite LTE S...</td>\n",
       "      <td>Samsung</td>\n",
       "      <td>4450000.0</td>\n",
       "      <td>4490000.0</td>\n",
       "      <td>5.0</td>\n",
       "      <td>1.0</td>\n",
       "      <td>4.0</td>\n",
       "    </tr>\n",
       "    <tr>\n",
       "      <th>116583246.0</th>\n",
       "      <td>Bộ Combo Sản Phẩm Máy Hát Loa Kèn + Điện Thoại...</td>\n",
       "      <td>OEM</td>\n",
       "      <td>6999000.0</td>\n",
       "      <td>9800000.0</td>\n",
       "      <td>0.0</td>\n",
       "      <td>0.0</td>\n",
       "      <td>0.0</td>\n",
       "    </tr>\n",
       "    <tr>\n",
       "      <th>116583246.0</th>\n",
       "      <td>Bộ Combo Sản Phẩm Máy Hát Loa Kèn + Điện Thoại...</td>\n",
       "      <td>OEM</td>\n",
       "      <td>6800000.0</td>\n",
       "      <td>9800000.0</td>\n",
       "      <td>0.0</td>\n",
       "      <td>0.0</td>\n",
       "      <td>0.0</td>\n",
       "    </tr>\n",
       "    <tr>\n",
       "      <th>116583413.0</th>\n",
       "      <td>Bộ Combo Sản Phẩm Máy Hát Loa Kèn + Điện Thoại...</td>\n",
       "      <td>OEM</td>\n",
       "      <td>5999000.0</td>\n",
       "      <td>8999000.0</td>\n",
       "      <td>0.0</td>\n",
       "      <td>0.0</td>\n",
       "      <td>0.0</td>\n",
       "    </tr>\n",
       "    <tr>\n",
       "      <th>114815897.0</th>\n",
       "      <td>Tổ Yến Sào Tinh Chế (8g/Hộp) (Tổ Yến làm sạch/...</td>\n",
       "      <td>YẾN SÀO TRUNG NAM</td>\n",
       "      <td>395000.0</td>\n",
       "      <td>450000.0</td>\n",
       "      <td>5.0</td>\n",
       "      <td>9.0</td>\n",
       "      <td>188.0</td>\n",
       "    </tr>\n",
       "  </tbody>\n",
       "</table>\n",
       "</div>"
      ],
      "text/plain": [
       "                                                          name  \\\n",
       "id                                                               \n",
       "109581548.0  Bộ Phát Wifi Mesh TP-Link Deco X60 AX3000 MU-M...   \n",
       "55963318.0   Sạc cho laptop Dell Latitude 3540, 3480, Vostr...   \n",
       "38384495.0   Nguồn 5V 2A Adapter Máy Chấm Công - Hàng Nhập ...   \n",
       "73599551.0     Pin dành cho Laptop DELL Inspiron 14-7460. 7460   \n",
       "107058325.0  Máy chấm công quét vân tay Deli – màu đen - E3960   \n",
       "15295300.0   [ Set 10 thẻ] Thẻ từ máy chấm công tần số 125K...   \n",
       "31547491.0   Khay Chuyển Ổ Cứng 2.5 Inch Sang 3.5 Inch Dùng...   \n",
       "98388758.0    Combo mic thu âm Livestream H9 và Mic Bm 900 ...   \n",
       "59237304.0   Bàn phím dành cho Laptop Toshiba Satellite C64...   \n",
       "14991077.0   Máy chấm công Ronald Jack RJ500 - Hàng chính hãng   \n",
       "47511272.0   Case máy tính NZXT H510 Elite (White) - Hàng c...   \n",
       "52250532.0   2 XẤP THẺ GIẤY CHẤM CÔNG- BÌA CỨNG- HÀNG NHẬP ...   \n",
       "109686786.0  Ổ cứng Toshiba/S300/Surveillance dung lượng ch...   \n",
       "50392293.0   MÁY KIỂM SOÁT TUẦN TRA BẢO VỆ GS6000B - HÀNG N...   \n",
       "32924655.0   Set 5 cuộn decal in tem nhãn, mã vạch 50x30mm,...   \n",
       "13779083.0   Nhãn in TZ2-231 tiêu chuẩn - Chữ đen trên nền ...   \n",
       "114243430.0  Thiết Bị Lưu Trữ Qnap TS-h973AX-Hàng chính hãn...   \n",
       "114243259.0  Thiết Bị Lưu Trữ Qnap TVS-673e-Hàng chính hãng...   \n",
       "103168071.0  Máy tính bảng Samsung Galaxy Tab A7 Lite LTE S...   \n",
       "116583246.0  Bộ Combo Sản Phẩm Máy Hát Loa Kèn + Điện Thoại...   \n",
       "116583246.0  Bộ Combo Sản Phẩm Máy Hát Loa Kèn + Điện Thoại...   \n",
       "116583413.0  Bộ Combo Sản Phẩm Máy Hát Loa Kèn + Điện Thoại...   \n",
       "114815897.0  Tổ Yến Sào Tinh Chế (8g/Hộp) (Tổ Yến làm sạch/...   \n",
       "\n",
       "                         brand  discount_price       price  rating  \\\n",
       "id                                                                   \n",
       "109581548.0            TP-Link       8390000.0   9999000.0     0.0   \n",
       "55963318.0                 OEM        255000.0    450000.0     0.0   \n",
       "38384495.0                 OEM        299000.0    680000.0     0.0   \n",
       "73599551.0                 OEM        760000.0   1200000.0     0.0   \n",
       "107058325.0               Deli        915000.0   1078000.0     0.0   \n",
       "15295300.0                 OEM         58000.0    200000.0     5.0   \n",
       "31547491.0                 OEM         25000.0     40000.0     4.0   \n",
       "98388758.0                 OEM        736000.0    936000.0     0.0   \n",
       "59237304.0                 OEM        265000.0    320000.0     4.5   \n",
       "14991077.0         RONALD JACK       2689000.0   3000000.0     5.0   \n",
       "47511272.0                NZXT       4090000.0   4196000.0     0.0   \n",
       "52250532.0         RONALD JACK        160000.0    240000.0     0.0   \n",
       "109686786.0            Toshiba        883000.0   1330000.0     4.0   \n",
       "50392293.0                  GS       3100000.0   4000000.0     0.0   \n",
       "32924655.0                 OEM        240000.0    730000.0     5.0   \n",
       "13779083.0           LAMINATED        220000.0    290000.0     0.0   \n",
       "114243430.0               QNAP      33908000.0  33908000.0     0.0   \n",
       "114243259.0               QNAP      37590000.0  37590000.0     0.0   \n",
       "103168071.0            Samsung       4450000.0   4490000.0     5.0   \n",
       "116583246.0                OEM       6999000.0   9800000.0     0.0   \n",
       "116583246.0                OEM       6800000.0   9800000.0     0.0   \n",
       "116583413.0                OEM       5999000.0   8999000.0     0.0   \n",
       "114815897.0  YẾN SÀO TRUNG NAM        395000.0    450000.0     5.0   \n",
       "\n",
       "             num_reviews  quantity_sold  \n",
       "id                                       \n",
       "109581548.0          0.0            1.0  \n",
       "55963318.0           0.0            0.0  \n",
       "38384495.0           0.0            0.0  \n",
       "73599551.0           0.0            0.0  \n",
       "107058325.0          0.0            4.0  \n",
       "15295300.0           2.0           26.0  \n",
       "31547491.0           1.0            7.0  \n",
       "98388758.0           0.0            0.0  \n",
       "59237304.0           2.0            2.0  \n",
       "14991077.0           8.0           17.0  \n",
       "47511272.0           0.0            2.0  \n",
       "52250532.0           0.0            2.0  \n",
       "109686786.0          1.0            1.0  \n",
       "50392293.0           0.0            1.0  \n",
       "32924655.0           2.0           11.0  \n",
       "13779083.0           0.0            4.0  \n",
       "114243430.0          0.0            0.0  \n",
       "114243259.0          0.0            0.0  \n",
       "103168071.0          1.0            4.0  \n",
       "116583246.0          0.0            0.0  \n",
       "116583246.0          0.0            0.0  \n",
       "116583413.0          0.0            0.0  \n",
       "114815897.0          9.0          188.0  "
      ]
     },
     "execution_count": 13,
     "metadata": {},
     "output_type": "execute_result"
    }
   ],
   "source": [
    "df[df.index.duplicated()]"
   ]
  },
  {
   "cell_type": "markdown",
   "id": "d6ab78f1",
   "metadata": {},
   "source": [
    "Xoá các dòng có bị lặp, ID bị lặp, chứa null"
   ]
  },
  {
   "cell_type": "code",
   "execution_count": 39,
   "id": "5ce04dff",
   "metadata": {},
   "outputs": [
    {
     "data": {
      "text/plain": [
       "name              0\n",
       "brand             0\n",
       "discount_price    0\n",
       "price             0\n",
       "rating            0\n",
       "num_reviews       0\n",
       "quantity_sold     0\n",
       "dtype: int64"
      ]
     },
     "execution_count": 39,
     "metadata": {},
     "output_type": "execute_result"
    }
   ],
   "source": [
    "data_df = df.drop_duplicates().dropna().reset_index()\n",
    "data_df.drop_duplicates(subset='id', inplace=True)\n",
    "data_df.set_index('id', inplace=True)\n",
    "data_df.isna().sum()"
   ]
  },
  {
   "cell_type": "code",
   "execution_count": 32,
   "id": "23ae8deb",
   "metadata": {},
   "outputs": [
    {
     "data": {
      "text/html": [
       "<div>\n",
       "<style scoped>\n",
       "    .dataframe tbody tr th:only-of-type {\n",
       "        vertical-align: middle;\n",
       "    }\n",
       "\n",
       "    .dataframe tbody tr th {\n",
       "        vertical-align: top;\n",
       "    }\n",
       "\n",
       "    .dataframe thead th {\n",
       "        text-align: right;\n",
       "    }\n",
       "</style>\n",
       "<table border=\"1\" class=\"dataframe\">\n",
       "  <thead>\n",
       "    <tr style=\"text-align: right;\">\n",
       "      <th></th>\n",
       "      <th>name</th>\n",
       "      <th>brand</th>\n",
       "      <th>discount_price</th>\n",
       "      <th>price</th>\n",
       "      <th>rating</th>\n",
       "      <th>num_reviews</th>\n",
       "      <th>quantity_sold</th>\n",
       "    </tr>\n",
       "    <tr>\n",
       "      <th>id</th>\n",
       "      <th></th>\n",
       "      <th></th>\n",
       "      <th></th>\n",
       "      <th></th>\n",
       "      <th></th>\n",
       "      <th></th>\n",
       "      <th></th>\n",
       "    </tr>\n",
       "  </thead>\n",
       "  <tbody>\n",
       "    <tr>\n",
       "      <th>76181490.0</th>\n",
       "      <td>NaN</td>\n",
       "      <td>NaN</td>\n",
       "      <td>NaN</td>\n",
       "      <td>NaN</td>\n",
       "      <td>NaN</td>\n",
       "      <td>NaN</td>\n",
       "      <td>NaN</td>\n",
       "    </tr>\n",
       "    <tr>\n",
       "      <th>416978.0</th>\n",
       "      <td>NaN</td>\n",
       "      <td>NaN</td>\n",
       "      <td>NaN</td>\n",
       "      <td>NaN</td>\n",
       "      <td>NaN</td>\n",
       "      <td>NaN</td>\n",
       "      <td>NaN</td>\n",
       "    </tr>\n",
       "    <tr>\n",
       "      <th>53056161.0</th>\n",
       "      <td>NaN</td>\n",
       "      <td>NaN</td>\n",
       "      <td>NaN</td>\n",
       "      <td>NaN</td>\n",
       "      <td>NaN</td>\n",
       "      <td>NaN</td>\n",
       "      <td>NaN</td>\n",
       "    </tr>\n",
       "    <tr>\n",
       "      <th>73795655.0</th>\n",
       "      <td>NaN</td>\n",
       "      <td>NaN</td>\n",
       "      <td>NaN</td>\n",
       "      <td>NaN</td>\n",
       "      <td>NaN</td>\n",
       "      <td>NaN</td>\n",
       "      <td>NaN</td>\n",
       "    </tr>\n",
       "    <tr>\n",
       "      <th>23393172.0</th>\n",
       "      <td>NaN</td>\n",
       "      <td>NaN</td>\n",
       "      <td>NaN</td>\n",
       "      <td>NaN</td>\n",
       "      <td>NaN</td>\n",
       "      <td>NaN</td>\n",
       "      <td>NaN</td>\n",
       "    </tr>\n",
       "    <tr>\n",
       "      <th>...</th>\n",
       "      <td>...</td>\n",
       "      <td>...</td>\n",
       "      <td>...</td>\n",
       "      <td>...</td>\n",
       "      <td>...</td>\n",
       "      <td>...</td>\n",
       "      <td>...</td>\n",
       "    </tr>\n",
       "    <tr>\n",
       "      <th>97251112.0</th>\n",
       "      <td>NaN</td>\n",
       "      <td>NaN</td>\n",
       "      <td>NaN</td>\n",
       "      <td>NaN</td>\n",
       "      <td>NaN</td>\n",
       "      <td>NaN</td>\n",
       "      <td>NaN</td>\n",
       "    </tr>\n",
       "    <tr>\n",
       "      <th>85095152.0</th>\n",
       "      <td>NaN</td>\n",
       "      <td>NaN</td>\n",
       "      <td>NaN</td>\n",
       "      <td>NaN</td>\n",
       "      <td>NaN</td>\n",
       "      <td>NaN</td>\n",
       "      <td>NaN</td>\n",
       "    </tr>\n",
       "    <tr>\n",
       "      <th>791327.0</th>\n",
       "      <td>NaN</td>\n",
       "      <td>NaN</td>\n",
       "      <td>NaN</td>\n",
       "      <td>NaN</td>\n",
       "      <td>NaN</td>\n",
       "      <td>NaN</td>\n",
       "      <td>NaN</td>\n",
       "    </tr>\n",
       "    <tr>\n",
       "      <th>112086010.0</th>\n",
       "      <td>NaN</td>\n",
       "      <td>NaN</td>\n",
       "      <td>NaN</td>\n",
       "      <td>NaN</td>\n",
       "      <td>NaN</td>\n",
       "      <td>NaN</td>\n",
       "      <td>NaN</td>\n",
       "    </tr>\n",
       "    <tr>\n",
       "      <th>8258702.0</th>\n",
       "      <td>NaN</td>\n",
       "      <td>NaN</td>\n",
       "      <td>NaN</td>\n",
       "      <td>NaN</td>\n",
       "      <td>NaN</td>\n",
       "      <td>NaN</td>\n",
       "      <td>NaN</td>\n",
       "    </tr>\n",
       "  </tbody>\n",
       "</table>\n",
       "<p>19993 rows × 7 columns</p>\n",
       "</div>"
      ],
      "text/plain": [
       "            name brand  discount_price  price  rating  num_reviews  \\\n",
       "id                                                                   \n",
       "76181490.0   NaN   NaN             NaN    NaN     NaN          NaN   \n",
       "416978.0     NaN   NaN             NaN    NaN     NaN          NaN   \n",
       "53056161.0   NaN   NaN             NaN    NaN     NaN          NaN   \n",
       "73795655.0   NaN   NaN             NaN    NaN     NaN          NaN   \n",
       "23393172.0   NaN   NaN             NaN    NaN     NaN          NaN   \n",
       "...          ...   ...             ...    ...     ...          ...   \n",
       "97251112.0   NaN   NaN             NaN    NaN     NaN          NaN   \n",
       "85095152.0   NaN   NaN             NaN    NaN     NaN          NaN   \n",
       "791327.0     NaN   NaN             NaN    NaN     NaN          NaN   \n",
       "112086010.0  NaN   NaN             NaN    NaN     NaN          NaN   \n",
       "8258702.0    NaN   NaN             NaN    NaN     NaN          NaN   \n",
       "\n",
       "             quantity_sold  \n",
       "id                          \n",
       "76181490.0             NaN  \n",
       "416978.0               NaN  \n",
       "53056161.0             NaN  \n",
       "73795655.0             NaN  \n",
       "23393172.0             NaN  \n",
       "...                    ...  \n",
       "97251112.0             NaN  \n",
       "85095152.0             NaN  \n",
       "791327.0               NaN  \n",
       "112086010.0            NaN  \n",
       "8258702.0              NaN  \n",
       "\n",
       "[19993 rows x 7 columns]"
      ]
     },
     "execution_count": 32,
     "metadata": {},
     "output_type": "execute_result"
    }
   ],
   "source": [
    "data_df[data_df.isna()]"
   ]
  },
  {
   "cell_type": "markdown",
   "id": "232aa5d3",
   "metadata": {},
   "source": [
    "Sau khi xử lý các dòng bị lặp và null thì dữ liệu còn lại 19993 dòng x 7 cột"
   ]
  },
  {
   "cell_type": "code",
   "execution_count": 15,
   "id": "dde6e3f3",
   "metadata": {},
   "outputs": [
    {
     "data": {
      "text/plain": [
       "name               object\n",
       "brand              object\n",
       "discount_price    float64\n",
       "price             float64\n",
       "rating            float64\n",
       "num_reviews       float64\n",
       "quantity_sold     float64\n",
       "dtype: object"
      ]
     },
     "execution_count": 15,
     "metadata": {},
     "output_type": "execute_result"
    }
   ],
   "source": [
    "data_df.dtypes"
   ]
  },
  {
   "cell_type": "markdown",
   "id": "e84c3f84",
   "metadata": {},
   "source": [
    "Dữ liệu của *số lượng người bình luận* và *số lượng sản phẩm được bán* thì không thể là float64, nên chuyển cột `num_reviews` và `quantity_sold` sang int64"
   ]
  },
  {
   "cell_type": "code",
   "execution_count": 16,
   "id": "c1a1b736",
   "metadata": {},
   "outputs": [
    {
     "name": "stdout",
     "output_type": "stream",
     "text": [
      "<class 'pandas.core.frame.DataFrame'>\n",
      "Float64Index: 19993 entries, 76181490.0 to 8258702.0\n",
      "Data columns (total 7 columns):\n",
      " #   Column          Non-Null Count  Dtype  \n",
      "---  ------          --------------  -----  \n",
      " 0   name            19993 non-null  object \n",
      " 1   brand           19993 non-null  object \n",
      " 2   discount_price  19993 non-null  float64\n",
      " 3   price           19993 non-null  float64\n",
      " 4   rating          19993 non-null  float64\n",
      " 5   num_reviews     19993 non-null  int64  \n",
      " 6   quantity_sold   19993 non-null  int64  \n",
      "dtypes: float64(3), int64(2), object(2)\n",
      "memory usage: 1.2+ MB\n"
     ]
    }
   ],
   "source": [
    "data_df = data_df.astype({'quantity_sold':'int64',\n",
    "                          'num_reviews':'int64'})\n",
    "data_df.info()"
   ]
  },
  {
   "cell_type": "markdown",
   "id": "4612f5a5",
   "metadata": {},
   "source": [
    "Output của ta là `rating` và input là tất cả các thông tin của sản phẩm trừ `rating`."
   ]
  },
  {
   "cell_type": "code",
   "execution_count": 40,
   "id": "d22068c3",
   "metadata": {},
   "outputs": [],
   "source": [
    "X = data_df.drop([\"rating\"], axis=1)\n",
    "y = data_df[\"rating\"]"
   ]
  },
  {
   "cell_type": "code",
   "execution_count": 41,
   "id": "1d5bd8c5",
   "metadata": {},
   "outputs": [
    {
     "data": {
      "text/plain": [
       "0.0    42.409843\n",
       "5.0    21.727605\n",
       "4.5     6.802381\n",
       "4.8     5.972090\n",
       "4.7     5.236833\n",
       "4.0     3.816336\n",
       "4.6     3.731306\n",
       "4.3     2.285800\n",
       "3.0     1.335467\n",
       "1.0     1.100385\n",
       "4.2     1.100385\n",
       "4.1     0.675236\n",
       "3.5     0.615215\n",
       "3.8     0.565198\n",
       "3.7     0.520182\n",
       "3.3     0.400140\n",
       "2.0     0.360126\n",
       "3.9     0.320112\n",
       "3.6     0.200070\n",
       "2.5     0.185065\n",
       "3.4     0.115040\n",
       "3.2     0.110039\n",
       "2.3     0.090032\n",
       "2.8     0.080028\n",
       "2.7     0.060021\n",
       "4.4     0.045016\n",
       "1.5     0.030011\n",
       "3.1     0.030011\n",
       "2.6     0.025009\n",
       "1.7     0.015005\n",
       "2.4     0.015005\n",
       "4.9     0.010004\n",
       "2.9     0.010004\n",
       "1.8     0.005002\n",
       "Name: rating, dtype: float64"
      ]
     },
     "execution_count": 41,
     "metadata": {},
     "output_type": "execute_result"
    }
   ],
   "source": [
    "# Tỉ lệ các giá trị rating có được\n",
    "data_df['rating'].value_counts(normalize=True) * 100"
   ]
  },
  {
   "cell_type": "markdown",
   "id": "add7d777",
   "metadata": {},
   "source": [
    "Ta thấy tỉ lệ này không đồng đều, có 0 và 5 rating chiếm 60% dữ liệu, và có những rating chiếm tỉ lệ rất nhỏ là 0.005%"
   ]
  },
  {
   "cell_type": "markdown",
   "id": "84dcbcbc",
   "metadata": {},
   "source": [
    "## Chia các tập dữ liệu"
   ]
  },
  {
   "cell_type": "code",
   "execution_count": 42,
   "id": "c06a5658",
   "metadata": {},
   "outputs": [],
   "source": [
    "train_X, test_X, train_y, test_y = \\\n",
    "                              train_test_split(X, y, \n",
    "                                               test_size=0.3, \n",
    "                                               random_state=0)\n",
    "val_X, test_X, val_y, test_y = \\\n",
    "                              train_test_split(test_X, test_y, \n",
    "                                               test_size=0.5, \n",
    "                                               random_state=0)"
   ]
  },
  {
   "cell_type": "code",
   "execution_count": 43,
   "id": "a3815695",
   "metadata": {},
   "outputs": [
    {
     "data": {
      "text/plain": [
       "(13995, 6)"
      ]
     },
     "execution_count": 43,
     "metadata": {},
     "output_type": "execute_result"
    }
   ],
   "source": [
    "train_X.shape"
   ]
  },
  {
   "cell_type": "code",
   "execution_count": 44,
   "id": "1b8b1155",
   "metadata": {},
   "outputs": [
    {
     "data": {
      "text/plain": [
       "(13995,)"
      ]
     },
     "execution_count": 44,
     "metadata": {},
     "output_type": "execute_result"
    }
   ],
   "source": [
    "train_y.shape"
   ]
  },
  {
   "cell_type": "code",
   "execution_count": 45,
   "id": "46a98a1e",
   "metadata": {},
   "outputs": [
    {
     "data": {
      "text/plain": [
       "(2999, 6)"
      ]
     },
     "execution_count": 45,
     "metadata": {},
     "output_type": "execute_result"
    }
   ],
   "source": [
    "val_X.shape"
   ]
  },
  {
   "cell_type": "code",
   "execution_count": 46,
   "id": "44ced2ff",
   "metadata": {},
   "outputs": [
    {
     "data": {
      "text/plain": [
       "(2999,)"
      ]
     },
     "execution_count": 46,
     "metadata": {},
     "output_type": "execute_result"
    }
   ],
   "source": [
    "val_y.shape"
   ]
  },
  {
   "cell_type": "code",
   "execution_count": 47,
   "id": "871c8948",
   "metadata": {},
   "outputs": [
    {
     "data": {
      "text/plain": [
       "(2999, 6)"
      ]
     },
     "execution_count": 47,
     "metadata": {},
     "output_type": "execute_result"
    }
   ],
   "source": [
    "test_X.shape"
   ]
  },
  {
   "cell_type": "code",
   "execution_count": 48,
   "id": "73936df0",
   "metadata": {},
   "outputs": [
    {
     "data": {
      "text/plain": [
       "(2999,)"
      ]
     },
     "execution_count": 48,
     "metadata": {},
     "output_type": "execute_result"
    }
   ],
   "source": [
    "test_y.shape"
   ]
  },
  {
   "cell_type": "markdown",
   "id": "9fcc82a4",
   "metadata": {},
   "source": [
    "## Khám phá dữ liệu"
   ]
  },
  {
   "cell_type": "markdown",
   "id": "097f382c",
   "metadata": {},
   "source": [
    "### Tập train "
   ]
  },
  {
   "cell_type": "code",
   "execution_count": 51,
   "id": "19315495",
   "metadata": {},
   "outputs": [
    {
     "data": {
      "text/plain": [
       "name               object\n",
       "brand              object\n",
       "discount_price    float64\n",
       "price             float64\n",
       "num_reviews       float64\n",
       "quantity_sold     float64\n",
       "dtype: object"
      ]
     },
     "execution_count": 51,
     "metadata": {},
     "output_type": "execute_result"
    }
   ],
   "source": [
    "train_X.dtypes"
   ]
  },
  {
   "cell_type": "code",
   "execution_count": 50,
   "id": "5d4f6e9a",
   "metadata": {},
   "outputs": [
    {
     "data": {
      "text/plain": [
       "discount_price    float64\n",
       "price             float64\n",
       "num_reviews       float64\n",
       "quantity_sold     float64\n",
       "dtype: object"
      ]
     },
     "execution_count": 50,
     "metadata": {},
     "output_type": "execute_result"
    }
   ],
   "source": [
    "train_X.dtypes[train_X.dtypes != object]"
   ]
  },
  {
   "cell_type": "markdown",
   "id": "cdfcf623",
   "metadata": {},
   "source": [
    "Có 4 cột có dữ liệu dạng số và 2 cột có dữ liệu dạng object"
   ]
  },
  {
   "cell_type": "markdown",
   "id": "c9fb4a61",
   "metadata": {},
   "source": [
    "Với các cột có dữ liệu dạng số"
   ]
  },
  {
   "cell_type": "code",
   "execution_count": 113,
   "id": "c03f1fc7",
   "metadata": {},
   "outputs": [
    {
     "data": {
      "text/html": [
       "<div>\n",
       "<style scoped>\n",
       "    .dataframe tbody tr th:only-of-type {\n",
       "        vertical-align: middle;\n",
       "    }\n",
       "\n",
       "    .dataframe tbody tr th {\n",
       "        vertical-align: top;\n",
       "    }\n",
       "\n",
       "    .dataframe thead th {\n",
       "        text-align: right;\n",
       "    }\n",
       "</style>\n",
       "<table border=\"1\" class=\"dataframe\">\n",
       "  <thead>\n",
       "    <tr style=\"text-align: right;\">\n",
       "      <th></th>\n",
       "      <th>discount_price</th>\n",
       "      <th>price</th>\n",
       "      <th>num_reviews</th>\n",
       "      <th>quantity_sold</th>\n",
       "    </tr>\n",
       "  </thead>\n",
       "  <tbody>\n",
       "    <tr>\n",
       "      <th>missing_percentage</th>\n",
       "      <td>0.0</td>\n",
       "      <td>0.0</td>\n",
       "      <td>0.0</td>\n",
       "      <td>0.0</td>\n",
       "    </tr>\n",
       "    <tr>\n",
       "      <th>min</th>\n",
       "      <td>1000.0</td>\n",
       "      <td>1100.0</td>\n",
       "      <td>0.0</td>\n",
       "      <td>0.0</td>\n",
       "    </tr>\n",
       "    <tr>\n",
       "      <th>median</th>\n",
       "      <td>200000.0</td>\n",
       "      <td>280000.0</td>\n",
       "      <td>1.0</td>\n",
       "      <td>6.0</td>\n",
       "    </tr>\n",
       "    <tr>\n",
       "      <th>max</th>\n",
       "      <td>180000000.0</td>\n",
       "      <td>180000000.0</td>\n",
       "      <td>2048.0</td>\n",
       "      <td>38638.0</td>\n",
       "    </tr>\n",
       "  </tbody>\n",
       "</table>\n",
       "</div>"
      ],
      "text/plain": [
       "                    discount_price        price  num_reviews  quantity_sold\n",
       "missing_percentage             0.0          0.0          0.0            0.0\n",
       "min                         1000.0       1100.0          0.0            0.0\n",
       "median                    200000.0     280000.0          1.0            6.0\n",
       "max                    180000000.0  180000000.0       2048.0        38638.0"
      ]
     },
     "execution_count": 113,
     "metadata": {},
     "output_type": "execute_result"
    }
   ],
   "source": [
    "num_cols = ['discount_price','price','num_reviews','quantity_sold']\n",
    "df = train_X[num_cols]\n",
    "def missing_percentage(c):\n",
    "    return (c.isna().mean() * 100).round(1)\n",
    "def median(c):\n",
    "    return c.quantile(0.5).round(1)\n",
    "df.agg([missing_percentage, 'min', median, 'max'])"
   ]
  },
  {
   "cell_type": "markdown",
   "id": "e846fe52",
   "metadata": {},
   "source": [
    "Với các cột object"
   ]
  },
  {
   "cell_type": "code",
   "execution_count": 132,
   "id": "d3cb2066",
   "metadata": {},
   "outputs": [
    {
     "data": {
      "text/html": [
       "<div>\n",
       "<style scoped>\n",
       "    .dataframe tbody tr th:only-of-type {\n",
       "        vertical-align: middle;\n",
       "    }\n",
       "\n",
       "    .dataframe tbody tr th {\n",
       "        vertical-align: top;\n",
       "    }\n",
       "\n",
       "    .dataframe thead th {\n",
       "        text-align: right;\n",
       "    }\n",
       "</style>\n",
       "<table border=\"1\" class=\"dataframe\">\n",
       "  <thead>\n",
       "    <tr style=\"text-align: right;\">\n",
       "      <th></th>\n",
       "      <th>brand</th>\n",
       "      <th>name</th>\n",
       "    </tr>\n",
       "  </thead>\n",
       "  <tbody>\n",
       "    <tr>\n",
       "      <th>missing_percentage</th>\n",
       "      <td>0.0</td>\n",
       "      <td>0.0</td>\n",
       "    </tr>\n",
       "    <tr>\n",
       "      <th>num_values</th>\n",
       "      <td>1979</td>\n",
       "      <td>13949</td>\n",
       "    </tr>\n",
       "    <tr>\n",
       "      <th>value_percentages</th>\n",
       "      <td>{'OEM': 32.2, 'Tân Lộc Phát': 0.7, 'Mộc Sắc': 0.7, 'Samsung': 0.7, 'Cisco': 0.6, 'TP-Link': 0.6, 'Dell': 0.6, 'Ottogi': 0.6, 'Brother': 0.6, 'Dược Liệu Tuệ Tâm': 0.6, 'Royal Canin': 0.6, 'Xprinter...</td>\n",
       "      <td>{'Kẹo Hồng Sâm Không Đường 365 (500g)': 0.0, 'Sạc dành cho Laptop Asus Vivobook X201E, X202E Adapter 19.5V-2.37A': 0.0, 'Router DrayTek Vigor2927 - Hàng chính hãng': 0.0, 'Ngũ Cốc Yến Mạch Nguyên ...</td>\n",
       "    </tr>\n",
       "  </tbody>\n",
       "</table>\n",
       "</div>"
      ],
      "text/plain": [
       "                                                                                                                                                                                                                      brand  \\\n",
       "missing_percentage                                                                                                                                                                                                      0.0   \n",
       "num_values                                                                                                                                                                                                             1979   \n",
       "value_percentages   {'OEM': 32.2, 'Tân Lộc Phát': 0.7, 'Mộc Sắc': 0.7, 'Samsung': 0.7, 'Cisco': 0.6, 'TP-Link': 0.6, 'Dell': 0.6, 'Ottogi': 0.6, 'Brother': 0.6, 'Dược Liệu Tuệ Tâm': 0.6, 'Royal Canin': 0.6, 'Xprinter...   \n",
       "\n",
       "                                                                                                                                                                                                                       name  \n",
       "missing_percentage                                                                                                                                                                                                      0.0  \n",
       "num_values                                                                                                                                                                                                            13949  \n",
       "value_percentages   {'Kẹo Hồng Sâm Không Đường 365 (500g)': 0.0, 'Sạc dành cho Laptop Asus Vivobook X201E, X202E Adapter 19.5V-2.37A': 0.0, 'Router DrayTek Vigor2927 - Hàng chính hãng': 0.0, 'Ngũ Cốc Yến Mạch Nguyên ...  "
      ]
     },
     "execution_count": 132,
     "metadata": {},
     "output_type": "execute_result"
    }
   ],
   "source": [
    "pd.set_option('display.max_colwidth', 200)\n",
    "object_cols = list(set(train_X.columns) - set(num_cols))\n",
    "df = train_X[object_cols]\n",
    "def num_values(df):\n",
    "    return df.nunique()\n",
    "def value_percentages(c):\n",
    "    return dict((c.value_counts(normalize=True) * 100).round(1))\n",
    "df.agg([missing_percentage, num_values, value_percentages])"
   ]
  },
  {
   "cell_type": "markdown",
   "id": "7ad3cc8d",
   "metadata": {},
   "source": [
    "## Mã hóa cột brand để phục vụ cho viêc trực quan hóa dữ liệu\n",
    "Sử dụng `LabelEncoder()`\n",
    "\n",
    "\n",
    "    \n",
    "\n",
    "\n",
    "\n",
    "\n",
    "\n",
    "\n",
    "\n",
    "\n"
   ]
  },
  {
   "cell_type": "code",
   "execution_count": 197,
   "id": "b1f84d5d",
   "metadata": {},
   "outputs": [
    {
     "data": {
      "text/plain": [
       "array([ 258, 1892, 1251, ...,  200, 1022, 1431])"
      ]
     },
     "execution_count": 197,
     "metadata": {},
     "output_type": "execute_result"
    }
   ],
   "source": [
    "from sklearn import preprocessing\n",
    "l_enc = preprocessing.LabelEncoder()\n",
    "l_enc.fit(data_df[\"brand\"].values)\n",
    "enc = l_enc.transform(data_df[\"brand\"])\n",
    "enc"
   ]
  },
  {
   "cell_type": "markdown",
   "id": "2e93648f",
   "metadata": {},
   "source": [
    "## Phát hiện sự mất cân bằng dữ liệu trong cột brand\n",
    "### Có vẻ như số lượng sản phẩm của brand cao nhất có chênh lệch rất lớn so với số lượng sản phẩm của brand còn lại. (6448)\n",
    "### Thậm chí các brand thấp nhất chỉ có duy nhất 1 sản phẩm \n",
    "### ==> Đây là dữ liệu mất cân bằng nghiêm trọng"
   ]
  },
  {
   "cell_type": "code",
   "execution_count": 198,
   "id": "352bcd65",
   "metadata": {},
   "outputs": [
    {
     "data": {
      "text/plain": [
       "OEM             6448\n",
       "Mộc Sắc          137\n",
       "Cisco            135\n",
       "Samsung          133\n",
       "Tân Lộc Phát     132\n",
       "                ... \n",
       "YANBAN             1\n",
       "Thuần Chay         1\n",
       "Japonica           1\n",
       "QUAKER OATS        1\n",
       "Golden             1\n",
       "Name: brand, Length: 2301, dtype: int64"
      ]
     },
     "execution_count": 198,
     "metadata": {},
     "output_type": "execute_result"
    }
   ],
   "source": [
    "data_df[\"brand\"].value_counts()\n"
   ]
  },
  {
   "cell_type": "markdown",
   "id": "0c772d70",
   "metadata": {},
   "source": [
    "## Dữ liệu sau khi được mã hóa\n"
   ]
  },
  {
   "cell_type": "code",
   "execution_count": 199,
   "id": "da1f62fe",
   "metadata": {},
   "outputs": [
    {
     "data": {
      "text/plain": [
       "1431    6448\n",
       "1309     137\n",
       "385      135\n",
       "1725     133\n",
       "2019     132\n",
       "        ... \n",
       "1111       1\n",
       "1079       1\n",
       "1063       1\n",
       "1015       1\n",
       "2047       1\n",
       "Length: 2301, dtype: int64"
      ]
     },
     "execution_count": 199,
     "metadata": {},
     "output_type": "execute_result"
    }
   ],
   "source": [
    "\n",
    "pd.Series(enc).value_counts()"
   ]
  },
  {
   "cell_type": "markdown",
   "id": "10e510c9",
   "metadata": {},
   "source": [
    "\n",
    "## Sử dụng lmplot"
   ]
  },
  {
   "cell_type": "code",
   "execution_count": 200,
   "id": "db511a7a",
   "metadata": {},
   "outputs": [
    {
     "data": {
      "text/plain": [
       "<seaborn.axisgrid.FacetGrid at 0x131907c2ca0>"
      ]
     },
     "execution_count": 200,
     "metadata": {},
     "output_type": "execute_result"
    },
    {
     "data": {
      "image/png": "[encoded data removed]",
      "text/plain": [
       "<Figure size 412x360 with 1 Axes>"
      ]
     },
     "metadata": {
      "needs_background": "light"
     },
     "output_type": "display_data"
    },
    {
     "data": {
      "image/png": "[encoded data removed]",
      "text/plain": [
       "<Figure size 412x360 with 1 Axes>"
      ]
     },
     "metadata": {
      "needs_background": "light"
     },
     "output_type": "display_data"
    },
    {
     "data": {
      "image/png": "[encoded data removed]",
      "text/plain": [
       "<Figure size 412x360 with 1 Axes>"
      ]
     },
     "metadata": {
      "needs_background": "light"
     },
     "output_type": "display_data"
    },
    {
     "data": {
      "image/png": "[encoded data removed]",
      "text/plain": [
       "<Figure size 412x360 with 1 Axes>"
      ]
     },
     "metadata": {
      "needs_background": "light"
     },
     "output_type": "display_data"
    },
    {
     "data": {
      "image/png": "[encoded data removed]",
      "text/plain": [
       "<Figure size 360x360 with 1 Axes>"
      ]
     },
     "metadata": {
      "needs_background": "light"
     },
     "output_type": "display_data"
    }
   ],
   "source": [
    "import matplotlib.pyplot as plt\n",
    "import seaborn as sns\n",
    "\n",
    "\n",
    "bar = pd.concat([pd.Series(enc), data_df[num_cols].reset_index(drop = True), data_df[\"rating\"].reset_index(drop = True)], ignore_index = True, axis = 1)\n",
    "bar.columns = [\"brand\"] + num_cols + [\"rating\"]\n",
    "sns.color_palette(\"rocket_r\", as_cmap=True)\n",
    "for i in range(len(num_cols)):\n",
    "    sns.lmplot(x = \"brand\", y = num_cols[i], data = bar, hue = \"rating\", fit_reg=False)\n",
    "\n",
    "\n",
    "sns.lmplot(x = \"brand\", y = \"rating\", data = bar, fit_reg=False)"
   ]
  },
  {
   "cell_type": "markdown",
   "id": "1a4255c8",
   "metadata": {},
   "source": [
    "## Sử dụng scatter_matrix"
   ]
  },
  {
   "cell_type": "code",
   "execution_count": 201,
   "id": "5d8dec0f",
   "metadata": {},
   "outputs": [
    {
     "data": {
      "image/png": "[encoded data removed]",
      "text/plain": [
       "<Figure size 1440x1080 with 25 Axes>"
      ]
     },
     "metadata": {
      "needs_background": "light"
     },
     "output_type": "display_data"
    }
   ],
   "source": [
    "pd.plotting.scatter_matrix(data_df[[\"brand\"] + num_cols + [\"rating\"]],\n",
    "diagonal=\"kde\", figsize=(20, 15))\n",
    "plt.show()"
   ]
  },
  {
   "cell_type": "markdown",
   "id": "d0a61dab",
   "metadata": {},
   "source": [
    "## Kết luận\n",
    "### Có thể kết luận rằng cột brand độc lập với tất cả các cột trong tập dữ liệu và vì tính mất cân bằng của nó nên \n",
    "### quyết định cuối cùng là loại bỏ nó ra khỏi tập dữ liệu!!!"
   ]
  },
  {
   "cell_type": "markdown",
   "id": "78fbdceb",
   "metadata": {},
   "source": [
    "## Tiền xử lý tập train "
   ]
  },
  {
   "cell_type": "code",
   "execution_count": 53,
   "id": "eda2e71c",
   "metadata": {},
   "outputs": [],
   "source": [
    "class ColDropper(BaseEstimator, TransformerMixin):\n",
    "    def __init__(self):\n",
    "        super().__init__()\n",
    "\n",
    "    def fit(self, X, y=None):\n",
    "        return self\n",
    "\n",
    "    def transform(self, X, y=None):\n",
    "        return X.drop(['name', 'brand'], axis=1)"
   ]
  },
  {
   "cell_type": "code",
   "execution_count": 54,
   "id": "635a200c",
   "metadata": {},
   "outputs": [
    {
     "data": {
      "text/html": [
       "<div>\n",
       "<style scoped>\n",
       "    .dataframe tbody tr th:only-of-type {\n",
       "        vertical-align: middle;\n",
       "    }\n",
       "\n",
       "    .dataframe tbody tr th {\n",
       "        vertical-align: top;\n",
       "    }\n",
       "\n",
       "    .dataframe thead th {\n",
       "        text-align: right;\n",
       "    }\n",
       "</style>\n",
       "<table border=\"1\" class=\"dataframe\">\n",
       "  <thead>\n",
       "    <tr style=\"text-align: right;\">\n",
       "      <th></th>\n",
       "      <th>discount_price</th>\n",
       "      <th>price</th>\n",
       "      <th>num_reviews</th>\n",
       "      <th>quantity_sold</th>\n",
       "    </tr>\n",
       "    <tr>\n",
       "      <th>id</th>\n",
       "      <th></th>\n",
       "      <th></th>\n",
       "      <th></th>\n",
       "      <th></th>\n",
       "    </tr>\n",
       "  </thead>\n",
       "  <tbody>\n",
       "    <tr>\n",
       "      <th>36490442.0</th>\n",
       "      <td>10750000.0</td>\n",
       "      <td>12500000.0</td>\n",
       "      <td>0.0</td>\n",
       "      <td>0.0</td>\n",
       "    </tr>\n",
       "    <tr>\n",
       "      <th>48579507.0</th>\n",
       "      <td>69000.0</td>\n",
       "      <td>80000.0</td>\n",
       "      <td>180.0</td>\n",
       "      <td>1672.0</td>\n",
       "    </tr>\n",
       "    <tr>\n",
       "      <th>5866217.0</th>\n",
       "      <td>33000.0</td>\n",
       "      <td>45000.0</td>\n",
       "      <td>0.0</td>\n",
       "      <td>97.0</td>\n",
       "    </tr>\n",
       "    <tr>\n",
       "      <th>16217273.0</th>\n",
       "      <td>59000.0</td>\n",
       "      <td>280000.0</td>\n",
       "      <td>8.0</td>\n",
       "      <td>24.0</td>\n",
       "    </tr>\n",
       "    <tr>\n",
       "      <th>46581257.0</th>\n",
       "      <td>21400.0</td>\n",
       "      <td>99000.0</td>\n",
       "      <td>8.0</td>\n",
       "      <td>103.0</td>\n",
       "    </tr>\n",
       "    <tr>\n",
       "      <th>...</th>\n",
       "      <td>...</td>\n",
       "      <td>...</td>\n",
       "      <td>...</td>\n",
       "      <td>...</td>\n",
       "    </tr>\n",
       "    <tr>\n",
       "      <th>104241000.0</th>\n",
       "      <td>19999.0</td>\n",
       "      <td>50000.0</td>\n",
       "      <td>0.0</td>\n",
       "      <td>4.0</td>\n",
       "    </tr>\n",
       "    <tr>\n",
       "      <th>36667085.0</th>\n",
       "      <td>95000.0</td>\n",
       "      <td>129000.0</td>\n",
       "      <td>18.0</td>\n",
       "      <td>138.0</td>\n",
       "    </tr>\n",
       "    <tr>\n",
       "      <th>28624284.0</th>\n",
       "      <td>3749000.0</td>\n",
       "      <td>4890000.0</td>\n",
       "      <td>3.0</td>\n",
       "      <td>33.0</td>\n",
       "    </tr>\n",
       "    <tr>\n",
       "      <th>2473863.0</th>\n",
       "      <td>10500.0</td>\n",
       "      <td>11300.0</td>\n",
       "      <td>33.0</td>\n",
       "      <td>622.0</td>\n",
       "    </tr>\n",
       "    <tr>\n",
       "      <th>11486980.0</th>\n",
       "      <td>255000.0</td>\n",
       "      <td>279000.0</td>\n",
       "      <td>1.0</td>\n",
       "      <td>2.0</td>\n",
       "    </tr>\n",
       "  </tbody>\n",
       "</table>\n",
       "<p>13995 rows × 4 columns</p>\n",
       "</div>"
      ],
      "text/plain": [
       "             discount_price       price  num_reviews  quantity_sold\n",
       "id                                                                 \n",
       "36490442.0       10750000.0  12500000.0          0.0            0.0\n",
       "48579507.0          69000.0     80000.0        180.0         1672.0\n",
       "5866217.0           33000.0     45000.0          0.0           97.0\n",
       "16217273.0          59000.0    280000.0          8.0           24.0\n",
       "46581257.0          21400.0     99000.0          8.0          103.0\n",
       "...                     ...         ...          ...            ...\n",
       "104241000.0         19999.0     50000.0          0.0            4.0\n",
       "36667085.0          95000.0    129000.0         18.0          138.0\n",
       "28624284.0        3749000.0   4890000.0          3.0           33.0\n",
       "2473863.0           10500.0     11300.0         33.0          622.0\n",
       "11486980.0         255000.0    279000.0          1.0            2.0\n",
       "\n",
       "[13995 rows x 4 columns]"
      ]
     },
     "execution_count": 54,
     "metadata": {},
     "output_type": "execute_result"
    }
   ],
   "source": [
    "colDropper = ColDropper()\n",
    "colDropper.fit_transform(train_X)"
   ]
  },
  {
   "cell_type": "code",
   "execution_count": 55,
   "id": "60c2bf03",
   "metadata": {},
   "outputs": [
    {
     "data": {
      "text/html": [
       "<style>#sk-43853525-ca63-48d1-9796-c5eaffefbe48 {color: black;background-color: white;}#sk-43853525-ca63-48d1-9796-c5eaffefbe48 pre{padding: 0;}#sk-43853525-ca63-48d1-9796-c5eaffefbe48 div.sk-toggleable {background-color: white;}#sk-43853525-ca63-48d1-9796-c5eaffefbe48 label.sk-toggleable__label {cursor: pointer;display: block;width: 100%;margin-bottom: 0;padding: 0.2em 0.3em;box-sizing: border-box;text-align: center;}#sk-43853525-ca63-48d1-9796-c5eaffefbe48 div.sk-toggleable__content {max-height: 0;max-width: 0;overflow: hidden;text-align: left;background-color: #f0f8ff;}#sk-43853525-ca63-48d1-9796-c5eaffefbe48 div.sk-toggleable__content pre {margin: 0.2em;color: black;border-radius: 0.25em;background-color: #f0f8ff;}#sk-43853525-ca63-48d1-9796-c5eaffefbe48 input.sk-toggleable__control:checked~div.sk-toggleable__content {max-height: 200px;max-width: 100%;overflow: auto;}#sk-43853525-ca63-48d1-9796-c5eaffefbe48 div.sk-estimator input.sk-toggleable__control:checked~label.sk-toggleable__label {background-color: #d4ebff;}#sk-43853525-ca63-48d1-9796-c5eaffefbe48 div.sk-label input.sk-toggleable__control:checked~label.sk-toggleable__label {background-color: #d4ebff;}#sk-43853525-ca63-48d1-9796-c5eaffefbe48 input.sk-hidden--visually {border: 0;clip: rect(1px 1px 1px 1px);clip: rect(1px, 1px, 1px, 1px);height: 1px;margin: -1px;overflow: hidden;padding: 0;position: absolute;width: 1px;}#sk-43853525-ca63-48d1-9796-c5eaffefbe48 div.sk-estimator {font-family: monospace;background-color: #f0f8ff;margin: 0.25em 0.25em;border: 1px dotted black;border-radius: 0.25em;box-sizing: border-box;}#sk-43853525-ca63-48d1-9796-c5eaffefbe48 div.sk-estimator:hover {background-color: #d4ebff;}#sk-43853525-ca63-48d1-9796-c5eaffefbe48 div.sk-parallel-item::after {content: \"\";width: 100%;border-bottom: 1px solid gray;flex-grow: 1;}#sk-43853525-ca63-48d1-9796-c5eaffefbe48 div.sk-label:hover label.sk-toggleable__label {background-color: #d4ebff;}#sk-43853525-ca63-48d1-9796-c5eaffefbe48 div.sk-serial::before {content: \"\";position: absolute;border-left: 1px solid gray;box-sizing: border-box;top: 2em;bottom: 0;left: 50%;}#sk-43853525-ca63-48d1-9796-c5eaffefbe48 div.sk-serial {display: flex;flex-direction: column;align-items: center;background-color: white;}#sk-43853525-ca63-48d1-9796-c5eaffefbe48 div.sk-item {z-index: 1;}#sk-43853525-ca63-48d1-9796-c5eaffefbe48 div.sk-parallel {display: flex;align-items: stretch;justify-content: center;background-color: white;}#sk-43853525-ca63-48d1-9796-c5eaffefbe48 div.sk-parallel-item {display: flex;flex-direction: column;position: relative;background-color: white;}#sk-43853525-ca63-48d1-9796-c5eaffefbe48 div.sk-parallel-item:first-child::after {align-self: flex-end;width: 50%;}#sk-43853525-ca63-48d1-9796-c5eaffefbe48 div.sk-parallel-item:last-child::after {align-self: flex-start;width: 50%;}#sk-43853525-ca63-48d1-9796-c5eaffefbe48 div.sk-parallel-item:only-child::after {width: 0;}#sk-43853525-ca63-48d1-9796-c5eaffefbe48 div.sk-dashed-wrapped {border: 1px dashed gray;margin: 0.2em;box-sizing: border-box;padding-bottom: 0.1em;background-color: white;position: relative;}#sk-43853525-ca63-48d1-9796-c5eaffefbe48 div.sk-label label {font-family: monospace;font-weight: bold;background-color: white;display: inline-block;line-height: 1.2em;}#sk-43853525-ca63-48d1-9796-c5eaffefbe48 div.sk-label-container {position: relative;z-index: 2;text-align: center;}#sk-43853525-ca63-48d1-9796-c5eaffefbe48 div.sk-container {display: inline-block;position: relative;}</style><div id=\"sk-43853525-ca63-48d1-9796-c5eaffefbe48\" class\"sk-top-container\"><div class=\"sk-container\"><div class=\"sk-item sk-dashed-wrapped\"><div class=\"sk-label-container\"><div class=\"sk-label sk-toggleable\"><input class=\"sk-toggleable__control sk-hidden--visually\" id=\"08eb9e5a-9fc9-429f-a97b-1ef366c24f86\" type=\"checkbox\" ><label class=\"sk-toggleable__label\" for=\"08eb9e5a-9fc9-429f-a97b-1ef366c24f86\">Pipeline</label><div class=\"sk-toggleable__content\"><pre>Pipeline(steps=[('coldropper', ColDropper()),\n",
       "                ('standardscaler', StandardScaler(with_mean=False))])</pre></div></div></div><div class=\"sk-serial\"><div class=\"sk-item\"><div class=\"sk-estimator sk-toggleable\"><input class=\"sk-toggleable__control sk-hidden--visually\" id=\"8a81c72b-6bd6-4335-a276-2a707cab9c56\" type=\"checkbox\" ><label class=\"sk-toggleable__label\" for=\"8a81c72b-6bd6-4335-a276-2a707cab9c56\">ColDropper</label><div class=\"sk-toggleable__content\"><pre>ColDropper()</pre></div></div></div><div class=\"sk-item\"><div class=\"sk-estimator sk-toggleable\"><input class=\"sk-toggleable__control sk-hidden--visually\" id=\"956348f4-b5ac-4e89-8ccf-499d2c4f94e3\" type=\"checkbox\" ><label class=\"sk-toggleable__label\" for=\"956348f4-b5ac-4e89-8ccf-499d2c4f94e3\">StandardScaler</label><div class=\"sk-toggleable__content\"><pre>StandardScaler(with_mean=False)</pre></div></div></div></div></div></div></div>"
      ],
      "text/plain": [
       "Pipeline(steps=[('coldropper', ColDropper()),\n",
       "                ('standardscaler', StandardScaler(with_mean=False))])"
      ]
     },
     "execution_count": 55,
     "metadata": {},
     "output_type": "execute_result"
    }
   ],
   "source": [
    "#preprocess_pipeline = make_pipeline(ColDropper(),\n",
    "                                   #make_column_transformer((OneHotEncoder(handle_unknown=\"ignore\"),['brand'])),\n",
    "                                   #StandardScaler(with_mean=False))\n",
    "preprocess_pipeline = make_pipeline(ColDropper(),\n",
    "                                   StandardScaler(with_mean=False))\n",
    "preprocess_pipeline"
   ]
  },
  {
   "cell_type": "code",
   "execution_count": 56,
   "id": "5fb20707",
   "metadata": {},
   "outputs": [],
   "source": [
    "preprocessed_train_X = preprocess_pipeline.fit_transform(train_X)"
   ]
  },
  {
   "cell_type": "code",
   "execution_count": 57,
   "id": "fc33a167",
   "metadata": {},
   "outputs": [],
   "source": [
    "preprocessed_val_X = preprocess_pipeline.transform(val_X)"
   ]
  },
  {
   "cell_type": "markdown",
   "id": "0ac24866",
   "metadata": {},
   "source": [
    "## Mô hình hoá"
   ]
  },
  {
   "cell_type": "code",
   "execution_count": 83,
   "id": "16eb7a40",
   "metadata": {},
   "outputs": [
    {
     "data": {
      "text/html": [
       "<style>#sk-40922a16-4794-48a3-8a61-03b6ba32d272 {color: black;background-color: white;}#sk-40922a16-4794-48a3-8a61-03b6ba32d272 pre{padding: 0;}#sk-40922a16-4794-48a3-8a61-03b6ba32d272 div.sk-toggleable {background-color: white;}#sk-40922a16-4794-48a3-8a61-03b6ba32d272 label.sk-toggleable__label {cursor: pointer;display: block;width: 100%;margin-bottom: 0;padding: 0.2em 0.3em;box-sizing: border-box;text-align: center;}#sk-40922a16-4794-48a3-8a61-03b6ba32d272 div.sk-toggleable__content {max-height: 0;max-width: 0;overflow: hidden;text-align: left;background-color: #f0f8ff;}#sk-40922a16-4794-48a3-8a61-03b6ba32d272 div.sk-toggleable__content pre {margin: 0.2em;color: black;border-radius: 0.25em;background-color: #f0f8ff;}#sk-40922a16-4794-48a3-8a61-03b6ba32d272 input.sk-toggleable__control:checked~div.sk-toggleable__content {max-height: 200px;max-width: 100%;overflow: auto;}#sk-40922a16-4794-48a3-8a61-03b6ba32d272 div.sk-estimator input.sk-toggleable__control:checked~label.sk-toggleable__label {background-color: #d4ebff;}#sk-40922a16-4794-48a3-8a61-03b6ba32d272 div.sk-label input.sk-toggleable__control:checked~label.sk-toggleable__label {background-color: #d4ebff;}#sk-40922a16-4794-48a3-8a61-03b6ba32d272 input.sk-hidden--visually {border: 0;clip: rect(1px 1px 1px 1px);clip: rect(1px, 1px, 1px, 1px);height: 1px;margin: -1px;overflow: hidden;padding: 0;position: absolute;width: 1px;}#sk-40922a16-4794-48a3-8a61-03b6ba32d272 div.sk-estimator {font-family: monospace;background-color: #f0f8ff;margin: 0.25em 0.25em;border: 1px dotted black;border-radius: 0.25em;box-sizing: border-box;}#sk-40922a16-4794-48a3-8a61-03b6ba32d272 div.sk-estimator:hover {background-color: #d4ebff;}#sk-40922a16-4794-48a3-8a61-03b6ba32d272 div.sk-parallel-item::after {content: \"\";width: 100%;border-bottom: 1px solid gray;flex-grow: 1;}#sk-40922a16-4794-48a3-8a61-03b6ba32d272 div.sk-label:hover label.sk-toggleable__label {background-color: #d4ebff;}#sk-40922a16-4794-48a3-8a61-03b6ba32d272 div.sk-serial::before {content: \"\";position: absolute;border-left: 1px solid gray;box-sizing: border-box;top: 2em;bottom: 0;left: 50%;}#sk-40922a16-4794-48a3-8a61-03b6ba32d272 div.sk-serial {display: flex;flex-direction: column;align-items: center;background-color: white;}#sk-40922a16-4794-48a3-8a61-03b6ba32d272 div.sk-item {z-index: 1;}#sk-40922a16-4794-48a3-8a61-03b6ba32d272 div.sk-parallel {display: flex;align-items: stretch;justify-content: center;background-color: white;}#sk-40922a16-4794-48a3-8a61-03b6ba32d272 div.sk-parallel-item {display: flex;flex-direction: column;position: relative;background-color: white;}#sk-40922a16-4794-48a3-8a61-03b6ba32d272 div.sk-parallel-item:first-child::after {align-self: flex-end;width: 50%;}#sk-40922a16-4794-48a3-8a61-03b6ba32d272 div.sk-parallel-item:last-child::after {align-self: flex-start;width: 50%;}#sk-40922a16-4794-48a3-8a61-03b6ba32d272 div.sk-parallel-item:only-child::after {width: 0;}#sk-40922a16-4794-48a3-8a61-03b6ba32d272 div.sk-dashed-wrapped {border: 1px dashed gray;margin: 0.2em;box-sizing: border-box;padding-bottom: 0.1em;background-color: white;position: relative;}#sk-40922a16-4794-48a3-8a61-03b6ba32d272 div.sk-label label {font-family: monospace;font-weight: bold;background-color: white;display: inline-block;line-height: 1.2em;}#sk-40922a16-4794-48a3-8a61-03b6ba32d272 div.sk-label-container {position: relative;z-index: 2;text-align: center;}#sk-40922a16-4794-48a3-8a61-03b6ba32d272 div.sk-container {display: inline-block;position: relative;}</style><div id=\"sk-40922a16-4794-48a3-8a61-03b6ba32d272\" class\"sk-top-container\"><div class=\"sk-container\"><div class=\"sk-item sk-dashed-wrapped\"><div class=\"sk-label-container\"><div class=\"sk-label sk-toggleable\"><input class=\"sk-toggleable__control sk-hidden--visually\" id=\"2da7f125-8215-4a66-9eda-a1175f735f0e\" type=\"checkbox\" ><label class=\"sk-toggleable__label\" for=\"2da7f125-8215-4a66-9eda-a1175f735f0e\">Pipeline</label><div class=\"sk-toggleable__content\"><pre>Pipeline(steps=[('coldropper', ColDropper()),\n",
       "                ('standardscaler', StandardScaler(with_mean=False)),\n",
       "                ('mlpregressor',\n",
       "                 MLPRegressor(activation='logistic', hidden_layer_sizes=(200,),\n",
       "                              max_iter=25000, random_state=0,\n",
       "                              solver='lbfgs'))])</pre></div></div></div><div class=\"sk-serial\"><div class=\"sk-item\"><div class=\"sk-estimator sk-toggleable\"><input class=\"sk-toggleable__control sk-hidden--visually\" id=\"02d279d9-5f48-48fe-8a60-99262b7ef206\" type=\"checkbox\" ><label class=\"sk-toggleable__label\" for=\"02d279d9-5f48-48fe-8a60-99262b7ef206\">ColDropper</label><div class=\"sk-toggleable__content\"><pre>ColDropper()</pre></div></div></div><div class=\"sk-item\"><div class=\"sk-estimator sk-toggleable\"><input class=\"sk-toggleable__control sk-hidden--visually\" id=\"1bcc2711-dc4f-49dd-a84b-6c2f9cdcb55d\" type=\"checkbox\" ><label class=\"sk-toggleable__label\" for=\"1bcc2711-dc4f-49dd-a84b-6c2f9cdcb55d\">StandardScaler</label><div class=\"sk-toggleable__content\"><pre>StandardScaler(with_mean=False)</pre></div></div></div><div class=\"sk-item\"><div class=\"sk-estimator sk-toggleable\"><input class=\"sk-toggleable__control sk-hidden--visually\" id=\"b5cb6277-5586-4f68-83e1-2b3f443b9f27\" type=\"checkbox\" ><label class=\"sk-toggleable__label\" for=\"b5cb6277-5586-4f68-83e1-2b3f443b9f27\">MLPRegressor</label><div class=\"sk-toggleable__content\"><pre>MLPRegressor(activation='logistic', hidden_layer_sizes=(200,), max_iter=25000,\n",
       "             random_state=0, solver='lbfgs')</pre></div></div></div></div></div></div></div>"
      ],
      "text/plain": [
       "Pipeline(steps=[('coldropper', ColDropper()),\n",
       "                ('standardscaler', StandardScaler(with_mean=False)),\n",
       "                ('mlpregressor',\n",
       "                 MLPRegressor(activation='logistic', hidden_layer_sizes=(200,),\n",
       "                              max_iter=25000, random_state=0,\n",
       "                              solver='lbfgs'))])"
      ]
     },
     "execution_count": 83,
     "metadata": {},
     "output_type": "execute_result"
    }
   ],
   "source": [
    "#full_pipeline = make_pipeline(ColDropper(),\n",
    "                              #make_column_transformer((OneHotEncoder(handle_unknown=\"ignore\"),['brand'])),\n",
    "                              #StandardScaler(with_mean=False), \n",
    "                              #MLPRegressor(\n",
    "                                           #random_state=1,\n",
    "                                         #activation='logistic',\n",
    "                                         #solver='lbfgs',\n",
    "                                         #hidden_layer_sizes=(200,),\n",
    "                                         #max_iter=2500))\n",
    "full_pipeline = make_pipeline(ColDropper(),\n",
    "                              StandardScaler(with_mean=False), \n",
    "                              MLPRegressor(\n",
    "                                           random_state=0,\n",
    "                                         activation='logistic',\n",
    "                                         solver='lbfgs',\n",
    "                                         hidden_layer_sizes=(200,),\n",
    "                                         max_iter=25000))\n",
    "full_pipeline"
   ]
  },
  {
   "cell_type": "code",
   "execution_count": 84,
   "id": "94a86b9b",
   "metadata": {},
   "outputs": [],
   "source": [
    "from sklearn.metrics import mean_absolute_error as MAE\n",
    "from sklearn.metrics import mean_absolute_percentage_error as MAPE\n",
    "from sklearn.metrics import r2_score as R2"
   ]
  },
  {
   "cell_type": "code",
   "execution_count": 85,
   "id": "1b565f55",
   "metadata": {},
   "outputs": [],
   "source": [
    "def scoreModel(y_true, y_pre):\n",
    "    MAE_score = MAE(y_true, y_pre)\n",
    "    r2_score = R2(y_true, y_pre)\n",
    "    print('MAE: ', MAE_score)  \n",
    "    print('R2 score: ', r2_score)\n",
    "    return MAE_score, r2_score"
   ]
  },
  {
   "cell_type": "code",
   "execution_count": 86,
   "id": "e8cf3202",
   "metadata": {},
   "outputs": [
    {
     "name": "stdout",
     "output_type": "stream",
     "text": [
      "alpha = 0.1\n",
      "train:\n",
      "MAE:  0.2983834313745738\n",
      "val:\n",
      "MAE:  0.2957655609358386\n",
      "alpha = 1\n",
      "train:\n",
      "MAE:  0.39497565893350534\n",
      "val:\n",
      "MAE:  0.39375997828379555\n",
      "alpha = 10\n",
      "train:\n",
      "MAE:  0.8028950878987703\n",
      "val:\n",
      "MAE:  0.8023563722359568\n",
      "alpha = 100\n",
      "train:\n",
      "MAE:  1.510531275001506\n",
      "val:\n",
      "MAE:  1.527615878478066\n",
      "alpha = 1000\n",
      "train:\n",
      "MAE:  2.090184964774948\n",
      "val:\n",
      "MAE:  2.1081632844460003\n"
     ]
    }
   ],
   "source": [
    "val_errs = []\n",
    "alphas = [0.1, 1, 10, 100, 1000]\n",
    "\n",
    "best_err = float('inf')\n",
    "best_alpha = None\n",
    "\n",
    "for alpha in alphas:    \n",
    "    pipe = full_pipeline.set_params(mlpregressor__alpha=alpha)\n",
    "    pipe.fit(train_X, train_y)\n",
    "        \n",
    "    train_pred = pipe.predict(train_X)  \n",
    "    test_pred = pipe.predict(val_X)\n",
    "        \n",
    "    train_score = MAE(train_y, train_pred)\n",
    "    print(f'alpha = {alpha}')\n",
    "    print('train:')\n",
    "    print('MAE: ', train_score)\n",
    "    \n",
    "    val_score = MAE(val_y, test_pred)\n",
    "    print('val:')\n",
    "    print('MAE: ', val_score)\n",
    "    val_errs.append(val_score) \n",
    "    \n",
    "    if val_score == min(val_errs):\n",
    "        best_err = val_score\n",
    "        best_alpha = alpha      \n",
    "\n",
    "        'Finish!'"
   ]
  },
  {
   "cell_type": "code",
   "execution_count": 87,
   "id": "7f3dc09c",
   "metadata": {},
   "outputs": [
    {
     "name": "stdout",
     "output_type": "stream",
     "text": [
      "Best alpha: 0.1, best val error: 0.2957655609358386\n"
     ]
    }
   ],
   "source": [
    "print(f'Best alpha: {best_alpha}, best val error: {best_err}') "
   ]
  },
  {
   "cell_type": "code",
   "execution_count": 88,
   "id": "6b53163c",
   "metadata": {},
   "outputs": [
    {
     "data": {
      "text/html": [
       "<style>#sk-65343e96-deda-4ed5-bcfd-92235450acfe {color: black;background-color: white;}#sk-65343e96-deda-4ed5-bcfd-92235450acfe pre{padding: 0;}#sk-65343e96-deda-4ed5-bcfd-92235450acfe div.sk-toggleable {background-color: white;}#sk-65343e96-deda-4ed5-bcfd-92235450acfe label.sk-toggleable__label {cursor: pointer;display: block;width: 100%;margin-bottom: 0;padding: 0.2em 0.3em;box-sizing: border-box;text-align: center;}#sk-65343e96-deda-4ed5-bcfd-92235450acfe div.sk-toggleable__content {max-height: 0;max-width: 0;overflow: hidden;text-align: left;background-color: #f0f8ff;}#sk-65343e96-deda-4ed5-bcfd-92235450acfe div.sk-toggleable__content pre {margin: 0.2em;color: black;border-radius: 0.25em;background-color: #f0f8ff;}#sk-65343e96-deda-4ed5-bcfd-92235450acfe input.sk-toggleable__control:checked~div.sk-toggleable__content {max-height: 200px;max-width: 100%;overflow: auto;}#sk-65343e96-deda-4ed5-bcfd-92235450acfe div.sk-estimator input.sk-toggleable__control:checked~label.sk-toggleable__label {background-color: #d4ebff;}#sk-65343e96-deda-4ed5-bcfd-92235450acfe div.sk-label input.sk-toggleable__control:checked~label.sk-toggleable__label {background-color: #d4ebff;}#sk-65343e96-deda-4ed5-bcfd-92235450acfe input.sk-hidden--visually {border: 0;clip: rect(1px 1px 1px 1px);clip: rect(1px, 1px, 1px, 1px);height: 1px;margin: -1px;overflow: hidden;padding: 0;position: absolute;width: 1px;}#sk-65343e96-deda-4ed5-bcfd-92235450acfe div.sk-estimator {font-family: monospace;background-color: #f0f8ff;margin: 0.25em 0.25em;border: 1px dotted black;border-radius: 0.25em;box-sizing: border-box;}#sk-65343e96-deda-4ed5-bcfd-92235450acfe div.sk-estimator:hover {background-color: #d4ebff;}#sk-65343e96-deda-4ed5-bcfd-92235450acfe div.sk-parallel-item::after {content: \"\";width: 100%;border-bottom: 1px solid gray;flex-grow: 1;}#sk-65343e96-deda-4ed5-bcfd-92235450acfe div.sk-label:hover label.sk-toggleable__label {background-color: #d4ebff;}#sk-65343e96-deda-4ed5-bcfd-92235450acfe div.sk-serial::before {content: \"\";position: absolute;border-left: 1px solid gray;box-sizing: border-box;top: 2em;bottom: 0;left: 50%;}#sk-65343e96-deda-4ed5-bcfd-92235450acfe div.sk-serial {display: flex;flex-direction: column;align-items: center;background-color: white;}#sk-65343e96-deda-4ed5-bcfd-92235450acfe div.sk-item {z-index: 1;}#sk-65343e96-deda-4ed5-bcfd-92235450acfe div.sk-parallel {display: flex;align-items: stretch;justify-content: center;background-color: white;}#sk-65343e96-deda-4ed5-bcfd-92235450acfe div.sk-parallel-item {display: flex;flex-direction: column;position: relative;background-color: white;}#sk-65343e96-deda-4ed5-bcfd-92235450acfe div.sk-parallel-item:first-child::after {align-self: flex-end;width: 50%;}#sk-65343e96-deda-4ed5-bcfd-92235450acfe div.sk-parallel-item:last-child::after {align-self: flex-start;width: 50%;}#sk-65343e96-deda-4ed5-bcfd-92235450acfe div.sk-parallel-item:only-child::after {width: 0;}#sk-65343e96-deda-4ed5-bcfd-92235450acfe div.sk-dashed-wrapped {border: 1px dashed gray;margin: 0.2em;box-sizing: border-box;padding-bottom: 0.1em;background-color: white;position: relative;}#sk-65343e96-deda-4ed5-bcfd-92235450acfe div.sk-label label {font-family: monospace;font-weight: bold;background-color: white;display: inline-block;line-height: 1.2em;}#sk-65343e96-deda-4ed5-bcfd-92235450acfe div.sk-label-container {position: relative;z-index: 2;text-align: center;}#sk-65343e96-deda-4ed5-bcfd-92235450acfe div.sk-container {display: inline-block;position: relative;}</style><div id=\"sk-65343e96-deda-4ed5-bcfd-92235450acfe\" class\"sk-top-container\"><div class=\"sk-container\"><div class=\"sk-item sk-dashed-wrapped\"><div class=\"sk-label-container\"><div class=\"sk-label sk-toggleable\"><input class=\"sk-toggleable__control sk-hidden--visually\" id=\"db5791ad-880c-4801-bbb2-8fc998cffd72\" type=\"checkbox\" ><label class=\"sk-toggleable__label\" for=\"db5791ad-880c-4801-bbb2-8fc998cffd72\">Pipeline</label><div class=\"sk-toggleable__content\"><pre>Pipeline(steps=[('coldropper', ColDropper()),\n",
       "                ('standardscaler', StandardScaler(with_mean=False)),\n",
       "                ('mlpregressor',\n",
       "                 MLPRegressor(activation='logistic', alpha=0.1,\n",
       "                              hidden_layer_sizes=(200,), max_iter=25000,\n",
       "                              random_state=0, solver='lbfgs'))])</pre></div></div></div><div class=\"sk-serial\"><div class=\"sk-item\"><div class=\"sk-estimator sk-toggleable\"><input class=\"sk-toggleable__control sk-hidden--visually\" id=\"7ba50cd1-604b-4b28-b215-3b00557c97a8\" type=\"checkbox\" ><label class=\"sk-toggleable__label\" for=\"7ba50cd1-604b-4b28-b215-3b00557c97a8\">ColDropper</label><div class=\"sk-toggleable__content\"><pre>ColDropper()</pre></div></div></div><div class=\"sk-item\"><div class=\"sk-estimator sk-toggleable\"><input class=\"sk-toggleable__control sk-hidden--visually\" id=\"35b110eb-f128-4f51-8499-9b8bd66dc35a\" type=\"checkbox\" ><label class=\"sk-toggleable__label\" for=\"35b110eb-f128-4f51-8499-9b8bd66dc35a\">StandardScaler</label><div class=\"sk-toggleable__content\"><pre>StandardScaler(with_mean=False)</pre></div></div></div><div class=\"sk-item\"><div class=\"sk-estimator sk-toggleable\"><input class=\"sk-toggleable__control sk-hidden--visually\" id=\"975b7048-8cff-4855-94cd-d542ea638f73\" type=\"checkbox\" ><label class=\"sk-toggleable__label\" for=\"975b7048-8cff-4855-94cd-d542ea638f73\">MLPRegressor</label><div class=\"sk-toggleable__content\"><pre>MLPRegressor(activation='logistic', alpha=0.1, hidden_layer_sizes=(200,),\n",
       "             max_iter=25000, random_state=0, solver='lbfgs')</pre></div></div></div></div></div></div></div>"
      ],
      "text/plain": [
       "Pipeline(steps=[('coldropper', ColDropper()),\n",
       "                ('standardscaler', StandardScaler(with_mean=False)),\n",
       "                ('mlpregressor',\n",
       "                 MLPRegressor(activation='logistic', alpha=0.1,\n",
       "                              hidden_layer_sizes=(200,), max_iter=25000,\n",
       "                              random_state=0, solver='lbfgs'))])"
      ]
     },
     "execution_count": 88,
     "metadata": {},
     "output_type": "execute_result"
    }
   ],
   "source": [
    "full_pipeline.set_params(mlpregressor__alpha=best_alpha)\n",
    "full_pipeline.fit(pd.concat([train_X,val_X]), pd.concat([train_y,val_y]))"
   ]
  },
  {
   "cell_type": "code",
   "execution_count": 89,
   "id": "fcddf177",
   "metadata": {},
   "outputs": [
    {
     "data": {
      "text/html": [
       "<div>\n",
       "<style scoped>\n",
       "    .dataframe tbody tr th:only-of-type {\n",
       "        vertical-align: middle;\n",
       "    }\n",
       "\n",
       "    .dataframe tbody tr th {\n",
       "        vertical-align: top;\n",
       "    }\n",
       "\n",
       "    .dataframe thead th {\n",
       "        text-align: right;\n",
       "    }\n",
       "</style>\n",
       "<table border=\"1\" class=\"dataframe\">\n",
       "  <thead>\n",
       "    <tr style=\"text-align: right;\">\n",
       "      <th></th>\n",
       "      <th>predict</th>\n",
       "      <th>rating</th>\n",
       "    </tr>\n",
       "    <tr>\n",
       "      <th>id</th>\n",
       "      <th></th>\n",
       "      <th></th>\n",
       "    </tr>\n",
       "  </thead>\n",
       "  <tbody>\n",
       "    <tr>\n",
       "      <th>1716053.0</th>\n",
       "      <td>4.575897</td>\n",
       "      <td>4.7</td>\n",
       "    </tr>\n",
       "    <tr>\n",
       "      <th>75698282.0</th>\n",
       "      <td>4.300464</td>\n",
       "      <td>5.0</td>\n",
       "    </tr>\n",
       "    <tr>\n",
       "      <th>36776673.0</th>\n",
       "      <td>0.003900</td>\n",
       "      <td>0.0</td>\n",
       "    </tr>\n",
       "    <tr>\n",
       "      <th>37417334.0</th>\n",
       "      <td>4.610148</td>\n",
       "      <td>4.7</td>\n",
       "    </tr>\n",
       "    <tr>\n",
       "      <th>15236471.0</th>\n",
       "      <td>0.073998</td>\n",
       "      <td>0.0</td>\n",
       "    </tr>\n",
       "    <tr>\n",
       "      <th>...</th>\n",
       "      <td>...</td>\n",
       "      <td>...</td>\n",
       "    </tr>\n",
       "    <tr>\n",
       "      <th>81759492.0</th>\n",
       "      <td>4.284563</td>\n",
       "      <td>3.0</td>\n",
       "    </tr>\n",
       "    <tr>\n",
       "      <th>92533540.0</th>\n",
       "      <td>-0.011226</td>\n",
       "      <td>0.0</td>\n",
       "    </tr>\n",
       "    <tr>\n",
       "      <th>52134199.0</th>\n",
       "      <td>4.322526</td>\n",
       "      <td>4.7</td>\n",
       "    </tr>\n",
       "    <tr>\n",
       "      <th>11506847.0</th>\n",
       "      <td>4.117825</td>\n",
       "      <td>4.0</td>\n",
       "    </tr>\n",
       "    <tr>\n",
       "      <th>74885706.0</th>\n",
       "      <td>0.044621</td>\n",
       "      <td>0.0</td>\n",
       "    </tr>\n",
       "  </tbody>\n",
       "</table>\n",
       "<p>2999 rows × 2 columns</p>\n",
       "</div>"
      ],
      "text/plain": [
       "             predict  rating\n",
       "id                          \n",
       "1716053.0   4.575897     4.7\n",
       "75698282.0  4.300464     5.0\n",
       "36776673.0  0.003900     0.0\n",
       "37417334.0  4.610148     4.7\n",
       "15236471.0  0.073998     0.0\n",
       "...              ...     ...\n",
       "81759492.0  4.284563     3.0\n",
       "92533540.0 -0.011226     0.0\n",
       "52134199.0  4.322526     4.7\n",
       "11506847.0  4.117825     4.0\n",
       "74885706.0  0.044621     0.0\n",
       "\n",
       "[2999 rows x 2 columns]"
      ]
     },
     "execution_count": 89,
     "metadata": {},
     "output_type": "execute_result"
    }
   ],
   "source": [
    "preds_test = full_pipeline.predict(test_X)\n",
    "pd.DataFrame({\n",
    "            'predict': preds_test,\n",
    "            'rating': test_y})"
   ]
  },
  {
   "cell_type": "markdown",
   "id": "2ba8a204",
   "metadata": {},
   "source": [
    "## Sau khi loại bỏ cột brand thì điểm số của mô hình được cải thiện vô cùng đáng kể "
   ]
  },
  {
   "cell_type": "code",
   "execution_count": 90,
   "id": "18b7e85d",
   "metadata": {},
   "outputs": [
    {
     "name": "stdout",
     "output_type": "stream",
     "text": [
      "MAE:  0.2861946015327883\n",
      "R2 score:  0.9461319967526868\n"
     ]
    },
    {
     "data": {
      "text/plain": [
       "(0.2861946015327883, 0.9461319967526868)"
      ]
     },
     "execution_count": 90,
     "metadata": {},
     "output_type": "execute_result"
    }
   ],
   "source": [
    "scoreModel(test_y,preds_test)"
   ]
  },
  {
   "cell_type": "code",
   "execution_count": 91,
   "id": "2248a601",
   "metadata": {},
   "outputs": [
    {
     "data": {
      "text/plain": [
       "0.9461319967526868"
      ]
     },
     "execution_count": 91,
     "metadata": {},
     "output_type": "execute_result"
    }
   ],
   "source": [
    "full_pipeline.score(test_X, test_y)"
   ]
  },
  {
   "cell_type": "code",
   "execution_count": null,
   "id": "13681dc1",
   "metadata": {},
   "outputs": [],
   "source": []
  }
 ],
 "metadata": {
  "kernelspec": {
   "display_name": "Python 3 (ipykernel)",
   "language": "python",
   "name": "python3"
  },
  "language_info": {
   "codemirror_mode": {
    "name": "ipython",
    "version": 3
   },
   "file_extension": ".py",
   "mimetype": "text/x-python",
   "name": "python",
   "nbconvert_exporter": "python",
   "pygments_lexer": "ipython3",
   "version": "3.8.8"
  }
 },
 "nbformat": 4,
 "nbformat_minor": 5
}
