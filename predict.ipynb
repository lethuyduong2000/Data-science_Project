{
 "cells": [
  {
   "cell_type": "code",
   "execution_count": 109,
   "id": "b7018c06",
   "metadata": {},
   "outputs": [],
   "source": [
    "import pandas as pd\n",
    "import numpy as np\n",
    "from sklearn.model_selection import train_test_split\n",
    "from sklearn.preprocessing import OneHotEncoder, LabelEncoder, StandardScaler\n",
    "from sklearn.impute import SimpleImputer\n",
    "from sklearn.base import BaseEstimator, TransformerMixin\n",
    "from sklearn.pipeline import Pipeline, make_pipeline\n",
    "from sklearn.compose import ColumnTransformer, make_column_transformer\n",
    "from sklearn.neural_network import MLPClassifier, MLPRegressor\n",
    "from sklearn import set_config\n",
    "set_config(display='diagram')"
   ]
  },
  {
   "cell_type": "code",
   "execution_count": 110,
   "id": "d83788b0",
   "metadata": {},
   "outputs": [
    {
     "data": {
      "text/html": [
       "<div>\n",
       "<style scoped>\n",
       "    .dataframe tbody tr th:only-of-type {\n",
       "        vertical-align: middle;\n",
       "    }\n",
       "\n",
       "    .dataframe tbody tr th {\n",
       "        vertical-align: top;\n",
       "    }\n",
       "\n",
       "    .dataframe thead th {\n",
       "        text-align: right;\n",
       "    }\n",
       "</style>\n",
       "<table border=\"1\" class=\"dataframe\">\n",
       "  <thead>\n",
       "    <tr style=\"text-align: right;\">\n",
       "      <th></th>\n",
       "      <th>name</th>\n",
       "      <th>brand</th>\n",
       "      <th>discount_price</th>\n",
       "      <th>price</th>\n",
       "      <th>rating</th>\n",
       "      <th>num_reviews</th>\n",
       "      <th>quantity_sold</th>\n",
       "    </tr>\n",
       "    <tr>\n",
       "      <th>id</th>\n",
       "      <th></th>\n",
       "      <th></th>\n",
       "      <th></th>\n",
       "      <th></th>\n",
       "      <th></th>\n",
       "      <th></th>\n",
       "      <th></th>\n",
       "    </tr>\n",
       "  </thead>\n",
       "  <tbody>\n",
       "    <tr>\n",
       "      <th>76181490.0</th>\n",
       "      <td>Phần Mềm Diệt Virus BKAV Profressional 12 Tháng - Hàng Chính Hãng</td>\n",
       "      <td>Bkav</td>\n",
       "      <td>195000.0</td>\n",
       "      <td>299000.0</td>\n",
       "      <td>4.8</td>\n",
       "      <td>927.0</td>\n",
       "      <td>23907.0</td>\n",
       "    </tr>\n",
       "    <tr>\n",
       "      <th>416978.0</th>\n",
       "      <td>Bộ Chuyển Đổi USB Wifi Nano TP-Link TL-WN725N Chuẩn N 150Mbps - Hàng Chính Hãng</td>\n",
       "      <td>TP-Link</td>\n",
       "      <td>117300.0</td>\n",
       "      <td>239000.0</td>\n",
       "      <td>4.5</td>\n",
       "      <td>611.0</td>\n",
       "      <td>6677.0</td>\n",
       "    </tr>\n",
       "    <tr>\n",
       "      <th>53056161.0</th>\n",
       "      <td>Phần mềm Microsoft 365 Family English APAC EM Subscr 1YR Medialess P6 (6GQ-01144) - Hàng Chính Hãng</td>\n",
       "      <td>Microsoft</td>\n",
       "      <td>1190000.0</td>\n",
       "      <td>1690000.0</td>\n",
       "      <td>5.0</td>\n",
       "      <td>720.0</td>\n",
       "      <td>3132.0</td>\n",
       "    </tr>\n",
       "    <tr>\n",
       "      <th>73795655.0</th>\n",
       "      <td>Apple Macbook Pro 2020 M1 - 13 Inchs (Apple M1/ 8GB/ 256GB) - Hàng Chính Hãng</td>\n",
       "      <td>Apple</td>\n",
       "      <td>30990000.0</td>\n",
       "      <td>34990000.0</td>\n",
       "      <td>5.0</td>\n",
       "      <td>209.0</td>\n",
       "      <td>460.0</td>\n",
       "    </tr>\n",
       "    <tr>\n",
       "      <th>23393172.0</th>\n",
       "      <td>Máy in HP Neverstop Laser 1000w  (In/Wifi/Trắng,Đen-4RY23A) - Hàng Chính Hãng</td>\n",
       "      <td>HP</td>\n",
       "      <td>3100000.0</td>\n",
       "      <td>4290000.0</td>\n",
       "      <td>0.0</td>\n",
       "      <td>0.0</td>\n",
       "      <td>0.0</td>\n",
       "    </tr>\n",
       "    <tr>\n",
       "      <th>...</th>\n",
       "      <td>...</td>\n",
       "      <td>...</td>\n",
       "      <td>...</td>\n",
       "      <td>...</td>\n",
       "      <td>...</td>\n",
       "      <td>...</td>\n",
       "      <td>...</td>\n",
       "    </tr>\n",
       "    <tr>\n",
       "      <th>97251112.0</th>\n",
       "      <td>Bột Cà Chua Trivie</td>\n",
       "      <td>Trivie</td>\n",
       "      <td>84000.0</td>\n",
       "      <td>84000.0</td>\n",
       "      <td>0.0</td>\n",
       "      <td>0.0</td>\n",
       "      <td>1.0</td>\n",
       "    </tr>\n",
       "    <tr>\n",
       "      <th>85095152.0</th>\n",
       "      <td>LỌC THÁC VIPSUN 303H - LỌC THÁC MINI CHO HỒ CÁ, HỒ THUỶ SINH</td>\n",
       "      <td>OEM</td>\n",
       "      <td>100000.0</td>\n",
       "      <td>104000.0</td>\n",
       "      <td>0.0</td>\n",
       "      <td>0.0</td>\n",
       "      <td>1.0</td>\n",
       "    </tr>\n",
       "    <tr>\n",
       "      <th>791327.0</th>\n",
       "      <td>Hỗn Hợp Ngũ Cốc Roasted Muesli Brookfarm (350g)</td>\n",
       "      <td>BROOKFARM</td>\n",
       "      <td>236000.0</td>\n",
       "      <td>236000.0</td>\n",
       "      <td>3.5</td>\n",
       "      <td>6.0</td>\n",
       "      <td>244.0</td>\n",
       "    </tr>\n",
       "    <tr>\n",
       "      <th>112086010.0</th>\n",
       "      <td>Cháo Ăn Liền Cao Cấp Khánh Hòa Nutrition</td>\n",
       "      <td>Khánh Hòa Nutrition</td>\n",
       "      <td>220000.0</td>\n",
       "      <td>220000.0</td>\n",
       "      <td>0.0</td>\n",
       "      <td>0.0</td>\n",
       "      <td>2.0</td>\n",
       "    </tr>\n",
       "    <tr>\n",
       "      <th>8258702.0</th>\n",
       "      <td>Máy sủi siêu êm 4 vòi ACO-9610</td>\n",
       "      <td>OEM</td>\n",
       "      <td>350000.0</td>\n",
       "      <td>400000.0</td>\n",
       "      <td>5.0</td>\n",
       "      <td>1.0</td>\n",
       "      <td>3.0</td>\n",
       "    </tr>\n",
       "  </tbody>\n",
       "</table>\n",
       "<p>20021 rows × 7 columns</p>\n",
       "</div>"
      ],
      "text/plain": [
       "                                                                                                            name  \\\n",
       "id                                                                                                                 \n",
       "76181490.0                                     Phần Mềm Diệt Virus BKAV Profressional 12 Tháng - Hàng Chính Hãng   \n",
       "416978.0                         Bộ Chuyển Đổi USB Wifi Nano TP-Link TL-WN725N Chuẩn N 150Mbps - Hàng Chính Hãng   \n",
       "53056161.0   Phần mềm Microsoft 365 Family English APAC EM Subscr 1YR Medialess P6 (6GQ-01144) - Hàng Chính Hãng   \n",
       "73795655.0                         Apple Macbook Pro 2020 M1 - 13 Inchs (Apple M1/ 8GB/ 256GB) - Hàng Chính Hãng   \n",
       "23393172.0                         Máy in HP Neverstop Laser 1000w  (In/Wifi/Trắng,Đen-4RY23A) - Hàng Chính Hãng   \n",
       "...                                                                                                          ...   \n",
       "97251112.0                                                                                    Bột Cà Chua Trivie   \n",
       "85095152.0                                          LỌC THÁC VIPSUN 303H - LỌC THÁC MINI CHO HỒ CÁ, HỒ THUỶ SINH   \n",
       "791327.0                                                         Hỗn Hợp Ngũ Cốc Roasted Muesli Brookfarm (350g)   \n",
       "112086010.0                                                            Cháo Ăn Liền Cao Cấp Khánh Hòa Nutrition    \n",
       "8258702.0                                                                         Máy sủi siêu êm 4 vòi ACO-9610   \n",
       "\n",
       "                           brand  discount_price       price  rating  \\\n",
       "id                                                                     \n",
       "76181490.0                  Bkav        195000.0    299000.0     4.8   \n",
       "416978.0                 TP-Link        117300.0    239000.0     4.5   \n",
       "53056161.0             Microsoft       1190000.0   1690000.0     5.0   \n",
       "73795655.0                 Apple      30990000.0  34990000.0     5.0   \n",
       "23393172.0                    HP       3100000.0   4290000.0     0.0   \n",
       "...                          ...             ...         ...     ...   \n",
       "97251112.0                Trivie         84000.0     84000.0     0.0   \n",
       "85095152.0                   OEM        100000.0    104000.0     0.0   \n",
       "791327.0               BROOKFARM        236000.0    236000.0     3.5   \n",
       "112086010.0  Khánh Hòa Nutrition        220000.0    220000.0     0.0   \n",
       "8258702.0                    OEM        350000.0    400000.0     5.0   \n",
       "\n",
       "             num_reviews  quantity_sold  \n",
       "id                                       \n",
       "76181490.0         927.0        23907.0  \n",
       "416978.0           611.0         6677.0  \n",
       "53056161.0         720.0         3132.0  \n",
       "73795655.0         209.0          460.0  \n",
       "23393172.0           0.0            0.0  \n",
       "...                  ...            ...  \n",
       "97251112.0           0.0            1.0  \n",
       "85095152.0           0.0            1.0  \n",
       "791327.0             6.0          244.0  \n",
       "112086010.0          0.0            2.0  \n",
       "8258702.0            1.0            3.0  \n",
       "\n",
       "[20021 rows x 7 columns]"
      ]
     },
     "execution_count": 110,
     "metadata": {},
     "output_type": "execute_result"
    }
   ],
   "source": [
    "df = pd.read_csv('products.tsv', sep='\\t', index_col='id')\n",
    "df"
   ]
  },
  {
   "cell_type": "markdown",
   "id": "43cc7574",
   "metadata": {},
   "source": [
    "## Khám phá dữ liệu"
   ]
  },
  {
   "cell_type": "code",
   "execution_count": 111,
   "id": "5490d3e4",
   "metadata": {},
   "outputs": [
    {
     "data": {
      "text/plain": [
       "(20021, 7)"
      ]
     },
     "execution_count": 111,
     "metadata": {},
     "output_type": "execute_result"
    }
   ],
   "source": [
    "df.shape"
   ]
  },
  {
   "cell_type": "code",
   "execution_count": 112,
   "id": "1b01c5b4",
   "metadata": {},
   "outputs": [
    {
     "data": {
      "text/plain": [
       "name              0\n",
       "brand             1\n",
       "discount_price    1\n",
       "price             1\n",
       "rating            1\n",
       "num_reviews       1\n",
       "quantity_sold     2\n",
       "dtype: int64"
      ]
     },
     "execution_count": 112,
     "metadata": {},
     "output_type": "execute_result"
    }
   ],
   "source": [
    "df.isna().sum()"
   ]
  },
  {
   "cell_type": "markdown",
   "id": "cfec70ae",
   "metadata": {},
   "source": [
    "Vì chỉ có 2 dòng có giá trị thiếu nên sẽ xoá luôn 2 dòng này "
   ]
  },
  {
   "cell_type": "code",
   "execution_count": 113,
   "id": "e3e0bd21",
   "metadata": {},
   "outputs": [
    {
     "data": {
      "text/plain": [
       "14"
      ]
     },
     "execution_count": 113,
     "metadata": {},
     "output_type": "execute_result"
    }
   ],
   "source": [
    "df.duplicated().sum()"
   ]
  },
  {
   "cell_type": "markdown",
   "id": "4314bd91",
   "metadata": {},
   "source": [
    "Có 14 dòng bị lặp"
   ]
  },
  {
   "cell_type": "code",
   "execution_count": 114,
   "id": "a5fdaa50",
   "metadata": {},
   "outputs": [
    {
     "data": {
      "text/html": [
       "<div>\n",
       "<style scoped>\n",
       "    .dataframe tbody tr th:only-of-type {\n",
       "        vertical-align: middle;\n",
       "    }\n",
       "\n",
       "    .dataframe tbody tr th {\n",
       "        vertical-align: top;\n",
       "    }\n",
       "\n",
       "    .dataframe thead th {\n",
       "        text-align: right;\n",
       "    }\n",
       "</style>\n",
       "<table border=\"1\" class=\"dataframe\">\n",
       "  <thead>\n",
       "    <tr style=\"text-align: right;\">\n",
       "      <th></th>\n",
       "      <th>name</th>\n",
       "      <th>brand</th>\n",
       "      <th>discount_price</th>\n",
       "      <th>price</th>\n",
       "      <th>rating</th>\n",
       "      <th>num_reviews</th>\n",
       "      <th>quantity_sold</th>\n",
       "    </tr>\n",
       "    <tr>\n",
       "      <th>id</th>\n",
       "      <th></th>\n",
       "      <th></th>\n",
       "      <th></th>\n",
       "      <th></th>\n",
       "      <th></th>\n",
       "      <th></th>\n",
       "      <th></th>\n",
       "    </tr>\n",
       "  </thead>\n",
       "  <tbody>\n",
       "    <tr>\n",
       "      <th>109581548.0</th>\n",
       "      <td>Bộ Phát Wifi Mesh TP-Link Deco X60 AX3000 MU-MIMO Hàng Chính Hãng - 3-pack</td>\n",
       "      <td>TP-Link</td>\n",
       "      <td>8390000.0</td>\n",
       "      <td>9999000.0</td>\n",
       "      <td>0.0</td>\n",
       "      <td>0.0</td>\n",
       "      <td>1.0</td>\n",
       "    </tr>\n",
       "    <tr>\n",
       "      <th>55963318.0</th>\n",
       "      <td>Sạc cho laptop Dell Latitude 3540, 3480, Vostro 3360, V3360D Adapter 19.5V-3.34A</td>\n",
       "      <td>OEM</td>\n",
       "      <td>255000.0</td>\n",
       "      <td>450000.0</td>\n",
       "      <td>0.0</td>\n",
       "      <td>0.0</td>\n",
       "      <td>0.0</td>\n",
       "    </tr>\n",
       "    <tr>\n",
       "      <th>73599551.0</th>\n",
       "      <td>Pin dành cho Laptop DELL Inspiron 14-7460. 7460</td>\n",
       "      <td>OEM</td>\n",
       "      <td>760000.0</td>\n",
       "      <td>1200000.0</td>\n",
       "      <td>0.0</td>\n",
       "      <td>0.0</td>\n",
       "      <td>0.0</td>\n",
       "    </tr>\n",
       "    <tr>\n",
       "      <th>15295300.0</th>\n",
       "      <td>[ Set 10 thẻ] Thẻ từ máy chấm công tần số 125Khz - loại mỏng 0.8mm</td>\n",
       "      <td>OEM</td>\n",
       "      <td>58000.0</td>\n",
       "      <td>200000.0</td>\n",
       "      <td>5.0</td>\n",
       "      <td>2.0</td>\n",
       "      <td>26.0</td>\n",
       "    </tr>\n",
       "    <tr>\n",
       "      <th>98388758.0</th>\n",
       "      <td>Combo mic thu âm Livestream H9 và Mic Bm 900 giá siêu rẻ cam kết sản phẩm như hình</td>\n",
       "      <td>OEM</td>\n",
       "      <td>736000.0</td>\n",
       "      <td>936000.0</td>\n",
       "      <td>0.0</td>\n",
       "      <td>0.0</td>\n",
       "      <td>0.0</td>\n",
       "    </tr>\n",
       "    <tr>\n",
       "      <th>100186669.0</th>\n",
       "      <td>Giá đỡ làm mát máy tính sách tay, dụng cụ hỗ trợ tản nhiệt laptop thông minh tiện dụng- GIAO NGẪU NHIÊN</td>\n",
       "      <td>OEM</td>\n",
       "      <td>15000.0</td>\n",
       "      <td>18000.0</td>\n",
       "      <td>0.0</td>\n",
       "      <td>0.0</td>\n",
       "      <td>0.0</td>\n",
       "    </tr>\n",
       "    <tr>\n",
       "      <th>47511272.0</th>\n",
       "      <td>Case máy tính NZXT H510 Elite (White) - Hàng chính hãng</td>\n",
       "      <td>NZXT</td>\n",
       "      <td>4090000.0</td>\n",
       "      <td>4196000.0</td>\n",
       "      <td>0.0</td>\n",
       "      <td>0.0</td>\n",
       "      <td>2.0</td>\n",
       "    </tr>\n",
       "    <tr>\n",
       "      <th>52250532.0</th>\n",
       "      <td>2 XẤP THẺ GIẤY CHẤM CÔNG- BÌA CỨNG- HÀNG NHẬP KHẨU</td>\n",
       "      <td>RONALD JACK</td>\n",
       "      <td>160000.0</td>\n",
       "      <td>240000.0</td>\n",
       "      <td>0.0</td>\n",
       "      <td>0.0</td>\n",
       "      <td>2.0</td>\n",
       "    </tr>\n",
       "    <tr>\n",
       "      <th>109686786.0</th>\n",
       "      <td>Ổ cứng Toshiba/S300/Surveillance dung lượng chuyên cam hàng chính hãng</td>\n",
       "      <td>Toshiba</td>\n",
       "      <td>883000.0</td>\n",
       "      <td>1330000.0</td>\n",
       "      <td>4.0</td>\n",
       "      <td>1.0</td>\n",
       "      <td>1.0</td>\n",
       "    </tr>\n",
       "    <tr>\n",
       "      <th>50392293.0</th>\n",
       "      <td>MÁY KIỂM SOÁT TUẦN TRA BẢO VỆ GS6000B - HÀNG NHẬP KHẨU</td>\n",
       "      <td>GS</td>\n",
       "      <td>3100000.0</td>\n",
       "      <td>4000000.0</td>\n",
       "      <td>0.0</td>\n",
       "      <td>0.0</td>\n",
       "      <td>1.0</td>\n",
       "    </tr>\n",
       "    <tr>\n",
       "      <th>103113512.0</th>\n",
       "      <td>Ổ Cứng SSD 128GB Dahua DSS - Hàng Chính Hãng</td>\n",
       "      <td>Dahua</td>\n",
       "      <td>750000.0</td>\n",
       "      <td>750000.0</td>\n",
       "      <td>0.0</td>\n",
       "      <td>0.0</td>\n",
       "      <td>0.0</td>\n",
       "    </tr>\n",
       "    <tr>\n",
       "      <th>113490702.0</th>\n",
       "      <td>Sạc cho Laptop ASUS TUF Gaming A15 TUF506 TUF506IU TUF506IH TUF506II TUF506IV 180W 20.0V 9.0A</td>\n",
       "      <td>OEM</td>\n",
       "      <td>850000.0</td>\n",
       "      <td>1250000.0</td>\n",
       "      <td>0.0</td>\n",
       "      <td>0.0</td>\n",
       "      <td>0.0</td>\n",
       "    </tr>\n",
       "    <tr>\n",
       "      <th>116583246.0</th>\n",
       "      <td>Bộ Combo Sản Phẩm Máy Hát Loa Kèn + Điện Thoại Bàn Cổ Điển Tay Quay</td>\n",
       "      <td>OEM</td>\n",
       "      <td>6800000.0</td>\n",
       "      <td>9800000.0</td>\n",
       "      <td>0.0</td>\n",
       "      <td>0.0</td>\n",
       "      <td>0.0</td>\n",
       "    </tr>\n",
       "    <tr>\n",
       "      <th>114815897.0</th>\n",
       "      <td>Tổ Yến Sào Tinh Chế (8g/Hộp) (Tổ Yến làm sạch/Tổ Yến Sạch chế biến từ Tổ Yến Thô /Tổ Yến còn lông) Yến Sào Trung Nam - 1 Hộp</td>\n",
       "      <td>YẾN SÀO TRUNG NAM</td>\n",
       "      <td>395000.0</td>\n",
       "      <td>450000.0</td>\n",
       "      <td>5.0</td>\n",
       "      <td>9.0</td>\n",
       "      <td>188.0</td>\n",
       "    </tr>\n",
       "  </tbody>\n",
       "</table>\n",
       "</div>"
      ],
      "text/plain": [
       "                                                                                                                                     name  \\\n",
       "id                                                                                                                                          \n",
       "109581548.0                                                    Bộ Phát Wifi Mesh TP-Link Deco X60 AX3000 MU-MIMO Hàng Chính Hãng - 3-pack   \n",
       "55963318.0                                               Sạc cho laptop Dell Latitude 3540, 3480, Vostro 3360, V3360D Adapter 19.5V-3.34A   \n",
       "73599551.0                                                                                Pin dành cho Laptop DELL Inspiron 14-7460. 7460   \n",
       "15295300.0                                                             [ Set 10 thẻ] Thẻ từ máy chấm công tần số 125Khz - loại mỏng 0.8mm   \n",
       "98388758.0                                             Combo mic thu âm Livestream H9 và Mic Bm 900 giá siêu rẻ cam kết sản phẩm như hình   \n",
       "100186669.0                       Giá đỡ làm mát máy tính sách tay, dụng cụ hỗ trợ tản nhiệt laptop thông minh tiện dụng- GIAO NGẪU NHIÊN   \n",
       "47511272.0                                                                        Case máy tính NZXT H510 Elite (White) - Hàng chính hãng   \n",
       "52250532.0                                                                             2 XẤP THẺ GIẤY CHẤM CÔNG- BÌA CỨNG- HÀNG NHẬP KHẨU   \n",
       "109686786.0                                                        Ổ cứng Toshiba/S300/Surveillance dung lượng chuyên cam hàng chính hãng   \n",
       "50392293.0                                                                         MÁY KIỂM SOÁT TUẦN TRA BẢO VỆ GS6000B - HÀNG NHẬP KHẨU   \n",
       "103113512.0                                                                                  Ổ Cứng SSD 128GB Dahua DSS - Hàng Chính Hãng   \n",
       "113490702.0                                 Sạc cho Laptop ASUS TUF Gaming A15 TUF506 TUF506IU TUF506IH TUF506II TUF506IV 180W 20.0V 9.0A   \n",
       "116583246.0                                                           Bộ Combo Sản Phẩm Máy Hát Loa Kèn + Điện Thoại Bàn Cổ Điển Tay Quay   \n",
       "114815897.0  Tổ Yến Sào Tinh Chế (8g/Hộp) (Tổ Yến làm sạch/Tổ Yến Sạch chế biến từ Tổ Yến Thô /Tổ Yến còn lông) Yến Sào Trung Nam - 1 Hộp   \n",
       "\n",
       "                         brand  discount_price      price  rating  \\\n",
       "id                                                                  \n",
       "109581548.0            TP-Link       8390000.0  9999000.0     0.0   \n",
       "55963318.0                 OEM        255000.0   450000.0     0.0   \n",
       "73599551.0                 OEM        760000.0  1200000.0     0.0   \n",
       "15295300.0                 OEM         58000.0   200000.0     5.0   \n",
       "98388758.0                 OEM        736000.0   936000.0     0.0   \n",
       "100186669.0                OEM         15000.0    18000.0     0.0   \n",
       "47511272.0                NZXT       4090000.0  4196000.0     0.0   \n",
       "52250532.0         RONALD JACK        160000.0   240000.0     0.0   \n",
       "109686786.0            Toshiba        883000.0  1330000.0     4.0   \n",
       "50392293.0                  GS       3100000.0  4000000.0     0.0   \n",
       "103113512.0              Dahua        750000.0   750000.0     0.0   \n",
       "113490702.0                OEM        850000.0  1250000.0     0.0   \n",
       "116583246.0                OEM       6800000.0  9800000.0     0.0   \n",
       "114815897.0  YẾN SÀO TRUNG NAM        395000.0   450000.0     5.0   \n",
       "\n",
       "             num_reviews  quantity_sold  \n",
       "id                                       \n",
       "109581548.0          0.0            1.0  \n",
       "55963318.0           0.0            0.0  \n",
       "73599551.0           0.0            0.0  \n",
       "15295300.0           2.0           26.0  \n",
       "98388758.0           0.0            0.0  \n",
       "100186669.0          0.0            0.0  \n",
       "47511272.0           0.0            2.0  \n",
       "52250532.0           0.0            2.0  \n",
       "109686786.0          1.0            1.0  \n",
       "50392293.0           0.0            1.0  \n",
       "103113512.0          0.0            0.0  \n",
       "113490702.0          0.0            0.0  \n",
       "116583246.0          0.0            0.0  \n",
       "114815897.0          9.0          188.0  "
      ]
     },
     "execution_count": 114,
     "metadata": {},
     "output_type": "execute_result"
    }
   ],
   "source": [
    "df[df.duplicated()]"
   ]
  },
  {
   "cell_type": "code",
   "execution_count": 115,
   "id": "f8ba890d",
   "metadata": {},
   "outputs": [
    {
     "data": {
      "text/plain": [
       "23"
      ]
     },
     "execution_count": 115,
     "metadata": {},
     "output_type": "execute_result"
    }
   ],
   "source": [
    "df.index.duplicated().sum()"
   ]
  },
  {
   "cell_type": "markdown",
   "id": "18d8547f",
   "metadata": {},
   "source": [
    "Có 23 ID bị lặp"
   ]
  },
  {
   "cell_type": "code",
   "execution_count": 116,
   "id": "63d08770",
   "metadata": {},
   "outputs": [
    {
     "data": {
      "text/html": [
       "<div>\n",
       "<style scoped>\n",
       "    .dataframe tbody tr th:only-of-type {\n",
       "        vertical-align: middle;\n",
       "    }\n",
       "\n",
       "    .dataframe tbody tr th {\n",
       "        vertical-align: top;\n",
       "    }\n",
       "\n",
       "    .dataframe thead th {\n",
       "        text-align: right;\n",
       "    }\n",
       "</style>\n",
       "<table border=\"1\" class=\"dataframe\">\n",
       "  <thead>\n",
       "    <tr style=\"text-align: right;\">\n",
       "      <th></th>\n",
       "      <th>name</th>\n",
       "      <th>brand</th>\n",
       "      <th>discount_price</th>\n",
       "      <th>price</th>\n",
       "      <th>rating</th>\n",
       "      <th>num_reviews</th>\n",
       "      <th>quantity_sold</th>\n",
       "    </tr>\n",
       "    <tr>\n",
       "      <th>id</th>\n",
       "      <th></th>\n",
       "      <th></th>\n",
       "      <th></th>\n",
       "      <th></th>\n",
       "      <th></th>\n",
       "      <th></th>\n",
       "      <th></th>\n",
       "    </tr>\n",
       "  </thead>\n",
       "  <tbody>\n",
       "    <tr>\n",
       "      <th>109581548.0</th>\n",
       "      <td>Bộ Phát Wifi Mesh TP-Link Deco X60 AX3000 MU-MIMO Hàng Chính Hãng - 3-pack</td>\n",
       "      <td>TP-Link</td>\n",
       "      <td>8390000.0</td>\n",
       "      <td>9999000.0</td>\n",
       "      <td>0.0</td>\n",
       "      <td>0.0</td>\n",
       "      <td>1.0</td>\n",
       "    </tr>\n",
       "    <tr>\n",
       "      <th>55963318.0</th>\n",
       "      <td>Sạc cho laptop Dell Latitude 3540, 3480, Vostro 3360, V3360D Adapter 19.5V-3.34A</td>\n",
       "      <td>OEM</td>\n",
       "      <td>255000.0</td>\n",
       "      <td>450000.0</td>\n",
       "      <td>0.0</td>\n",
       "      <td>0.0</td>\n",
       "      <td>0.0</td>\n",
       "    </tr>\n",
       "    <tr>\n",
       "      <th>38384495.0</th>\n",
       "      <td>Nguồn 5V 2A Adapter Máy Chấm Công - Hàng Nhập Khẩu</td>\n",
       "      <td>OEM</td>\n",
       "      <td>299000.0</td>\n",
       "      <td>680000.0</td>\n",
       "      <td>0.0</td>\n",
       "      <td>0.0</td>\n",
       "      <td>0.0</td>\n",
       "    </tr>\n",
       "    <tr>\n",
       "      <th>73599551.0</th>\n",
       "      <td>Pin dành cho Laptop DELL Inspiron 14-7460. 7460</td>\n",
       "      <td>OEM</td>\n",
       "      <td>760000.0</td>\n",
       "      <td>1200000.0</td>\n",
       "      <td>0.0</td>\n",
       "      <td>0.0</td>\n",
       "      <td>0.0</td>\n",
       "    </tr>\n",
       "    <tr>\n",
       "      <th>107058325.0</th>\n",
       "      <td>Máy chấm công quét vân tay Deli – màu đen - E3960</td>\n",
       "      <td>Deli</td>\n",
       "      <td>915000.0</td>\n",
       "      <td>1078000.0</td>\n",
       "      <td>0.0</td>\n",
       "      <td>0.0</td>\n",
       "      <td>4.0</td>\n",
       "    </tr>\n",
       "    <tr>\n",
       "      <th>15295300.0</th>\n",
       "      <td>[ Set 10 thẻ] Thẻ từ máy chấm công tần số 125Khz - loại mỏng 0.8mm</td>\n",
       "      <td>OEM</td>\n",
       "      <td>58000.0</td>\n",
       "      <td>200000.0</td>\n",
       "      <td>5.0</td>\n",
       "      <td>2.0</td>\n",
       "      <td>26.0</td>\n",
       "    </tr>\n",
       "    <tr>\n",
       "      <th>31547491.0</th>\n",
       "      <td>Khay Chuyển Ổ Cứng 2.5 Inch Sang 3.5 Inch Dùng Cho Máy Bàn/Desktop</td>\n",
       "      <td>OEM</td>\n",
       "      <td>25000.0</td>\n",
       "      <td>40000.0</td>\n",
       "      <td>4.0</td>\n",
       "      <td>1.0</td>\n",
       "      <td>7.0</td>\n",
       "    </tr>\n",
       "    <tr>\n",
       "      <th>98388758.0</th>\n",
       "      <td>Combo mic thu âm Livestream H9 và Mic Bm 900 giá siêu rẻ cam kết sản phẩm như hình</td>\n",
       "      <td>OEM</td>\n",
       "      <td>736000.0</td>\n",
       "      <td>936000.0</td>\n",
       "      <td>0.0</td>\n",
       "      <td>0.0</td>\n",
       "      <td>0.0</td>\n",
       "    </tr>\n",
       "    <tr>\n",
       "      <th>59237304.0</th>\n",
       "      <td>Bàn phím dành cho Laptop Toshiba Satellite C640, C645D</td>\n",
       "      <td>OEM</td>\n",
       "      <td>265000.0</td>\n",
       "      <td>320000.0</td>\n",
       "      <td>4.5</td>\n",
       "      <td>2.0</td>\n",
       "      <td>2.0</td>\n",
       "    </tr>\n",
       "    <tr>\n",
       "      <th>14991077.0</th>\n",
       "      <td>Máy chấm công Ronald Jack RJ500 - Hàng chính hãng</td>\n",
       "      <td>RONALD JACK</td>\n",
       "      <td>2689000.0</td>\n",
       "      <td>3000000.0</td>\n",
       "      <td>5.0</td>\n",
       "      <td>8.0</td>\n",
       "      <td>17.0</td>\n",
       "    </tr>\n",
       "    <tr>\n",
       "      <th>47511272.0</th>\n",
       "      <td>Case máy tính NZXT H510 Elite (White) - Hàng chính hãng</td>\n",
       "      <td>NZXT</td>\n",
       "      <td>4090000.0</td>\n",
       "      <td>4196000.0</td>\n",
       "      <td>0.0</td>\n",
       "      <td>0.0</td>\n",
       "      <td>2.0</td>\n",
       "    </tr>\n",
       "    <tr>\n",
       "      <th>52250532.0</th>\n",
       "      <td>2 XẤP THẺ GIẤY CHẤM CÔNG- BÌA CỨNG- HÀNG NHẬP KHẨU</td>\n",
       "      <td>RONALD JACK</td>\n",
       "      <td>160000.0</td>\n",
       "      <td>240000.0</td>\n",
       "      <td>0.0</td>\n",
       "      <td>0.0</td>\n",
       "      <td>2.0</td>\n",
       "    </tr>\n",
       "    <tr>\n",
       "      <th>109686786.0</th>\n",
       "      <td>Ổ cứng Toshiba/S300/Surveillance dung lượng chuyên cam hàng chính hãng</td>\n",
       "      <td>Toshiba</td>\n",
       "      <td>883000.0</td>\n",
       "      <td>1330000.0</td>\n",
       "      <td>4.0</td>\n",
       "      <td>1.0</td>\n",
       "      <td>1.0</td>\n",
       "    </tr>\n",
       "    <tr>\n",
       "      <th>50392293.0</th>\n",
       "      <td>MÁY KIỂM SOÁT TUẦN TRA BẢO VỆ GS6000B - HÀNG NHẬP KHẨU</td>\n",
       "      <td>GS</td>\n",
       "      <td>3100000.0</td>\n",
       "      <td>4000000.0</td>\n",
       "      <td>0.0</td>\n",
       "      <td>0.0</td>\n",
       "      <td>1.0</td>\n",
       "    </tr>\n",
       "    <tr>\n",
       "      <th>32924655.0</th>\n",
       "      <td>Set 5 cuộn decal in tem nhãn, mã vạch 50x30mm, 2 tem/hàng, cuộn 50m</td>\n",
       "      <td>OEM</td>\n",
       "      <td>240000.0</td>\n",
       "      <td>730000.0</td>\n",
       "      <td>5.0</td>\n",
       "      <td>2.0</td>\n",
       "      <td>11.0</td>\n",
       "    </tr>\n",
       "    <tr>\n",
       "      <th>13779083.0</th>\n",
       "      <td>Nhãn in TZ2-231 tiêu chuẩn - Chữ đen trên nền trắng 12mm  -Hàng nhập khẩu</td>\n",
       "      <td>LAMINATED</td>\n",
       "      <td>220000.0</td>\n",
       "      <td>290000.0</td>\n",
       "      <td>0.0</td>\n",
       "      <td>0.0</td>\n",
       "      <td>4.0</td>\n",
       "    </tr>\n",
       "    <tr>\n",
       "      <th>114243430.0</th>\n",
       "      <td>Thiết Bị Lưu Trữ Qnap TS-h973AX-Hàng chính hãng - 32GB</td>\n",
       "      <td>QNAP</td>\n",
       "      <td>33908000.0</td>\n",
       "      <td>33908000.0</td>\n",
       "      <td>0.0</td>\n",
       "      <td>0.0</td>\n",
       "      <td>0.0</td>\n",
       "    </tr>\n",
       "    <tr>\n",
       "      <th>114243259.0</th>\n",
       "      <td>Thiết Bị Lưu Trữ Qnap TVS-673e-Hàng chính hãng - 8GB</td>\n",
       "      <td>QNAP</td>\n",
       "      <td>37590000.0</td>\n",
       "      <td>37590000.0</td>\n",
       "      <td>0.0</td>\n",
       "      <td>0.0</td>\n",
       "      <td>0.0</td>\n",
       "    </tr>\n",
       "    <tr>\n",
       "      <th>103168071.0</th>\n",
       "      <td>Máy tính bảng Samsung Galaxy Tab A7 Lite LTE SM-T225) - Hàng Chính Hãng - Bạc</td>\n",
       "      <td>Samsung</td>\n",
       "      <td>4450000.0</td>\n",
       "      <td>4490000.0</td>\n",
       "      <td>5.0</td>\n",
       "      <td>1.0</td>\n",
       "      <td>4.0</td>\n",
       "    </tr>\n",
       "    <tr>\n",
       "      <th>116583246.0</th>\n",
       "      <td>Bộ Combo Sản Phẩm Máy Hát Loa Kèn + Điện Thoại Bàn Cổ Điển Tay Quay - Vàng Nâu</td>\n",
       "      <td>OEM</td>\n",
       "      <td>6999000.0</td>\n",
       "      <td>9800000.0</td>\n",
       "      <td>0.0</td>\n",
       "      <td>0.0</td>\n",
       "      <td>0.0</td>\n",
       "    </tr>\n",
       "    <tr>\n",
       "      <th>116583246.0</th>\n",
       "      <td>Bộ Combo Sản Phẩm Máy Hát Loa Kèn + Điện Thoại Bàn Cổ Điển Tay Quay</td>\n",
       "      <td>OEM</td>\n",
       "      <td>6800000.0</td>\n",
       "      <td>9800000.0</td>\n",
       "      <td>0.0</td>\n",
       "      <td>0.0</td>\n",
       "      <td>0.0</td>\n",
       "    </tr>\n",
       "    <tr>\n",
       "      <th>116583413.0</th>\n",
       "      <td>Bộ Combo Sản Phẩm Máy Hát Loa Kèn + Điện Thoại Bàn Dùng Sim Di Động - Vàng Nâu</td>\n",
       "      <td>OEM</td>\n",
       "      <td>5999000.0</td>\n",
       "      <td>8999000.0</td>\n",
       "      <td>0.0</td>\n",
       "      <td>0.0</td>\n",
       "      <td>0.0</td>\n",
       "    </tr>\n",
       "    <tr>\n",
       "      <th>114815897.0</th>\n",
       "      <td>Tổ Yến Sào Tinh Chế (8g/Hộp) (Tổ Yến làm sạch/Tổ Yến Sạch chế biến từ Tổ Yến Thô /Tổ Yến còn lông) Yến Sào Trung Nam - 1 Hộp</td>\n",
       "      <td>YẾN SÀO TRUNG NAM</td>\n",
       "      <td>395000.0</td>\n",
       "      <td>450000.0</td>\n",
       "      <td>5.0</td>\n",
       "      <td>9.0</td>\n",
       "      <td>188.0</td>\n",
       "    </tr>\n",
       "  </tbody>\n",
       "</table>\n",
       "</div>"
      ],
      "text/plain": [
       "                                                                                                                                     name  \\\n",
       "id                                                                                                                                          \n",
       "109581548.0                                                    Bộ Phát Wifi Mesh TP-Link Deco X60 AX3000 MU-MIMO Hàng Chính Hãng - 3-pack   \n",
       "55963318.0                                               Sạc cho laptop Dell Latitude 3540, 3480, Vostro 3360, V3360D Adapter 19.5V-3.34A   \n",
       "38384495.0                                                                             Nguồn 5V 2A Adapter Máy Chấm Công - Hàng Nhập Khẩu   \n",
       "73599551.0                                                                                Pin dành cho Laptop DELL Inspiron 14-7460. 7460   \n",
       "107058325.0                                                                             Máy chấm công quét vân tay Deli – màu đen - E3960   \n",
       "15295300.0                                                             [ Set 10 thẻ] Thẻ từ máy chấm công tần số 125Khz - loại mỏng 0.8mm   \n",
       "31547491.0                                                             Khay Chuyển Ổ Cứng 2.5 Inch Sang 3.5 Inch Dùng Cho Máy Bàn/Desktop   \n",
       "98388758.0                                             Combo mic thu âm Livestream H9 và Mic Bm 900 giá siêu rẻ cam kết sản phẩm như hình   \n",
       "59237304.0                                                                         Bàn phím dành cho Laptop Toshiba Satellite C640, C645D   \n",
       "14991077.0                                                                              Máy chấm công Ronald Jack RJ500 - Hàng chính hãng   \n",
       "47511272.0                                                                        Case máy tính NZXT H510 Elite (White) - Hàng chính hãng   \n",
       "52250532.0                                                                             2 XẤP THẺ GIẤY CHẤM CÔNG- BÌA CỨNG- HÀNG NHẬP KHẨU   \n",
       "109686786.0                                                        Ổ cứng Toshiba/S300/Surveillance dung lượng chuyên cam hàng chính hãng   \n",
       "50392293.0                                                                         MÁY KIỂM SOÁT TUẦN TRA BẢO VỆ GS6000B - HÀNG NHẬP KHẨU   \n",
       "32924655.0                                                            Set 5 cuộn decal in tem nhãn, mã vạch 50x30mm, 2 tem/hàng, cuộn 50m   \n",
       "13779083.0                                                      Nhãn in TZ2-231 tiêu chuẩn - Chữ đen trên nền trắng 12mm  -Hàng nhập khẩu   \n",
       "114243430.0                                                                        Thiết Bị Lưu Trữ Qnap TS-h973AX-Hàng chính hãng - 32GB   \n",
       "114243259.0                                                                          Thiết Bị Lưu Trữ Qnap TVS-673e-Hàng chính hãng - 8GB   \n",
       "103168071.0                                                 Máy tính bảng Samsung Galaxy Tab A7 Lite LTE SM-T225) - Hàng Chính Hãng - Bạc   \n",
       "116583246.0                                                Bộ Combo Sản Phẩm Máy Hát Loa Kèn + Điện Thoại Bàn Cổ Điển Tay Quay - Vàng Nâu   \n",
       "116583246.0                                                           Bộ Combo Sản Phẩm Máy Hát Loa Kèn + Điện Thoại Bàn Cổ Điển Tay Quay   \n",
       "116583413.0                                                Bộ Combo Sản Phẩm Máy Hát Loa Kèn + Điện Thoại Bàn Dùng Sim Di Động - Vàng Nâu   \n",
       "114815897.0  Tổ Yến Sào Tinh Chế (8g/Hộp) (Tổ Yến làm sạch/Tổ Yến Sạch chế biến từ Tổ Yến Thô /Tổ Yến còn lông) Yến Sào Trung Nam - 1 Hộp   \n",
       "\n",
       "                         brand  discount_price       price  rating  \\\n",
       "id                                                                   \n",
       "109581548.0            TP-Link       8390000.0   9999000.0     0.0   \n",
       "55963318.0                 OEM        255000.0    450000.0     0.0   \n",
       "38384495.0                 OEM        299000.0    680000.0     0.0   \n",
       "73599551.0                 OEM        760000.0   1200000.0     0.0   \n",
       "107058325.0               Deli        915000.0   1078000.0     0.0   \n",
       "15295300.0                 OEM         58000.0    200000.0     5.0   \n",
       "31547491.0                 OEM         25000.0     40000.0     4.0   \n",
       "98388758.0                 OEM        736000.0    936000.0     0.0   \n",
       "59237304.0                 OEM        265000.0    320000.0     4.5   \n",
       "14991077.0         RONALD JACK       2689000.0   3000000.0     5.0   \n",
       "47511272.0                NZXT       4090000.0   4196000.0     0.0   \n",
       "52250532.0         RONALD JACK        160000.0    240000.0     0.0   \n",
       "109686786.0            Toshiba        883000.0   1330000.0     4.0   \n",
       "50392293.0                  GS       3100000.0   4000000.0     0.0   \n",
       "32924655.0                 OEM        240000.0    730000.0     5.0   \n",
       "13779083.0           LAMINATED        220000.0    290000.0     0.0   \n",
       "114243430.0               QNAP      33908000.0  33908000.0     0.0   \n",
       "114243259.0               QNAP      37590000.0  37590000.0     0.0   \n",
       "103168071.0            Samsung       4450000.0   4490000.0     5.0   \n",
       "116583246.0                OEM       6999000.0   9800000.0     0.0   \n",
       "116583246.0                OEM       6800000.0   9800000.0     0.0   \n",
       "116583413.0                OEM       5999000.0   8999000.0     0.0   \n",
       "114815897.0  YẾN SÀO TRUNG NAM        395000.0    450000.0     5.0   \n",
       "\n",
       "             num_reviews  quantity_sold  \n",
       "id                                       \n",
       "109581548.0          0.0            1.0  \n",
       "55963318.0           0.0            0.0  \n",
       "38384495.0           0.0            0.0  \n",
       "73599551.0           0.0            0.0  \n",
       "107058325.0          0.0            4.0  \n",
       "15295300.0           2.0           26.0  \n",
       "31547491.0           1.0            7.0  \n",
       "98388758.0           0.0            0.0  \n",
       "59237304.0           2.0            2.0  \n",
       "14991077.0           8.0           17.0  \n",
       "47511272.0           0.0            2.0  \n",
       "52250532.0           0.0            2.0  \n",
       "109686786.0          1.0            1.0  \n",
       "50392293.0           0.0            1.0  \n",
       "32924655.0           2.0           11.0  \n",
       "13779083.0           0.0            4.0  \n",
       "114243430.0          0.0            0.0  \n",
       "114243259.0          0.0            0.0  \n",
       "103168071.0          1.0            4.0  \n",
       "116583246.0          0.0            0.0  \n",
       "116583246.0          0.0            0.0  \n",
       "116583413.0          0.0            0.0  \n",
       "114815897.0          9.0          188.0  "
      ]
     },
     "execution_count": 116,
     "metadata": {},
     "output_type": "execute_result"
    }
   ],
   "source": [
    "df[df.index.duplicated()]"
   ]
  },
  {
   "cell_type": "markdown",
   "id": "d6ab78f1",
   "metadata": {},
   "source": [
    "Xoá các dòng có bị lặp, ID bị lặp, chứa null"
   ]
  },
  {
   "cell_type": "code",
   "execution_count": 117,
   "id": "5ce04dff",
   "metadata": {},
   "outputs": [
    {
     "data": {
      "text/html": [
       "<div>\n",
       "<style scoped>\n",
       "    .dataframe tbody tr th:only-of-type {\n",
       "        vertical-align: middle;\n",
       "    }\n",
       "\n",
       "    .dataframe tbody tr th {\n",
       "        vertical-align: top;\n",
       "    }\n",
       "\n",
       "    .dataframe thead th {\n",
       "        text-align: right;\n",
       "    }\n",
       "</style>\n",
       "<table border=\"1\" class=\"dataframe\">\n",
       "  <thead>\n",
       "    <tr style=\"text-align: right;\">\n",
       "      <th></th>\n",
       "      <th>name</th>\n",
       "      <th>brand</th>\n",
       "      <th>discount_price</th>\n",
       "      <th>price</th>\n",
       "      <th>rating</th>\n",
       "      <th>num_reviews</th>\n",
       "      <th>quantity_sold</th>\n",
       "    </tr>\n",
       "    <tr>\n",
       "      <th>id</th>\n",
       "      <th></th>\n",
       "      <th></th>\n",
       "      <th></th>\n",
       "      <th></th>\n",
       "      <th></th>\n",
       "      <th></th>\n",
       "      <th></th>\n",
       "    </tr>\n",
       "  </thead>\n",
       "  <tbody>\n",
       "    <tr>\n",
       "      <th>76181490.0</th>\n",
       "      <td>Phần Mềm Diệt Virus BKAV Profressional 12 Tháng - Hàng Chính Hãng</td>\n",
       "      <td>Bkav</td>\n",
       "      <td>195000.0</td>\n",
       "      <td>299000.0</td>\n",
       "      <td>4.8</td>\n",
       "      <td>927.0</td>\n",
       "      <td>23907.0</td>\n",
       "    </tr>\n",
       "    <tr>\n",
       "      <th>416978.0</th>\n",
       "      <td>Bộ Chuyển Đổi USB Wifi Nano TP-Link TL-WN725N Chuẩn N 150Mbps - Hàng Chính Hãng</td>\n",
       "      <td>TP-Link</td>\n",
       "      <td>117300.0</td>\n",
       "      <td>239000.0</td>\n",
       "      <td>4.5</td>\n",
       "      <td>611.0</td>\n",
       "      <td>6677.0</td>\n",
       "    </tr>\n",
       "    <tr>\n",
       "      <th>53056161.0</th>\n",
       "      <td>Phần mềm Microsoft 365 Family English APAC EM Subscr 1YR Medialess P6 (6GQ-01144) - Hàng Chính Hãng</td>\n",
       "      <td>Microsoft</td>\n",
       "      <td>1190000.0</td>\n",
       "      <td>1690000.0</td>\n",
       "      <td>5.0</td>\n",
       "      <td>720.0</td>\n",
       "      <td>3132.0</td>\n",
       "    </tr>\n",
       "    <tr>\n",
       "      <th>73795655.0</th>\n",
       "      <td>Apple Macbook Pro 2020 M1 - 13 Inchs (Apple M1/ 8GB/ 256GB) - Hàng Chính Hãng</td>\n",
       "      <td>Apple</td>\n",
       "      <td>30990000.0</td>\n",
       "      <td>34990000.0</td>\n",
       "      <td>5.0</td>\n",
       "      <td>209.0</td>\n",
       "      <td>460.0</td>\n",
       "    </tr>\n",
       "    <tr>\n",
       "      <th>23393172.0</th>\n",
       "      <td>Máy in HP Neverstop Laser 1000w  (In/Wifi/Trắng,Đen-4RY23A) - Hàng Chính Hãng</td>\n",
       "      <td>HP</td>\n",
       "      <td>3100000.0</td>\n",
       "      <td>4290000.0</td>\n",
       "      <td>0.0</td>\n",
       "      <td>0.0</td>\n",
       "      <td>0.0</td>\n",
       "    </tr>\n",
       "    <tr>\n",
       "      <th>...</th>\n",
       "      <td>...</td>\n",
       "      <td>...</td>\n",
       "      <td>...</td>\n",
       "      <td>...</td>\n",
       "      <td>...</td>\n",
       "      <td>...</td>\n",
       "      <td>...</td>\n",
       "    </tr>\n",
       "    <tr>\n",
       "      <th>97251112.0</th>\n",
       "      <td>Bột Cà Chua Trivie</td>\n",
       "      <td>Trivie</td>\n",
       "      <td>84000.0</td>\n",
       "      <td>84000.0</td>\n",
       "      <td>0.0</td>\n",
       "      <td>0.0</td>\n",
       "      <td>1.0</td>\n",
       "    </tr>\n",
       "    <tr>\n",
       "      <th>85095152.0</th>\n",
       "      <td>LỌC THÁC VIPSUN 303H - LỌC THÁC MINI CHO HỒ CÁ, HỒ THUỶ SINH</td>\n",
       "      <td>OEM</td>\n",
       "      <td>100000.0</td>\n",
       "      <td>104000.0</td>\n",
       "      <td>0.0</td>\n",
       "      <td>0.0</td>\n",
       "      <td>1.0</td>\n",
       "    </tr>\n",
       "    <tr>\n",
       "      <th>791327.0</th>\n",
       "      <td>Hỗn Hợp Ngũ Cốc Roasted Muesli Brookfarm (350g)</td>\n",
       "      <td>BROOKFARM</td>\n",
       "      <td>236000.0</td>\n",
       "      <td>236000.0</td>\n",
       "      <td>3.5</td>\n",
       "      <td>6.0</td>\n",
       "      <td>244.0</td>\n",
       "    </tr>\n",
       "    <tr>\n",
       "      <th>112086010.0</th>\n",
       "      <td>Cháo Ăn Liền Cao Cấp Khánh Hòa Nutrition</td>\n",
       "      <td>Khánh Hòa Nutrition</td>\n",
       "      <td>220000.0</td>\n",
       "      <td>220000.0</td>\n",
       "      <td>0.0</td>\n",
       "      <td>0.0</td>\n",
       "      <td>2.0</td>\n",
       "    </tr>\n",
       "    <tr>\n",
       "      <th>8258702.0</th>\n",
       "      <td>Máy sủi siêu êm 4 vòi ACO-9610</td>\n",
       "      <td>OEM</td>\n",
       "      <td>350000.0</td>\n",
       "      <td>400000.0</td>\n",
       "      <td>5.0</td>\n",
       "      <td>1.0</td>\n",
       "      <td>3.0</td>\n",
       "    </tr>\n",
       "  </tbody>\n",
       "</table>\n",
       "<p>19993 rows × 7 columns</p>\n",
       "</div>"
      ],
      "text/plain": [
       "                                                                                                            name  \\\n",
       "id                                                                                                                 \n",
       "76181490.0                                     Phần Mềm Diệt Virus BKAV Profressional 12 Tháng - Hàng Chính Hãng   \n",
       "416978.0                         Bộ Chuyển Đổi USB Wifi Nano TP-Link TL-WN725N Chuẩn N 150Mbps - Hàng Chính Hãng   \n",
       "53056161.0   Phần mềm Microsoft 365 Family English APAC EM Subscr 1YR Medialess P6 (6GQ-01144) - Hàng Chính Hãng   \n",
       "73795655.0                         Apple Macbook Pro 2020 M1 - 13 Inchs (Apple M1/ 8GB/ 256GB) - Hàng Chính Hãng   \n",
       "23393172.0                         Máy in HP Neverstop Laser 1000w  (In/Wifi/Trắng,Đen-4RY23A) - Hàng Chính Hãng   \n",
       "...                                                                                                          ...   \n",
       "97251112.0                                                                                    Bột Cà Chua Trivie   \n",
       "85095152.0                                          LỌC THÁC VIPSUN 303H - LỌC THÁC MINI CHO HỒ CÁ, HỒ THUỶ SINH   \n",
       "791327.0                                                         Hỗn Hợp Ngũ Cốc Roasted Muesli Brookfarm (350g)   \n",
       "112086010.0                                                            Cháo Ăn Liền Cao Cấp Khánh Hòa Nutrition    \n",
       "8258702.0                                                                         Máy sủi siêu êm 4 vòi ACO-9610   \n",
       "\n",
       "                           brand  discount_price       price  rating  \\\n",
       "id                                                                     \n",
       "76181490.0                  Bkav        195000.0    299000.0     4.8   \n",
       "416978.0                 TP-Link        117300.0    239000.0     4.5   \n",
       "53056161.0             Microsoft       1190000.0   1690000.0     5.0   \n",
       "73795655.0                 Apple      30990000.0  34990000.0     5.0   \n",
       "23393172.0                    HP       3100000.0   4290000.0     0.0   \n",
       "...                          ...             ...         ...     ...   \n",
       "97251112.0                Trivie         84000.0     84000.0     0.0   \n",
       "85095152.0                   OEM        100000.0    104000.0     0.0   \n",
       "791327.0               BROOKFARM        236000.0    236000.0     3.5   \n",
       "112086010.0  Khánh Hòa Nutrition        220000.0    220000.0     0.0   \n",
       "8258702.0                    OEM        350000.0    400000.0     5.0   \n",
       "\n",
       "             num_reviews  quantity_sold  \n",
       "id                                       \n",
       "76181490.0         927.0        23907.0  \n",
       "416978.0           611.0         6677.0  \n",
       "53056161.0         720.0         3132.0  \n",
       "73795655.0         209.0          460.0  \n",
       "23393172.0           0.0            0.0  \n",
       "...                  ...            ...  \n",
       "97251112.0           0.0            1.0  \n",
       "85095152.0           0.0            1.0  \n",
       "791327.0             6.0          244.0  \n",
       "112086010.0          0.0            2.0  \n",
       "8258702.0            1.0            3.0  \n",
       "\n",
       "[19993 rows x 7 columns]"
      ]
     },
     "execution_count": 117,
     "metadata": {},
     "output_type": "execute_result"
    }
   ],
   "source": [
    "data_df = df.drop_duplicates().dropna().reset_index()\n",
    "data_df.drop_duplicates(subset='id', inplace=True)\n",
    "data_df.set_index('id', inplace=True)\n",
    "data_df"
   ]
  },
  {
   "cell_type": "markdown",
   "id": "232aa5d3",
   "metadata": {},
   "source": [
    "Sau khi xử lý các dòng bị lặp và null thì dữ liệu còn lại 19993 dòng x 7 cột"
   ]
  },
  {
   "cell_type": "code",
   "execution_count": 118,
   "id": "dde6e3f3",
   "metadata": {},
   "outputs": [
    {
     "data": {
      "text/plain": [
       "name               object\n",
       "brand              object\n",
       "discount_price    float64\n",
       "price             float64\n",
       "rating            float64\n",
       "num_reviews       float64\n",
       "quantity_sold     float64\n",
       "dtype: object"
      ]
     },
     "execution_count": 118,
     "metadata": {},
     "output_type": "execute_result"
    }
   ],
   "source": [
    "data_df.dtypes"
   ]
  },
  {
   "cell_type": "markdown",
   "id": "e84c3f84",
   "metadata": {},
   "source": [
    "Dữ liệu của *số lượng người bình luận* và *số lượng sản phẩm được bán* thì không thể là float64, nên chuyển cột `num_reviews` và `quantity_sold` sang int64"
   ]
  },
  {
   "cell_type": "code",
   "execution_count": 119,
   "id": "c1a1b736",
   "metadata": {},
   "outputs": [
    {
     "name": "stdout",
     "output_type": "stream",
     "text": [
      "<class 'pandas.core.frame.DataFrame'>\n",
      "Float64Index: 19993 entries, 76181490.0 to 8258702.0\n",
      "Data columns (total 7 columns):\n",
      " #   Column          Non-Null Count  Dtype  \n",
      "---  ------          --------------  -----  \n",
      " 0   name            19993 non-null  object \n",
      " 1   brand           19993 non-null  object \n",
      " 2   discount_price  19993 non-null  float64\n",
      " 3   price           19993 non-null  float64\n",
      " 4   rating          19993 non-null  float64\n",
      " 5   num_reviews     19993 non-null  int64  \n",
      " 6   quantity_sold   19993 non-null  int64  \n",
      "dtypes: float64(3), int64(2), object(2)\n",
      "memory usage: 1.2+ MB\n"
     ]
    }
   ],
   "source": [
    "data_df = data_df.astype({'quantity_sold':'int64',\n",
    "                          'num_reviews':'int64'})\n",
    "data_df.info()"
   ]
  },
  {
   "cell_type": "markdown",
   "id": "4612f5a5",
   "metadata": {},
   "source": [
    "Output của ta là `rating` và input là tất cả các thông tin của sản phẩm trừ `rating`."
   ]
  },
  {
   "cell_type": "code",
   "execution_count": 120,
   "id": "d22068c3",
   "metadata": {},
   "outputs": [],
   "source": [
    "X = data_df.drop([\"rating\"], axis=1)\n",
    "y = data_df[\"rating\"]"
   ]
  },
  {
   "cell_type": "code",
   "execution_count": 121,
   "id": "1d5bd8c5",
   "metadata": {},
   "outputs": [
    {
     "data": {
      "text/plain": [
       "0.0    42.409843\n",
       "5.0    21.727605\n",
       "4.5     6.802381\n",
       "4.8     5.972090\n",
       "4.7     5.236833\n",
       "4.0     3.816336\n",
       "4.6     3.731306\n",
       "4.3     2.285800\n",
       "3.0     1.335467\n",
       "1.0     1.100385\n",
       "4.2     1.100385\n",
       "4.1     0.675236\n",
       "3.5     0.615215\n",
       "3.8     0.565198\n",
       "3.7     0.520182\n",
       "3.3     0.400140\n",
       "2.0     0.360126\n",
       "3.9     0.320112\n",
       "3.6     0.200070\n",
       "2.5     0.185065\n",
       "3.4     0.115040\n",
       "3.2     0.110039\n",
       "2.3     0.090032\n",
       "2.8     0.080028\n",
       "2.7     0.060021\n",
       "4.4     0.045016\n",
       "1.5     0.030011\n",
       "3.1     0.030011\n",
       "2.6     0.025009\n",
       "1.7     0.015005\n",
       "2.4     0.015005\n",
       "4.9     0.010004\n",
       "2.9     0.010004\n",
       "1.8     0.005002\n",
       "Name: rating, dtype: float64"
      ]
     },
     "execution_count": 121,
     "metadata": {},
     "output_type": "execute_result"
    }
   ],
   "source": [
    "# Tỉ lệ các giá trị rating có được\n",
    "data_df['rating'].value_counts(normalize=True) * 100"
   ]
  },
  {
   "cell_type": "markdown",
   "id": "add7d777",
   "metadata": {},
   "source": [
    "Ta thấy tỉ lệ này không đồng đều, có 0 và 5 rating chiếm 60% dữ liệu, và có những rating chiếm tỉ lệ rất nhỏ là 0.005%"
   ]
  },
  {
   "cell_type": "markdown",
   "id": "84dcbcbc",
   "metadata": {},
   "source": [
    "## Chia các tập dữ liệu"
   ]
  },
  {
   "cell_type": "code",
   "execution_count": 122,
   "id": "c06a5658",
   "metadata": {},
   "outputs": [],
   "source": [
    "train_X, test_X, train_y, test_y = \\\n",
    "                              train_test_split(X, y, \n",
    "                                               test_size=0.3, \n",
    "                                               random_state=0)\n",
    "val_X, test_X, val_y, test_y = \\\n",
    "                              train_test_split(test_X, test_y, \n",
    "                                               test_size=0.5, \n",
    "                                               random_state=0)"
   ]
  },
  {
   "cell_type": "code",
   "execution_count": 123,
   "id": "a3815695",
   "metadata": {},
   "outputs": [
    {
     "data": {
      "text/plain": [
       "(13995, 6)"
      ]
     },
     "execution_count": 123,
     "metadata": {},
     "output_type": "execute_result"
    }
   ],
   "source": [
    "train_X.shape"
   ]
  },
  {
   "cell_type": "code",
   "execution_count": 124,
   "id": "1b8b1155",
   "metadata": {},
   "outputs": [
    {
     "data": {
      "text/plain": [
       "(13995,)"
      ]
     },
     "execution_count": 124,
     "metadata": {},
     "output_type": "execute_result"
    }
   ],
   "source": [
    "train_y.shape"
   ]
  },
  {
   "cell_type": "code",
   "execution_count": 125,
   "id": "46a98a1e",
   "metadata": {},
   "outputs": [
    {
     "data": {
      "text/plain": [
       "(2999, 6)"
      ]
     },
     "execution_count": 125,
     "metadata": {},
     "output_type": "execute_result"
    }
   ],
   "source": [
    "val_X.shape"
   ]
  },
  {
   "cell_type": "code",
   "execution_count": 126,
   "id": "44ced2ff",
   "metadata": {},
   "outputs": [
    {
     "data": {
      "text/plain": [
       "(2999,)"
      ]
     },
     "execution_count": 126,
     "metadata": {},
     "output_type": "execute_result"
    }
   ],
   "source": [
    "val_y.shape"
   ]
  },
  {
   "cell_type": "code",
   "execution_count": 127,
   "id": "871c8948",
   "metadata": {},
   "outputs": [
    {
     "data": {
      "text/plain": [
       "(2999, 6)"
      ]
     },
     "execution_count": 127,
     "metadata": {},
     "output_type": "execute_result"
    }
   ],
   "source": [
    "test_X.shape"
   ]
  },
  {
   "cell_type": "code",
   "execution_count": 128,
   "id": "73936df0",
   "metadata": {},
   "outputs": [
    {
     "data": {
      "text/plain": [
       "(2999,)"
      ]
     },
     "execution_count": 128,
     "metadata": {},
     "output_type": "execute_result"
    }
   ],
   "source": [
    "test_y.shape"
   ]
  },
  {
   "cell_type": "markdown",
   "id": "9fcc82a4",
   "metadata": {},
   "source": [
    "## Khám phá dữ liệu"
   ]
  },
  {
   "cell_type": "markdown",
   "id": "097f382c",
   "metadata": {},
   "source": [
    "### Tập train "
   ]
  },
  {
   "cell_type": "code",
   "execution_count": 129,
   "id": "19315495",
   "metadata": {},
   "outputs": [
    {
     "data": {
      "text/plain": [
       "name               object\n",
       "brand              object\n",
       "discount_price    float64\n",
       "price             float64\n",
       "num_reviews         int64\n",
       "quantity_sold       int64\n",
       "dtype: object"
      ]
     },
     "execution_count": 129,
     "metadata": {},
     "output_type": "execute_result"
    }
   ],
   "source": [
    "train_X.dtypes"
   ]
  },
  {
   "cell_type": "code",
   "execution_count": 130,
   "id": "5d4f6e9a",
   "metadata": {},
   "outputs": [
    {
     "data": {
      "text/plain": [
       "discount_price    float64\n",
       "price             float64\n",
       "num_reviews         int64\n",
       "quantity_sold       int64\n",
       "dtype: object"
      ]
     },
     "execution_count": 130,
     "metadata": {},
     "output_type": "execute_result"
    }
   ],
   "source": [
    "train_X.dtypes[train_X.dtypes != object]"
   ]
  },
  {
   "cell_type": "markdown",
   "id": "cdfcf623",
   "metadata": {},
   "source": [
    "Có 4 cột có dữ liệu dạng số và 2 cột có dữ liệu dạng object"
   ]
  },
  {
   "cell_type": "markdown",
   "id": "c9fb4a61",
   "metadata": {},
   "source": [
    "Với các cột có dữ liệu dạng số"
   ]
  },
  {
   "cell_type": "code",
   "execution_count": 131,
   "id": "c03f1fc7",
   "metadata": {},
   "outputs": [
    {
     "data": {
      "text/html": [
       "<div>\n",
       "<style scoped>\n",
       "    .dataframe tbody tr th:only-of-type {\n",
       "        vertical-align: middle;\n",
       "    }\n",
       "\n",
       "    .dataframe tbody tr th {\n",
       "        vertical-align: top;\n",
       "    }\n",
       "\n",
       "    .dataframe thead th {\n",
       "        text-align: right;\n",
       "    }\n",
       "</style>\n",
       "<table border=\"1\" class=\"dataframe\">\n",
       "  <thead>\n",
       "    <tr style=\"text-align: right;\">\n",
       "      <th></th>\n",
       "      <th>discount_price</th>\n",
       "      <th>price</th>\n",
       "      <th>num_reviews</th>\n",
       "      <th>quantity_sold</th>\n",
       "    </tr>\n",
       "  </thead>\n",
       "  <tbody>\n",
       "    <tr>\n",
       "      <th>missing_percentage</th>\n",
       "      <td>0.0</td>\n",
       "      <td>0.0</td>\n",
       "      <td>0.0</td>\n",
       "      <td>0.0</td>\n",
       "    </tr>\n",
       "    <tr>\n",
       "      <th>min</th>\n",
       "      <td>1000.0</td>\n",
       "      <td>1100.0</td>\n",
       "      <td>0.0</td>\n",
       "      <td>0.0</td>\n",
       "    </tr>\n",
       "    <tr>\n",
       "      <th>median</th>\n",
       "      <td>200000.0</td>\n",
       "      <td>280000.0</td>\n",
       "      <td>1.0</td>\n",
       "      <td>6.0</td>\n",
       "    </tr>\n",
       "    <tr>\n",
       "      <th>max</th>\n",
       "      <td>180000000.0</td>\n",
       "      <td>180000000.0</td>\n",
       "      <td>2048.0</td>\n",
       "      <td>38638.0</td>\n",
       "    </tr>\n",
       "  </tbody>\n",
       "</table>\n",
       "</div>"
      ],
      "text/plain": [
       "                    discount_price        price  num_reviews  quantity_sold\n",
       "missing_percentage             0.0          0.0          0.0            0.0\n",
       "min                         1000.0       1100.0          0.0            0.0\n",
       "median                    200000.0     280000.0          1.0            6.0\n",
       "max                    180000000.0  180000000.0       2048.0        38638.0"
      ]
     },
     "execution_count": 131,
     "metadata": {},
     "output_type": "execute_result"
    }
   ],
   "source": [
    "num_cols = ['discount_price','price','num_reviews','quantity_sold']\n",
    "df = train_X[num_cols]\n",
    "def missing_percentage(c):\n",
    "    return (c.isna().mean() * 100).round(1)\n",
    "def median(c):\n",
    "    return c.quantile(0.5).round(1)\n",
    "df.agg([missing_percentage, 'min', median, 'max'])"
   ]
  },
  {
   "cell_type": "markdown",
   "id": "e846fe52",
   "metadata": {},
   "source": [
    "Với các cột object"
   ]
  },
  {
   "cell_type": "code",
   "execution_count": 132,
   "id": "d3cb2066",
   "metadata": {},
   "outputs": [
    {
     "data": {
      "text/html": [
       "<div>\n",
       "<style scoped>\n",
       "    .dataframe tbody tr th:only-of-type {\n",
       "        vertical-align: middle;\n",
       "    }\n",
       "\n",
       "    .dataframe tbody tr th {\n",
       "        vertical-align: top;\n",
       "    }\n",
       "\n",
       "    .dataframe thead th {\n",
       "        text-align: right;\n",
       "    }\n",
       "</style>\n",
       "<table border=\"1\" class=\"dataframe\">\n",
       "  <thead>\n",
       "    <tr style=\"text-align: right;\">\n",
       "      <th></th>\n",
       "      <th>brand</th>\n",
       "      <th>name</th>\n",
       "    </tr>\n",
       "  </thead>\n",
       "  <tbody>\n",
       "    <tr>\n",
       "      <th>missing_percentage</th>\n",
       "      <td>0.0</td>\n",
       "      <td>0.0</td>\n",
       "    </tr>\n",
       "    <tr>\n",
       "      <th>num_values</th>\n",
       "      <td>1979</td>\n",
       "      <td>13949</td>\n",
       "    </tr>\n",
       "    <tr>\n",
       "      <th>value_percentages</th>\n",
       "      <td>{'OEM': 32.2, 'Tân Lộc Phát': 0.7, 'Mộc Sắc': 0.7, 'Samsung': 0.7, 'Cisco': 0.6, 'TP-Link': 0.6, 'Dell': 0.6, 'Ottogi': 0.6, 'Brother': 0.6, 'Dược Liệu Tuệ Tâm': 0.6, 'Royal Canin': 0.6, 'Xprinter...</td>\n",
       "      <td>{'Kẹo Hồng Sâm Không Đường 365 (500g)': 0.0, 'Sạc dành cho Laptop Asus Vivobook X201E, X202E Adapter 19.5V-2.37A': 0.0, 'Router DrayTek Vigor2927 - Hàng chính hãng': 0.0, 'Ngũ Cốc Yến Mạch Nguyên ...</td>\n",
       "    </tr>\n",
       "  </tbody>\n",
       "</table>\n",
       "</div>"
      ],
      "text/plain": [
       "                                                                                                                                                                                                                      brand  \\\n",
       "missing_percentage                                                                                                                                                                                                      0.0   \n",
       "num_values                                                                                                                                                                                                             1979   \n",
       "value_percentages   {'OEM': 32.2, 'Tân Lộc Phát': 0.7, 'Mộc Sắc': 0.7, 'Samsung': 0.7, 'Cisco': 0.6, 'TP-Link': 0.6, 'Dell': 0.6, 'Ottogi': 0.6, 'Brother': 0.6, 'Dược Liệu Tuệ Tâm': 0.6, 'Royal Canin': 0.6, 'Xprinter...   \n",
       "\n",
       "                                                                                                                                                                                                                       name  \n",
       "missing_percentage                                                                                                                                                                                                      0.0  \n",
       "num_values                                                                                                                                                                                                            13949  \n",
       "value_percentages   {'Kẹo Hồng Sâm Không Đường 365 (500g)': 0.0, 'Sạc dành cho Laptop Asus Vivobook X201E, X202E Adapter 19.5V-2.37A': 0.0, 'Router DrayTek Vigor2927 - Hàng chính hãng': 0.0, 'Ngũ Cốc Yến Mạch Nguyên ...  "
      ]
     },
     "execution_count": 132,
     "metadata": {},
     "output_type": "execute_result"
    }
   ],
   "source": [
    "pd.set_option('display.max_colwidth', 200)\n",
    "object_cols = list(set(train_X.columns) - set(num_cols))\n",
    "df = train_X[object_cols]\n",
    "def num_values(df):\n",
    "    return df.nunique()\n",
    "def value_percentages(c):\n",
    "    return dict((c.value_counts(normalize=True) * 100).round(1))\n",
    "df.agg([missing_percentage, num_values, value_percentages])"
   ]
  },
  {
   "cell_type": "markdown",
   "id": "78fbdceb",
   "metadata": {},
   "source": [
    "## Tiền xử lý tập train "
   ]
  },
  {
   "cell_type": "code",
   "execution_count": 133,
   "id": "eda2e71c",
   "metadata": {},
   "outputs": [],
   "source": [
    "class ColDropper(BaseEstimator, TransformerMixin):\n",
    "    def __init__(self):\n",
    "        super().__init__()\n",
    "\n",
    "    def fit(self, X, y=None):\n",
    "        return self\n",
    "\n",
    "    def transform(self, X, y=None):\n",
    "        return X.drop(['name'], axis=1)"
   ]
  },
  {
   "cell_type": "code",
   "execution_count": 134,
   "id": "635a200c",
   "metadata": {},
   "outputs": [
    {
     "data": {
      "text/html": [
       "<div>\n",
       "<style scoped>\n",
       "    .dataframe tbody tr th:only-of-type {\n",
       "        vertical-align: middle;\n",
       "    }\n",
       "\n",
       "    .dataframe tbody tr th {\n",
       "        vertical-align: top;\n",
       "    }\n",
       "\n",
       "    .dataframe thead th {\n",
       "        text-align: right;\n",
       "    }\n",
       "</style>\n",
       "<table border=\"1\" class=\"dataframe\">\n",
       "  <thead>\n",
       "    <tr style=\"text-align: right;\">\n",
       "      <th></th>\n",
       "      <th>brand</th>\n",
       "      <th>discount_price</th>\n",
       "      <th>price</th>\n",
       "      <th>num_reviews</th>\n",
       "      <th>quantity_sold</th>\n",
       "    </tr>\n",
       "    <tr>\n",
       "      <th>id</th>\n",
       "      <th></th>\n",
       "      <th></th>\n",
       "      <th></th>\n",
       "      <th></th>\n",
       "      <th></th>\n",
       "    </tr>\n",
       "  </thead>\n",
       "  <tbody>\n",
       "    <tr>\n",
       "      <th>36490442.0</th>\n",
       "      <td>Cisco</td>\n",
       "      <td>10750000.0</td>\n",
       "      <td>12500000.0</td>\n",
       "      <td>0</td>\n",
       "      <td>0</td>\n",
       "    </tr>\n",
       "    <tr>\n",
       "      <th>48579507.0</th>\n",
       "      <td>TETE FOOD</td>\n",
       "      <td>69000.0</td>\n",
       "      <td>80000.0</td>\n",
       "      <td>180</td>\n",
       "      <td>1672</td>\n",
       "    </tr>\n",
       "    <tr>\n",
       "      <th>5866217.0</th>\n",
       "      <td>Hando</td>\n",
       "      <td>33000.0</td>\n",
       "      <td>45000.0</td>\n",
       "      <td>0</td>\n",
       "      <td>97</td>\n",
       "    </tr>\n",
       "    <tr>\n",
       "      <th>16217273.0</th>\n",
       "      <td>OEM</td>\n",
       "      <td>59000.0</td>\n",
       "      <td>280000.0</td>\n",
       "      <td>8</td>\n",
       "      <td>24</td>\n",
       "    </tr>\n",
       "    <tr>\n",
       "      <th>46581257.0</th>\n",
       "      <td>OEM</td>\n",
       "      <td>21400.0</td>\n",
       "      <td>99000.0</td>\n",
       "      <td>8</td>\n",
       "      <td>103</td>\n",
       "    </tr>\n",
       "    <tr>\n",
       "      <th>...</th>\n",
       "      <td>...</td>\n",
       "      <td>...</td>\n",
       "      <td>...</td>\n",
       "      <td>...</td>\n",
       "      <td>...</td>\n",
       "    </tr>\n",
       "    <tr>\n",
       "      <th>104241000.0</th>\n",
       "      <td>OEM</td>\n",
       "      <td>19999.0</td>\n",
       "      <td>50000.0</td>\n",
       "      <td>0</td>\n",
       "      <td>4</td>\n",
       "    </tr>\n",
       "    <tr>\n",
       "      <th>36667085.0</th>\n",
       "      <td>VITABEAN</td>\n",
       "      <td>95000.0</td>\n",
       "      <td>129000.0</td>\n",
       "      <td>18</td>\n",
       "      <td>138</td>\n",
       "    </tr>\n",
       "    <tr>\n",
       "      <th>28624284.0</th>\n",
       "      <td>Kindle</td>\n",
       "      <td>3749000.0</td>\n",
       "      <td>4890000.0</td>\n",
       "      <td>3</td>\n",
       "      <td>33</td>\n",
       "    </tr>\n",
       "    <tr>\n",
       "      <th>2473863.0</th>\n",
       "      <td>Dh Foods</td>\n",
       "      <td>10500.0</td>\n",
       "      <td>11300.0</td>\n",
       "      <td>33</td>\n",
       "      <td>622</td>\n",
       "    </tr>\n",
       "    <tr>\n",
       "      <th>11486980.0</th>\n",
       "      <td>TOTOLINK</td>\n",
       "      <td>255000.0</td>\n",
       "      <td>279000.0</td>\n",
       "      <td>1</td>\n",
       "      <td>2</td>\n",
       "    </tr>\n",
       "  </tbody>\n",
       "</table>\n",
       "<p>13995 rows × 5 columns</p>\n",
       "</div>"
      ],
      "text/plain": [
       "                 brand  discount_price       price  num_reviews  quantity_sold\n",
       "id                                                                            \n",
       "36490442.0       Cisco      10750000.0  12500000.0            0              0\n",
       "48579507.0   TETE FOOD         69000.0     80000.0          180           1672\n",
       "5866217.0        Hando         33000.0     45000.0            0             97\n",
       "16217273.0         OEM         59000.0    280000.0            8             24\n",
       "46581257.0         OEM         21400.0     99000.0            8            103\n",
       "...                ...             ...         ...          ...            ...\n",
       "104241000.0        OEM         19999.0     50000.0            0              4\n",
       "36667085.0    VITABEAN         95000.0    129000.0           18            138\n",
       "28624284.0      Kindle       3749000.0   4890000.0            3             33\n",
       "2473863.0     Dh Foods         10500.0     11300.0           33            622\n",
       "11486980.0    TOTOLINK        255000.0    279000.0            1              2\n",
       "\n",
       "[13995 rows x 5 columns]"
      ]
     },
     "execution_count": 134,
     "metadata": {},
     "output_type": "execute_result"
    }
   ],
   "source": [
    "colDropper = ColDropper()\n",
    "colDropper.fit_transform(train_X)"
   ]
  },
  {
   "cell_type": "code",
   "execution_count": 135,
   "id": "60c2bf03",
   "metadata": {},
   "outputs": [
    {
     "data": {
      "text/html": [
       "<style>#sk-ceaf0596-5bad-44f4-b985-8a9438835625 {color: black;background-color: white;}#sk-ceaf0596-5bad-44f4-b985-8a9438835625 pre{padding: 0;}#sk-ceaf0596-5bad-44f4-b985-8a9438835625 div.sk-toggleable {background-color: white;}#sk-ceaf0596-5bad-44f4-b985-8a9438835625 label.sk-toggleable__label {cursor: pointer;display: block;width: 100%;margin-bottom: 0;padding: 0.2em 0.3em;box-sizing: border-box;text-align: center;}#sk-ceaf0596-5bad-44f4-b985-8a9438835625 div.sk-toggleable__content {max-height: 0;max-width: 0;overflow: hidden;text-align: left;background-color: #f0f8ff;}#sk-ceaf0596-5bad-44f4-b985-8a9438835625 div.sk-toggleable__content pre {margin: 0.2em;color: black;border-radius: 0.25em;background-color: #f0f8ff;}#sk-ceaf0596-5bad-44f4-b985-8a9438835625 input.sk-toggleable__control:checked~div.sk-toggleable__content {max-height: 200px;max-width: 100%;overflow: auto;}#sk-ceaf0596-5bad-44f4-b985-8a9438835625 div.sk-estimator input.sk-toggleable__control:checked~label.sk-toggleable__label {background-color: #d4ebff;}#sk-ceaf0596-5bad-44f4-b985-8a9438835625 div.sk-label input.sk-toggleable__control:checked~label.sk-toggleable__label {background-color: #d4ebff;}#sk-ceaf0596-5bad-44f4-b985-8a9438835625 input.sk-hidden--visually {border: 0;clip: rect(1px 1px 1px 1px);clip: rect(1px, 1px, 1px, 1px);height: 1px;margin: -1px;overflow: hidden;padding: 0;position: absolute;width: 1px;}#sk-ceaf0596-5bad-44f4-b985-8a9438835625 div.sk-estimator {font-family: monospace;background-color: #f0f8ff;margin: 0.25em 0.25em;border: 1px dotted black;border-radius: 0.25em;box-sizing: border-box;}#sk-ceaf0596-5bad-44f4-b985-8a9438835625 div.sk-estimator:hover {background-color: #d4ebff;}#sk-ceaf0596-5bad-44f4-b985-8a9438835625 div.sk-parallel-item::after {content: \"\";width: 100%;border-bottom: 1px solid gray;flex-grow: 1;}#sk-ceaf0596-5bad-44f4-b985-8a9438835625 div.sk-label:hover label.sk-toggleable__label {background-color: #d4ebff;}#sk-ceaf0596-5bad-44f4-b985-8a9438835625 div.sk-serial::before {content: \"\";position: absolute;border-left: 1px solid gray;box-sizing: border-box;top: 2em;bottom: 0;left: 50%;}#sk-ceaf0596-5bad-44f4-b985-8a9438835625 div.sk-serial {display: flex;flex-direction: column;align-items: center;background-color: white;}#sk-ceaf0596-5bad-44f4-b985-8a9438835625 div.sk-item {z-index: 1;}#sk-ceaf0596-5bad-44f4-b985-8a9438835625 div.sk-parallel {display: flex;align-items: stretch;justify-content: center;background-color: white;}#sk-ceaf0596-5bad-44f4-b985-8a9438835625 div.sk-parallel-item {display: flex;flex-direction: column;position: relative;background-color: white;}#sk-ceaf0596-5bad-44f4-b985-8a9438835625 div.sk-parallel-item:first-child::after {align-self: flex-end;width: 50%;}#sk-ceaf0596-5bad-44f4-b985-8a9438835625 div.sk-parallel-item:last-child::after {align-self: flex-start;width: 50%;}#sk-ceaf0596-5bad-44f4-b985-8a9438835625 div.sk-parallel-item:only-child::after {width: 0;}#sk-ceaf0596-5bad-44f4-b985-8a9438835625 div.sk-dashed-wrapped {border: 1px dashed gray;margin: 0.2em;box-sizing: border-box;padding-bottom: 0.1em;background-color: white;position: relative;}#sk-ceaf0596-5bad-44f4-b985-8a9438835625 div.sk-label label {font-family: monospace;font-weight: bold;background-color: white;display: inline-block;line-height: 1.2em;}#sk-ceaf0596-5bad-44f4-b985-8a9438835625 div.sk-label-container {position: relative;z-index: 2;text-align: center;}#sk-ceaf0596-5bad-44f4-b985-8a9438835625 div.sk-container {display: inline-block;position: relative;}</style><div id=\"sk-ceaf0596-5bad-44f4-b985-8a9438835625\" class\"sk-top-container\"><div class=\"sk-container\"><div class=\"sk-item sk-dashed-wrapped\"><div class=\"sk-label-container\"><div class=\"sk-label sk-toggleable\"><input class=\"sk-toggleable__control sk-hidden--visually\" id=\"ff091bad-7704-457a-9da3-30ba14693dc0\" type=\"checkbox\" ><label class=\"sk-toggleable__label\" for=\"ff091bad-7704-457a-9da3-30ba14693dc0\">Pipeline</label><div class=\"sk-toggleable__content\"><pre>Pipeline(steps=[('coldropper', ColDropper()),\n",
       "                ('columntransformer',\n",
       "                 ColumnTransformer(transformers=[('onehotencoder',\n",
       "                                                  OneHotEncoder(handle_unknown='ignore'),\n",
       "                                                  ['brand'])])),\n",
       "                ('standardscaler', StandardScaler(with_mean=False))])</pre></div></div></div><div class=\"sk-serial\"><div class=\"sk-item\"><div class=\"sk-estimator sk-toggleable\"><input class=\"sk-toggleable__control sk-hidden--visually\" id=\"69ae9b39-4de2-4d73-aba0-1a35cd97ea5c\" type=\"checkbox\" ><label class=\"sk-toggleable__label\" for=\"69ae9b39-4de2-4d73-aba0-1a35cd97ea5c\">ColDropper</label><div class=\"sk-toggleable__content\"><pre>ColDropper()</pre></div></div></div><div class=\"sk-item sk-dashed-wrapped\"><div class=\"sk-label-container\"><div class=\"sk-label sk-toggleable\"><input class=\"sk-toggleable__control sk-hidden--visually\" id=\"a6fc19c7-392c-4a34-9deb-df79d1f0a9fe\" type=\"checkbox\" ><label class=\"sk-toggleable__label\" for=\"a6fc19c7-392c-4a34-9deb-df79d1f0a9fe\">columntransformer: ColumnTransformer</label><div class=\"sk-toggleable__content\"><pre>ColumnTransformer(transformers=[('onehotencoder',\n",
       "                                 OneHotEncoder(handle_unknown='ignore'),\n",
       "                                 ['brand'])])</pre></div></div></div><div class=\"sk-parallel\"><div class=\"sk-parallel-item\"><div class=\"sk-item\"><div class=\"sk-label-container\"><div class=\"sk-label sk-toggleable\"><input class=\"sk-toggleable__control sk-hidden--visually\" id=\"1f635f7e-cd49-4340-a2b7-c3a6f9366788\" type=\"checkbox\" ><label class=\"sk-toggleable__label\" for=\"1f635f7e-cd49-4340-a2b7-c3a6f9366788\">onehotencoder</label><div class=\"sk-toggleable__content\"><pre>['brand']</pre></div></div></div><div class=\"sk-serial\"><div class=\"sk-item\"><div class=\"sk-estimator sk-toggleable\"><input class=\"sk-toggleable__control sk-hidden--visually\" id=\"c1a6fade-272f-46f5-ba42-4224356c2a24\" type=\"checkbox\" ><label class=\"sk-toggleable__label\" for=\"c1a6fade-272f-46f5-ba42-4224356c2a24\">OneHotEncoder</label><div class=\"sk-toggleable__content\"><pre>OneHotEncoder(handle_unknown='ignore')</pre></div></div></div></div></div></div></div></div><div class=\"sk-item\"><div class=\"sk-estimator sk-toggleable\"><input class=\"sk-toggleable__control sk-hidden--visually\" id=\"8b169438-4f76-4c5d-b514-f756bd80f433\" type=\"checkbox\" ><label class=\"sk-toggleable__label\" for=\"8b169438-4f76-4c5d-b514-f756bd80f433\">StandardScaler</label><div class=\"sk-toggleable__content\"><pre>StandardScaler(with_mean=False)</pre></div></div></div></div></div></div></div>"
      ],
      "text/plain": [
       "Pipeline(steps=[('coldropper', ColDropper()),\n",
       "                ('columntransformer',\n",
       "                 ColumnTransformer(transformers=[('onehotencoder',\n",
       "                                                  OneHotEncoder(handle_unknown='ignore'),\n",
       "                                                  ['brand'])])),\n",
       "                ('standardscaler', StandardScaler(with_mean=False))])"
      ]
     },
     "execution_count": 135,
     "metadata": {},
     "output_type": "execute_result"
    }
   ],
   "source": [
    "preprocess_pipeline = make_pipeline(ColDropper(),\n",
    "                                   make_column_transformer((OneHotEncoder(handle_unknown=\"ignore\"),['brand'])),\n",
    "                                   StandardScaler(with_mean=False))\n",
    "preprocess_pipeline"
   ]
  },
  {
   "cell_type": "code",
   "execution_count": 136,
   "id": "5fb20707",
   "metadata": {},
   "outputs": [],
   "source": [
    "preprocessed_train_X = preprocess_pipeline.fit_transform(train_X)"
   ]
  },
  {
   "cell_type": "code",
   "execution_count": 137,
   "id": "fc33a167",
   "metadata": {},
   "outputs": [],
   "source": [
    "preprocessed_val_X = preprocess_pipeline.transform(val_X)"
   ]
  },
  {
   "cell_type": "markdown",
   "id": "0ac24866",
   "metadata": {},
   "source": [
    "## Mô hình hoá"
   ]
  },
  {
   "cell_type": "code",
   "execution_count": 138,
   "id": "16eb7a40",
   "metadata": {},
   "outputs": [
    {
     "data": {
      "text/html": [
       "<style>#sk-7de4f28c-f77d-417e-a8a1-979f9e8ea454 {color: black;background-color: white;}#sk-7de4f28c-f77d-417e-a8a1-979f9e8ea454 pre{padding: 0;}#sk-7de4f28c-f77d-417e-a8a1-979f9e8ea454 div.sk-toggleable {background-color: white;}#sk-7de4f28c-f77d-417e-a8a1-979f9e8ea454 label.sk-toggleable__label {cursor: pointer;display: block;width: 100%;margin-bottom: 0;padding: 0.2em 0.3em;box-sizing: border-box;text-align: center;}#sk-7de4f28c-f77d-417e-a8a1-979f9e8ea454 div.sk-toggleable__content {max-height: 0;max-width: 0;overflow: hidden;text-align: left;background-color: #f0f8ff;}#sk-7de4f28c-f77d-417e-a8a1-979f9e8ea454 div.sk-toggleable__content pre {margin: 0.2em;color: black;border-radius: 0.25em;background-color: #f0f8ff;}#sk-7de4f28c-f77d-417e-a8a1-979f9e8ea454 input.sk-toggleable__control:checked~div.sk-toggleable__content {max-height: 200px;max-width: 100%;overflow: auto;}#sk-7de4f28c-f77d-417e-a8a1-979f9e8ea454 div.sk-estimator input.sk-toggleable__control:checked~label.sk-toggleable__label {background-color: #d4ebff;}#sk-7de4f28c-f77d-417e-a8a1-979f9e8ea454 div.sk-label input.sk-toggleable__control:checked~label.sk-toggleable__label {background-color: #d4ebff;}#sk-7de4f28c-f77d-417e-a8a1-979f9e8ea454 input.sk-hidden--visually {border: 0;clip: rect(1px 1px 1px 1px);clip: rect(1px, 1px, 1px, 1px);height: 1px;margin: -1px;overflow: hidden;padding: 0;position: absolute;width: 1px;}#sk-7de4f28c-f77d-417e-a8a1-979f9e8ea454 div.sk-estimator {font-family: monospace;background-color: #f0f8ff;margin: 0.25em 0.25em;border: 1px dotted black;border-radius: 0.25em;box-sizing: border-box;}#sk-7de4f28c-f77d-417e-a8a1-979f9e8ea454 div.sk-estimator:hover {background-color: #d4ebff;}#sk-7de4f28c-f77d-417e-a8a1-979f9e8ea454 div.sk-parallel-item::after {content: \"\";width: 100%;border-bottom: 1px solid gray;flex-grow: 1;}#sk-7de4f28c-f77d-417e-a8a1-979f9e8ea454 div.sk-label:hover label.sk-toggleable__label {background-color: #d4ebff;}#sk-7de4f28c-f77d-417e-a8a1-979f9e8ea454 div.sk-serial::before {content: \"\";position: absolute;border-left: 1px solid gray;box-sizing: border-box;top: 2em;bottom: 0;left: 50%;}#sk-7de4f28c-f77d-417e-a8a1-979f9e8ea454 div.sk-serial {display: flex;flex-direction: column;align-items: center;background-color: white;}#sk-7de4f28c-f77d-417e-a8a1-979f9e8ea454 div.sk-item {z-index: 1;}#sk-7de4f28c-f77d-417e-a8a1-979f9e8ea454 div.sk-parallel {display: flex;align-items: stretch;justify-content: center;background-color: white;}#sk-7de4f28c-f77d-417e-a8a1-979f9e8ea454 div.sk-parallel-item {display: flex;flex-direction: column;position: relative;background-color: white;}#sk-7de4f28c-f77d-417e-a8a1-979f9e8ea454 div.sk-parallel-item:first-child::after {align-self: flex-end;width: 50%;}#sk-7de4f28c-f77d-417e-a8a1-979f9e8ea454 div.sk-parallel-item:last-child::after {align-self: flex-start;width: 50%;}#sk-7de4f28c-f77d-417e-a8a1-979f9e8ea454 div.sk-parallel-item:only-child::after {width: 0;}#sk-7de4f28c-f77d-417e-a8a1-979f9e8ea454 div.sk-dashed-wrapped {border: 1px dashed gray;margin: 0.2em;box-sizing: border-box;padding-bottom: 0.1em;background-color: white;position: relative;}#sk-7de4f28c-f77d-417e-a8a1-979f9e8ea454 div.sk-label label {font-family: monospace;font-weight: bold;background-color: white;display: inline-block;line-height: 1.2em;}#sk-7de4f28c-f77d-417e-a8a1-979f9e8ea454 div.sk-label-container {position: relative;z-index: 2;text-align: center;}#sk-7de4f28c-f77d-417e-a8a1-979f9e8ea454 div.sk-container {display: inline-block;position: relative;}</style><div id=\"sk-7de4f28c-f77d-417e-a8a1-979f9e8ea454\" class\"sk-top-container\"><div class=\"sk-container\"><div class=\"sk-item sk-dashed-wrapped\"><div class=\"sk-label-container\"><div class=\"sk-label sk-toggleable\"><input class=\"sk-toggleable__control sk-hidden--visually\" id=\"87e63a5c-da03-4285-a693-ae4936d3d41d\" type=\"checkbox\" ><label class=\"sk-toggleable__label\" for=\"87e63a5c-da03-4285-a693-ae4936d3d41d\">Pipeline</label><div class=\"sk-toggleable__content\"><pre>Pipeline(steps=[('coldropper', ColDropper()),\n",
       "                ('columntransformer',\n",
       "                 ColumnTransformer(transformers=[('onehotencoder',\n",
       "                                                  OneHotEncoder(handle_unknown='ignore'),\n",
       "                                                  ['brand'])])),\n",
       "                ('standardscaler', StandardScaler(with_mean=False)),\n",
       "                ('mlpregressor',\n",
       "                 MLPRegressor(activation='logistic', hidden_layer_sizes=(200,),\n",
       "                              max_iter=2500, random_state=1, solver='lbfgs'))])</pre></div></div></div><div class=\"sk-serial\"><div class=\"sk-item\"><div class=\"sk-estimator sk-toggleable\"><input class=\"sk-toggleable__control sk-hidden--visually\" id=\"a52d0cfa-c505-4a00-aa10-4e6d73f6c823\" type=\"checkbox\" ><label class=\"sk-toggleable__label\" for=\"a52d0cfa-c505-4a00-aa10-4e6d73f6c823\">ColDropper</label><div class=\"sk-toggleable__content\"><pre>ColDropper()</pre></div></div></div><div class=\"sk-item sk-dashed-wrapped\"><div class=\"sk-label-container\"><div class=\"sk-label sk-toggleable\"><input class=\"sk-toggleable__control sk-hidden--visually\" id=\"fa212352-c5c7-4e34-90ec-d0af65eb66c9\" type=\"checkbox\" ><label class=\"sk-toggleable__label\" for=\"fa212352-c5c7-4e34-90ec-d0af65eb66c9\">columntransformer: ColumnTransformer</label><div class=\"sk-toggleable__content\"><pre>ColumnTransformer(transformers=[('onehotencoder',\n",
       "                                 OneHotEncoder(handle_unknown='ignore'),\n",
       "                                 ['brand'])])</pre></div></div></div><div class=\"sk-parallel\"><div class=\"sk-parallel-item\"><div class=\"sk-item\"><div class=\"sk-label-container\"><div class=\"sk-label sk-toggleable\"><input class=\"sk-toggleable__control sk-hidden--visually\" id=\"33aaf916-287c-4571-92c6-285bec37fbe9\" type=\"checkbox\" ><label class=\"sk-toggleable__label\" for=\"33aaf916-287c-4571-92c6-285bec37fbe9\">onehotencoder</label><div class=\"sk-toggleable__content\"><pre>['brand']</pre></div></div></div><div class=\"sk-serial\"><div class=\"sk-item\"><div class=\"sk-estimator sk-toggleable\"><input class=\"sk-toggleable__control sk-hidden--visually\" id=\"56038e40-0daf-4e3c-93f8-c3bf40f813c7\" type=\"checkbox\" ><label class=\"sk-toggleable__label\" for=\"56038e40-0daf-4e3c-93f8-c3bf40f813c7\">OneHotEncoder</label><div class=\"sk-toggleable__content\"><pre>OneHotEncoder(handle_unknown='ignore')</pre></div></div></div></div></div></div></div></div><div class=\"sk-item\"><div class=\"sk-estimator sk-toggleable\"><input class=\"sk-toggleable__control sk-hidden--visually\" id=\"13096524-4818-483a-9765-25b474f9a8c3\" type=\"checkbox\" ><label class=\"sk-toggleable__label\" for=\"13096524-4818-483a-9765-25b474f9a8c3\">StandardScaler</label><div class=\"sk-toggleable__content\"><pre>StandardScaler(with_mean=False)</pre></div></div></div><div class=\"sk-item\"><div class=\"sk-estimator sk-toggleable\"><input class=\"sk-toggleable__control sk-hidden--visually\" id=\"a68a7fff-5576-4d27-94d8-c5a4a8dfee1f\" type=\"checkbox\" ><label class=\"sk-toggleable__label\" for=\"a68a7fff-5576-4d27-94d8-c5a4a8dfee1f\">MLPRegressor</label><div class=\"sk-toggleable__content\"><pre>MLPRegressor(activation='logistic', hidden_layer_sizes=(200,), max_iter=2500,\n",
       "             random_state=1, solver='lbfgs')</pre></div></div></div></div></div></div></div>"
      ],
      "text/plain": [
       "Pipeline(steps=[('coldropper', ColDropper()),\n",
       "                ('columntransformer',\n",
       "                 ColumnTransformer(transformers=[('onehotencoder',\n",
       "                                                  OneHotEncoder(handle_unknown='ignore'),\n",
       "                                                  ['brand'])])),\n",
       "                ('standardscaler', StandardScaler(with_mean=False)),\n",
       "                ('mlpregressor',\n",
       "                 MLPRegressor(activation='logistic', hidden_layer_sizes=(200,),\n",
       "                              max_iter=2500, random_state=1, solver='lbfgs'))])"
      ]
     },
     "execution_count": 138,
     "metadata": {},
     "output_type": "execute_result"
    }
   ],
   "source": [
    "full_pipeline = make_pipeline(ColDropper(),\n",
    "                              make_column_transformer((OneHotEncoder(handle_unknown=\"ignore\"),['brand'])),\n",
    "                              StandardScaler(with_mean=False), \n",
    "                              MLPRegressor(\n",
    "                                           random_state=1,\n",
    "                                         activation='logistic',\n",
    "                                         solver='lbfgs',\n",
    "                                         hidden_layer_sizes=(200,),\n",
    "                                         max_iter=2500))\n",
    "full_pipeline"
   ]
  },
  {
   "cell_type": "code",
   "execution_count": 139,
   "id": "94a86b9b",
   "metadata": {},
   "outputs": [],
   "source": [
    "from sklearn.metrics import mean_absolute_error as MAE\n",
    "from sklearn.metrics import mean_absolute_percentage_error as MAPE\n",
    "from sklearn.metrics import r2_score as R2"
   ]
  },
  {
   "cell_type": "code",
   "execution_count": 140,
   "id": "1b565f55",
   "metadata": {},
   "outputs": [],
   "source": [
    "def scoreModel(y_true, y_pre):\n",
    "    MAE_score = MAE(y_true, y_pre)\n",
    "    r2_score = R2(y_true, y_pre)\n",
    "    print('MAE: ', MAE_score)  \n",
    "    print('R2 score: ', r2_score)\n",
    "    return MAE_score, r2_score"
   ]
  },
  {
   "cell_type": "code",
   "execution_count": 141,
   "id": "e8cf3202",
   "metadata": {},
   "outputs": [
    {
     "name": "stdout",
     "output_type": "stream",
     "text": [
      "alpha = 0.1\n",
      "train:\n",
      "MAE:  1.3739946069036257\n",
      "val:\n",
      "MAE:  1.5903963400890724\n",
      "alpha = 1\n",
      "train:\n",
      "MAE:  1.3749350315951732\n",
      "val:\n",
      "MAE:  1.5905683210798316\n",
      "alpha = 10\n",
      "train:\n",
      "MAE:  1.374886159770279\n",
      "val:\n",
      "MAE:  1.5925920880451496\n",
      "alpha = 100\n",
      "train:\n",
      "MAE:  1.3863329620219236\n",
      "val:\n",
      "MAE:  1.5993026207612262\n",
      "alpha = 1000\n",
      "train:\n",
      "MAE:  1.5203050676486627\n",
      "val:\n",
      "MAE:  1.6875390183538177\n"
     ]
    }
   ],
   "source": [
    "val_errs = []\n",
    "alphas = [0.1, 1, 10, 100, 1000]\n",
    "\n",
    "best_err = float('inf')\n",
    "best_alpha = None\n",
    "\n",
    "for alpha in alphas:    \n",
    "    pipe = full_pipeline.set_params(mlpregressor__alpha=alpha)\n",
    "    pipe.fit(train_X, train_y)\n",
    "        \n",
    "    train_pred = pipe.predict(train_X)  \n",
    "    test_pred = pipe.predict(val_X)\n",
    "        \n",
    "    train_score = MAE(train_y, train_pred)\n",
    "    print(f'alpha = {alpha}')\n",
    "    print('train:')\n",
    "    print('MAE: ', train_score)\n",
    "    \n",
    "    val_score = MAE(val_y, test_pred)\n",
    "    print('val:')\n",
    "    print('MAE: ', val_score)\n",
    "    val_errs.append(val_score) \n",
    "    \n",
    "    if val_score == min(val_errs):\n",
    "        best_err = val_score\n",
    "        best_alpha = alpha      \n",
    "\n",
    "        'Finish!'"
   ]
  },
  {
   "cell_type": "code",
   "execution_count": 142,
   "id": "7f3dc09c",
   "metadata": {},
   "outputs": [
    {
     "name": "stdout",
     "output_type": "stream",
     "text": [
      "Best alpha: 0.1, best val error: 1.5903963400890724\n"
     ]
    }
   ],
   "source": [
    "print(f'Best alpha: {best_alpha}, best val error: {best_err}') "
   ]
  },
  {
   "cell_type": "code",
   "execution_count": 143,
   "id": "6b53163c",
   "metadata": {},
   "outputs": [
    {
     "data": {
      "text/html": [
       "<style>#sk-c5588abc-7ce1-4598-92e1-925e6f3b6321 {color: black;background-color: white;}#sk-c5588abc-7ce1-4598-92e1-925e6f3b6321 pre{padding: 0;}#sk-c5588abc-7ce1-4598-92e1-925e6f3b6321 div.sk-toggleable {background-color: white;}#sk-c5588abc-7ce1-4598-92e1-925e6f3b6321 label.sk-toggleable__label {cursor: pointer;display: block;width: 100%;margin-bottom: 0;padding: 0.2em 0.3em;box-sizing: border-box;text-align: center;}#sk-c5588abc-7ce1-4598-92e1-925e6f3b6321 div.sk-toggleable__content {max-height: 0;max-width: 0;overflow: hidden;text-align: left;background-color: #f0f8ff;}#sk-c5588abc-7ce1-4598-92e1-925e6f3b6321 div.sk-toggleable__content pre {margin: 0.2em;color: black;border-radius: 0.25em;background-color: #f0f8ff;}#sk-c5588abc-7ce1-4598-92e1-925e6f3b6321 input.sk-toggleable__control:checked~div.sk-toggleable__content {max-height: 200px;max-width: 100%;overflow: auto;}#sk-c5588abc-7ce1-4598-92e1-925e6f3b6321 div.sk-estimator input.sk-toggleable__control:checked~label.sk-toggleable__label {background-color: #d4ebff;}#sk-c5588abc-7ce1-4598-92e1-925e6f3b6321 div.sk-label input.sk-toggleable__control:checked~label.sk-toggleable__label {background-color: #d4ebff;}#sk-c5588abc-7ce1-4598-92e1-925e6f3b6321 input.sk-hidden--visually {border: 0;clip: rect(1px 1px 1px 1px);clip: rect(1px, 1px, 1px, 1px);height: 1px;margin: -1px;overflow: hidden;padding: 0;position: absolute;width: 1px;}#sk-c5588abc-7ce1-4598-92e1-925e6f3b6321 div.sk-estimator {font-family: monospace;background-color: #f0f8ff;margin: 0.25em 0.25em;border: 1px dotted black;border-radius: 0.25em;box-sizing: border-box;}#sk-c5588abc-7ce1-4598-92e1-925e6f3b6321 div.sk-estimator:hover {background-color: #d4ebff;}#sk-c5588abc-7ce1-4598-92e1-925e6f3b6321 div.sk-parallel-item::after {content: \"\";width: 100%;border-bottom: 1px solid gray;flex-grow: 1;}#sk-c5588abc-7ce1-4598-92e1-925e6f3b6321 div.sk-label:hover label.sk-toggleable__label {background-color: #d4ebff;}#sk-c5588abc-7ce1-4598-92e1-925e6f3b6321 div.sk-serial::before {content: \"\";position: absolute;border-left: 1px solid gray;box-sizing: border-box;top: 2em;bottom: 0;left: 50%;}#sk-c5588abc-7ce1-4598-92e1-925e6f3b6321 div.sk-serial {display: flex;flex-direction: column;align-items: center;background-color: white;}#sk-c5588abc-7ce1-4598-92e1-925e6f3b6321 div.sk-item {z-index: 1;}#sk-c5588abc-7ce1-4598-92e1-925e6f3b6321 div.sk-parallel {display: flex;align-items: stretch;justify-content: center;background-color: white;}#sk-c5588abc-7ce1-4598-92e1-925e6f3b6321 div.sk-parallel-item {display: flex;flex-direction: column;position: relative;background-color: white;}#sk-c5588abc-7ce1-4598-92e1-925e6f3b6321 div.sk-parallel-item:first-child::after {align-self: flex-end;width: 50%;}#sk-c5588abc-7ce1-4598-92e1-925e6f3b6321 div.sk-parallel-item:last-child::after {align-self: flex-start;width: 50%;}#sk-c5588abc-7ce1-4598-92e1-925e6f3b6321 div.sk-parallel-item:only-child::after {width: 0;}#sk-c5588abc-7ce1-4598-92e1-925e6f3b6321 div.sk-dashed-wrapped {border: 1px dashed gray;margin: 0.2em;box-sizing: border-box;padding-bottom: 0.1em;background-color: white;position: relative;}#sk-c5588abc-7ce1-4598-92e1-925e6f3b6321 div.sk-label label {font-family: monospace;font-weight: bold;background-color: white;display: inline-block;line-height: 1.2em;}#sk-c5588abc-7ce1-4598-92e1-925e6f3b6321 div.sk-label-container {position: relative;z-index: 2;text-align: center;}#sk-c5588abc-7ce1-4598-92e1-925e6f3b6321 div.sk-container {display: inline-block;position: relative;}</style><div id=\"sk-c5588abc-7ce1-4598-92e1-925e6f3b6321\" class\"sk-top-container\"><div class=\"sk-container\"><div class=\"sk-item sk-dashed-wrapped\"><div class=\"sk-label-container\"><div class=\"sk-label sk-toggleable\"><input class=\"sk-toggleable__control sk-hidden--visually\" id=\"7e9e8692-e26c-4d7c-abb0-7d96f6cb2069\" type=\"checkbox\" ><label class=\"sk-toggleable__label\" for=\"7e9e8692-e26c-4d7c-abb0-7d96f6cb2069\">Pipeline</label><div class=\"sk-toggleable__content\"><pre>Pipeline(steps=[('coldropper', ColDropper()),\n",
       "                ('columntransformer',\n",
       "                 ColumnTransformer(transformers=[('onehotencoder',\n",
       "                                                  OneHotEncoder(handle_unknown='ignore'),\n",
       "                                                  ['brand'])])),\n",
       "                ('standardscaler', StandardScaler(with_mean=False)),\n",
       "                ('mlpregressor',\n",
       "                 MLPRegressor(activation='logistic', alpha=0.1,\n",
       "                              hidden_layer_sizes=(200,), max_iter=2500,\n",
       "                              random_state=1, solver='lbfgs'))])</pre></div></div></div><div class=\"sk-serial\"><div class=\"sk-item\"><div class=\"sk-estimator sk-toggleable\"><input class=\"sk-toggleable__control sk-hidden--visually\" id=\"7cef4132-e91d-4bf8-9835-955a3f773334\" type=\"checkbox\" ><label class=\"sk-toggleable__label\" for=\"7cef4132-e91d-4bf8-9835-955a3f773334\">ColDropper</label><div class=\"sk-toggleable__content\"><pre>ColDropper()</pre></div></div></div><div class=\"sk-item sk-dashed-wrapped\"><div class=\"sk-label-container\"><div class=\"sk-label sk-toggleable\"><input class=\"sk-toggleable__control sk-hidden--visually\" id=\"8562ad62-f32d-4959-955f-458c2383e3b9\" type=\"checkbox\" ><label class=\"sk-toggleable__label\" for=\"8562ad62-f32d-4959-955f-458c2383e3b9\">columntransformer: ColumnTransformer</label><div class=\"sk-toggleable__content\"><pre>ColumnTransformer(transformers=[('onehotencoder',\n",
       "                                 OneHotEncoder(handle_unknown='ignore'),\n",
       "                                 ['brand'])])</pre></div></div></div><div class=\"sk-parallel\"><div class=\"sk-parallel-item\"><div class=\"sk-item\"><div class=\"sk-label-container\"><div class=\"sk-label sk-toggleable\"><input class=\"sk-toggleable__control sk-hidden--visually\" id=\"37f2a9a5-7908-4fac-bb1b-feef0263db22\" type=\"checkbox\" ><label class=\"sk-toggleable__label\" for=\"37f2a9a5-7908-4fac-bb1b-feef0263db22\">onehotencoder</label><div class=\"sk-toggleable__content\"><pre>['brand']</pre></div></div></div><div class=\"sk-serial\"><div class=\"sk-item\"><div class=\"sk-estimator sk-toggleable\"><input class=\"sk-toggleable__control sk-hidden--visually\" id=\"ed731882-bed0-4347-acda-0ab14aea54ff\" type=\"checkbox\" ><label class=\"sk-toggleable__label\" for=\"ed731882-bed0-4347-acda-0ab14aea54ff\">OneHotEncoder</label><div class=\"sk-toggleable__content\"><pre>OneHotEncoder(handle_unknown='ignore')</pre></div></div></div></div></div></div></div></div><div class=\"sk-item\"><div class=\"sk-estimator sk-toggleable\"><input class=\"sk-toggleable__control sk-hidden--visually\" id=\"a26d25a9-19f3-4402-a416-5446536dc865\" type=\"checkbox\" ><label class=\"sk-toggleable__label\" for=\"a26d25a9-19f3-4402-a416-5446536dc865\">StandardScaler</label><div class=\"sk-toggleable__content\"><pre>StandardScaler(with_mean=False)</pre></div></div></div><div class=\"sk-item\"><div class=\"sk-estimator sk-toggleable\"><input class=\"sk-toggleable__control sk-hidden--visually\" id=\"df26581a-71ae-49a9-8768-609e1ef1b109\" type=\"checkbox\" ><label class=\"sk-toggleable__label\" for=\"df26581a-71ae-49a9-8768-609e1ef1b109\">MLPRegressor</label><div class=\"sk-toggleable__content\"><pre>MLPRegressor(activation='logistic', alpha=0.1, hidden_layer_sizes=(200,),\n",
       "             max_iter=2500, random_state=1, solver='lbfgs')</pre></div></div></div></div></div></div></div>"
      ],
      "text/plain": [
       "Pipeline(steps=[('coldropper', ColDropper()),\n",
       "                ('columntransformer',\n",
       "                 ColumnTransformer(transformers=[('onehotencoder',\n",
       "                                                  OneHotEncoder(handle_unknown='ignore'),\n",
       "                                                  ['brand'])])),\n",
       "                ('standardscaler', StandardScaler(with_mean=False)),\n",
       "                ('mlpregressor',\n",
       "                 MLPRegressor(activation='logistic', alpha=0.1,\n",
       "                              hidden_layer_sizes=(200,), max_iter=2500,\n",
       "                              random_state=1, solver='lbfgs'))])"
      ]
     },
     "execution_count": 143,
     "metadata": {},
     "output_type": "execute_result"
    }
   ],
   "source": [
    "full_pipeline.set_params(mlpregressor__alpha=best_alpha)\n",
    "full_pipeline.fit(pd.concat([train_X,val_X]), pd.concat([train_y,val_y]))"
   ]
  },
  {
   "cell_type": "code",
   "execution_count": 144,
   "id": "fcddf177",
   "metadata": {},
   "outputs": [
    {
     "data": {
      "text/html": [
       "<div>\n",
       "<style scoped>\n",
       "    .dataframe tbody tr th:only-of-type {\n",
       "        vertical-align: middle;\n",
       "    }\n",
       "\n",
       "    .dataframe tbody tr th {\n",
       "        vertical-align: top;\n",
       "    }\n",
       "\n",
       "    .dataframe thead th {\n",
       "        text-align: right;\n",
       "    }\n",
       "</style>\n",
       "<table border=\"1\" class=\"dataframe\">\n",
       "  <thead>\n",
       "    <tr style=\"text-align: right;\">\n",
       "      <th></th>\n",
       "      <th>predict</th>\n",
       "      <th>rating</th>\n",
       "    </tr>\n",
       "    <tr>\n",
       "      <th>id</th>\n",
       "      <th></th>\n",
       "      <th></th>\n",
       "    </tr>\n",
       "  </thead>\n",
       "  <tbody>\n",
       "    <tr>\n",
       "      <th>1716053.0</th>\n",
       "      <td>4.133885</td>\n",
       "      <td>4.7</td>\n",
       "    </tr>\n",
       "    <tr>\n",
       "      <th>75698282.0</th>\n",
       "      <td>4.636576</td>\n",
       "      <td>5.0</td>\n",
       "    </tr>\n",
       "    <tr>\n",
       "      <th>36776673.0</th>\n",
       "      <td>0.195789</td>\n",
       "      <td>0.0</td>\n",
       "    </tr>\n",
       "    <tr>\n",
       "      <th>37417334.0</th>\n",
       "      <td>4.197742</td>\n",
       "      <td>4.7</td>\n",
       "    </tr>\n",
       "    <tr>\n",
       "      <th>15236471.0</th>\n",
       "      <td>0.012899</td>\n",
       "      <td>0.0</td>\n",
       "    </tr>\n",
       "    <tr>\n",
       "      <th>...</th>\n",
       "      <td>...</td>\n",
       "      <td>...</td>\n",
       "    </tr>\n",
       "    <tr>\n",
       "      <th>81759492.0</th>\n",
       "      <td>2.213567</td>\n",
       "      <td>3.0</td>\n",
       "    </tr>\n",
       "    <tr>\n",
       "      <th>92533540.0</th>\n",
       "      <td>1.639533</td>\n",
       "      <td>0.0</td>\n",
       "    </tr>\n",
       "    <tr>\n",
       "      <th>52134199.0</th>\n",
       "      <td>4.899315</td>\n",
       "      <td>4.7</td>\n",
       "    </tr>\n",
       "    <tr>\n",
       "      <th>11506847.0</th>\n",
       "      <td>4.291325</td>\n",
       "      <td>4.0</td>\n",
       "    </tr>\n",
       "    <tr>\n",
       "      <th>74885706.0</th>\n",
       "      <td>0.302495</td>\n",
       "      <td>0.0</td>\n",
       "    </tr>\n",
       "  </tbody>\n",
       "</table>\n",
       "<p>2999 rows × 2 columns</p>\n",
       "</div>"
      ],
      "text/plain": [
       "             predict  rating\n",
       "id                          \n",
       "1716053.0   4.133885     4.7\n",
       "75698282.0  4.636576     5.0\n",
       "36776673.0  0.195789     0.0\n",
       "37417334.0  4.197742     4.7\n",
       "15236471.0  0.012899     0.0\n",
       "...              ...     ...\n",
       "81759492.0  2.213567     3.0\n",
       "92533540.0  1.639533     0.0\n",
       "52134199.0  4.899315     4.7\n",
       "11506847.0  4.291325     4.0\n",
       "74885706.0  0.302495     0.0\n",
       "\n",
       "[2999 rows x 2 columns]"
      ]
     },
     "execution_count": 144,
     "metadata": {},
     "output_type": "execute_result"
    }
   ],
   "source": [
    "preds_test = full_pipeline.predict(test_X)\n",
    "pd.DataFrame({\n",
    "            'predict': preds_test,\n",
    "            'rating': test_y})"
   ]
  },
  {
   "cell_type": "code",
   "execution_count": 147,
   "id": "18b7e85d",
   "metadata": {},
   "outputs": [
    {
     "name": "stdout",
     "output_type": "stream",
     "text": [
      "MAE:  1.5799610358265346\n",
      "R2 score:  0.26407033778427047\n"
     ]
    },
    {
     "data": {
      "text/plain": [
       "(1.5799610358265346, 0.26407033778427047)"
      ]
     },
     "execution_count": 147,
     "metadata": {},
     "output_type": "execute_result"
    }
   ],
   "source": [
    "scoreModel(test_y,preds_test)"
   ]
  },
  {
   "cell_type": "code",
   "execution_count": 146,
   "id": "2248a601",
   "metadata": {},
   "outputs": [
    {
     "data": {
      "text/plain": [
       "0.26407033778427047"
      ]
     },
     "execution_count": 146,
     "metadata": {},
     "output_type": "execute_result"
    }
   ],
   "source": [
    "full_pipeline.score(test_X, test_y)"
   ]
  }
 ],
 "metadata": {
  "kernelspec": {
   "display_name": "Python 3 (ipykernel)",
   "language": "python",
   "name": "python3"
  },
  "language_info": {
   "codemirror_mode": {
    "name": "ipython",
    "version": 3
   },
   "file_extension": ".py",
   "mimetype": "text/x-python",
   "name": "python",
   "nbconvert_exporter": "python",
   "pygments_lexer": "ipython3",
   "version": "3.8.8"
  }
 },
 "nbformat": 4,
 "nbformat_minor": 5
}
